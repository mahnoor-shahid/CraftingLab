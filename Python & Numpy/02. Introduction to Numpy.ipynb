{
 "cells": [
  {
   "cell_type": "markdown",
   "id": "34b5f315-c55d-4057-bd0a-38585f7d2a89",
   "metadata": {
    "id": "3cfrOV4dL9hW"
   },
   "source": [
    "## Numpy"
   ]
  },
  {
   "cell_type": "markdown",
   "id": "b1c74827-796b-4800-9030-77044e459860",
   "metadata": {
    "id": "fY12nHhyL9hX"
   },
   "source": [
    "Numpy is the core library for scientific computing in Python. It provides a high-performance multidimensional array object, and tools for working with these arrays. If you are already familiar with MATLAB, you might find this [tutorial](http://wiki.scipy.org/NumPy_for_Matlab_Users) useful to get started with Numpy.\n",
    "\n",
    "Also check this link: https://learnpython.com/blog/python-array-vs-list/"
   ]
  },
  {
   "cell_type": "markdown",
   "id": "5aba6494-feb1-4dc8-94ba-605537c97890",
   "metadata": {
    "id": "lZMyAdqhL9hY"
   },
   "source": [
    "To use Numpy, we first need to import the `numpy` package:"
   ]
  },
  {
   "cell_type": "code",
   "execution_count": null,
   "id": "2c9f6428-2f8b-46a1-a8b1-a7b6115a9924",
   "metadata": {},
   "outputs": [],
   "source": [
    "!pip install numpy"
   ]
  },
  {
   "cell_type": "code",
   "execution_count": 2,
   "id": "137e9fef-6e0c-433f-a355-678f279df498",
   "metadata": {
    "id": "58QdX8BLL9hZ"
   },
   "outputs": [],
   "source": [
    "import numpy as np"
   ]
  },
  {
   "cell_type": "markdown",
   "id": "7940df4a-8702-4823-a016-69a89989c53d",
   "metadata": {
    "id": "DDx6v1EdL9hb"
   },
   "source": [
    "### Arrays"
   ]
  },
  {
   "cell_type": "markdown",
   "id": "71d3ef2d-2575-49f2-8531-6c446e2a8f60",
   "metadata": {
    "id": "f-Zv3f7LL9hc"
   },
   "source": [
    "A numpy array is a grid of values, all of the same type, and is indexed by a tuple of nonnegative integers. The number of dimensions is the rank of the array; the shape of an array is a tuple of integers giving the size of the array along each dimension."
   ]
  },
  {
   "cell_type": "markdown",
   "id": "f00ed3fe-5abf-4e1d-b8e3-927a3c1c7b28",
   "metadata": {
    "id": "_eMTRnZRL9hc"
   },
   "source": [
    "We can initialize numpy arrays from nested Python lists, and access elements using square brackets:"
   ]
  },
  {
   "cell_type": "code",
   "execution_count": null,
   "id": "6340bd55-b503-4429-b266-12c08553a127",
   "metadata": {
    "colab": {
     "base_uri": "https://localhost:8080/",
     "height": 52
    },
    "id": "-l3JrGxCL9hc",
    "outputId": "8d9dad18-c734-4a8a-ca8c-44060a40fb79"
   },
   "outputs": [],
   "source": [
    "a = np.array([100, 200, 300])  # Create a rank 1 array\n",
    "\n",
    "print(type(a))\n",
    "\n",
    "print(a[0])\n",
    "print(a[1])\n",
    "print(a[2])"
   ]
  },
  {
   "cell_type": "code",
   "execution_count": null,
   "id": "92137bb7-738e-4bd2-ba8e-103075cbb6e8",
   "metadata": {},
   "outputs": [],
   "source": [
    "print(a.shape)"
   ]
  },
  {
   "cell_type": "code",
   "execution_count": null,
   "id": "b08eb2b4-0deb-41f0-bc53-5129f1aa96a4",
   "metadata": {},
   "outputs": [],
   "source": [
    "a[0] = 5  # Change an element of the array\n",
    "print(a)"
   ]
  },
  {
   "cell_type": "code",
   "execution_count": null,
   "id": "56a5a0b0-6d11-4d6b-b556-101f16364efa",
   "metadata": {},
   "outputs": [],
   "source": [
    "a = np.array([[100, 200, 300]])\n",
    "print(a.shape)"
   ]
  },
  {
   "cell_type": "code",
   "execution_count": null,
   "id": "1567db18-7684-4be4-b661-f7104ef55477",
   "metadata": {
    "colab": {
     "base_uri": "https://localhost:8080/",
     "height": 52
    },
    "id": "ma6mk-kdL9hh",
    "outputId": "0b54ff2f-e7f1-4b30-c653-9bf81cb8fbb0"
   },
   "outputs": [],
   "source": [
    "b = np.array([[1,2,3],[4,5,6]])   # Create a rank 2 array\n",
    "print(b)"
   ]
  },
  {
   "cell_type": "code",
   "execution_count": null,
   "id": "688dad85-481d-4203-a8b5-3c0827268b7e",
   "metadata": {
    "colab": {
     "base_uri": "https://localhost:8080/",
     "height": 52
    },
    "id": "ymfSHAwtL9hj",
    "outputId": "5bd292d8-c751-43b9-d480-f357dde52342"
   },
   "outputs": [],
   "source": [
    "print(b.shape)"
   ]
  },
  {
   "cell_type": "code",
   "execution_count": null,
   "id": "1dcb8ffa-dd7c-447f-b260-48088b2908e5",
   "metadata": {},
   "outputs": [],
   "source": [
    "print(b[0, 0])\n",
    "print(b[0, 1])\n",
    "print(b[1, 0])"
   ]
  },
  {
   "cell_type": "markdown",
   "id": "ac504332-2ed4-4029-8269-656a3b60d3bd",
   "metadata": {
    "id": "F2qwdyvuL9hn"
   },
   "source": [
    "Numpy also provides many functions to create arrays:"
   ]
  },
  {
   "cell_type": "code",
   "execution_count": 49,
   "id": "fd2bf59e-0fc2-489a-913e-2e606bb28b4a",
   "metadata": {
    "colab": {
     "base_uri": "https://localhost:8080/",
     "height": 52
    },
    "id": "mVTN_EBqL9hn",
    "outputId": "d267c65f-ba90-4043-cedb-f468ab1bcc5d"
   },
   "outputs": [
    {
     "name": "stdout",
     "output_type": "stream",
     "text": [
      "[[0. 0.]\n",
      " [0. 0.]]\n"
     ]
    }
   ],
   "source": [
    "a = np.zeros(shape=(2,2))  # Create an array of all zeros\n",
    "print(a)"
   ]
  },
  {
   "cell_type": "code",
   "execution_count": 50,
   "id": "eda6a0c5-712b-415b-aa3e-8302ee7b3894",
   "metadata": {
    "colab": {
     "base_uri": "https://localhost:8080/",
     "height": 34
    },
    "id": "skiKlNmlL9h5",
    "outputId": "7d1ec1b5-a1fe-4f44-cbe3-cdeacad425f1"
   },
   "outputs": [
    {
     "name": "stdout",
     "output_type": "stream",
     "text": [
      "[[1. 1. 1.]\n",
      " [1. 1. 1.]\n",
      " [1. 1. 1.]\n",
      " [1. 1. 1.]]\n"
     ]
    }
   ],
   "source": [
    "b = np.ones(shape=(4,3))   # Create an array of all ones\n",
    "print(b)"
   ]
  },
  {
   "cell_type": "code",
   "execution_count": 52,
   "id": "f8631d1b-df8f-44d1-a677-a281bb5ed840",
   "metadata": {
    "colab": {
     "base_uri": "https://localhost:8080/",
     "height": 52
    },
    "id": "HtFsr03bL9h7",
    "outputId": "2688b157-2fad-4fc6-f20b-8633207f0326"
   },
   "outputs": [
    {
     "name": "stdout",
     "output_type": "stream",
     "text": [
      "[[7 7]\n",
      " [7 7]]\n"
     ]
    }
   ],
   "source": [
    "c = np.full(shape=(2,2),fill_value=7) # Create a constant array\n",
    "print(c)"
   ]
  },
  {
   "cell_type": "code",
   "execution_count": 55,
   "id": "9d4bac22-a31c-47c0-9002-46af99658fe3",
   "metadata": {
    "colab": {
     "base_uri": "https://localhost:8080/",
     "height": 52
    },
    "id": "-QcALHvkL9h9",
    "outputId": "5035d6fe-cb7e-4222-c972-55fe23c9d4c0"
   },
   "outputs": [
    {
     "name": "stdout",
     "output_type": "stream",
     "text": [
      "[[1. 0. 0.]\n",
      " [0. 1. 0.]\n",
      " [0. 0. 1.]]\n"
     ]
    }
   ],
   "source": [
    "d = np.eye(N=3)        # Create a 3x3 identity matrix\n",
    "print(d)"
   ]
  },
  {
   "cell_type": "code",
   "execution_count": null,
   "id": "5b8a7236-5754-4fea-825b-d5f839a03cc8",
   "metadata": {
    "colab": {
     "base_uri": "https://localhost:8080/",
     "height": 52
    },
    "id": "RCpaYg9qL9iA",
    "outputId": "25f0b387-39cf-42f3-8701-de860cc75e2e"
   },
   "outputs": [],
   "source": [
    "e = np.random.random(size=(5,3)) # Create an array filled with random values\n",
    "print(e)"
   ]
  },
  {
   "cell_type": "code",
   "execution_count": null,
   "id": "8935d5af-8009-44fc-90c0-6c0f56a512b0",
   "metadata": {},
   "outputs": [],
   "source": [
    "f = np.random.randint(25, 50, size=(4, 6))\n",
    "print(f)"
   ]
  },
  {
   "cell_type": "code",
   "execution_count": null,
   "id": "35cb609b-0db5-4bc1-a467-1a9bee466a4a",
   "metadata": {},
   "outputs": [],
   "source": [
    "g = np.arange(2,15,4)  # Create an array from 2 until 15 with steps 4\n",
    "print(g)"
   ]
  },
  {
   "cell_type": "markdown",
   "id": "b1be2721-6615-44f1-83d3-c95e1d3cae98",
   "metadata": {
    "id": "jI5qcSDfL9iC"
   },
   "source": [
    "### Array Indexing"
   ]
  },
  {
   "cell_type": "markdown",
   "id": "eecaf11f-8816-4cf6-9438-5b3f744388d1",
   "metadata": {
    "id": "M-E4MUeVL9iC"
   },
   "source": [
    "Numpy offers several ways to index into arrays."
   ]
  },
  {
   "cell_type": "markdown",
   "id": "e8599d7e-dbd5-4c27-9cfa-ad83608bc296",
   "metadata": {
    "id": "QYv4JyIEL9iD"
   },
   "source": [
    "Slicing: Similar to Python lists, numpy arrays can be sliced. Since arrays may be multidimensional, you must specify a slice for each dimension of the array:"
   ]
  },
  {
   "cell_type": "code",
   "execution_count": 44,
   "id": "c7d58ff5-264d-4f23-93fb-d289ce3d5cfb",
   "metadata": {
    "colab": {
     "base_uri": "https://localhost:8080/",
     "height": 52
    },
    "id": "wLWA0udwL9iD",
    "outputId": "99f08618-c513-4982-8982-b146fc72dab3"
   },
   "outputs": [
    {
     "data": {
      "text/plain": [
       "array([[ 100,  200,  300,  400],\n",
       "       [ 500,  600,  700,  800],\n",
       "       [ 900, 1000, 1100, 1200]])"
      ]
     },
     "execution_count": 44,
     "metadata": {},
     "output_type": "execute_result"
    }
   ],
   "source": [
    "import numpy as np\n",
    "\n",
    "# Create the following rank 2 array with shape (3, 4)\n",
    "# [[ 1  2  3  4]\n",
    "#  [ 5  6  7  8]\n",
    "#  [ 9 10 11 12]]\n",
    "\n",
    "a = np.array([[100,200,300,400], [500,600,700,800], [900,1000,1100,1200]])\n",
    "a"
   ]
  },
  {
   "cell_type": "code",
   "execution_count": 45,
   "id": "1a043079-38cb-4c87-8fc4-497728d5a9fd",
   "metadata": {},
   "outputs": [
    {
     "data": {
      "text/plain": [
       "700"
      ]
     },
     "execution_count": 45,
     "metadata": {},
     "output_type": "execute_result"
    }
   ],
   "source": [
    "a[1,2]"
   ]
  },
  {
   "cell_type": "code",
   "execution_count": 46,
   "id": "970e5671-7220-42e7-9c0d-216189d65ff3",
   "metadata": {},
   "outputs": [
    {
     "data": {
      "text/plain": [
       "array([[ 300],\n",
       "       [ 700],\n",
       "       [1100]])"
      ]
     },
     "execution_count": 46,
     "metadata": {},
     "output_type": "execute_result"
    }
   ],
   "source": [
    "a[:,2:3]"
   ]
  },
  {
   "cell_type": "code",
   "execution_count": 47,
   "id": "9ddc9a1b-fcdf-4e8b-9f8a-5faf1f775cb5",
   "metadata": {},
   "outputs": [
    {
     "data": {
      "text/plain": [
       "array([[ 300],\n",
       "       [ 700],\n",
       "       [1100]])"
      ]
     },
     "execution_count": 47,
     "metadata": {},
     "output_type": "execute_result"
    }
   ],
   "source": [
    "a[0:4,2:3]"
   ]
  },
  {
   "cell_type": "code",
   "execution_count": null,
   "id": "2b7feb5d-9435-498e-899c-d2ff6437b529",
   "metadata": {},
   "outputs": [],
   "source": [
    "a[1:2,:]"
   ]
  },
  {
   "cell_type": "code",
   "execution_count": null,
   "id": "069eb638-4a4e-4087-9019-304e766575c4",
   "metadata": {},
   "outputs": [],
   "source": [
    "a[:,3:4]"
   ]
  },
  {
   "cell_type": "code",
   "execution_count": null,
   "id": "649a23e1-c8cd-49a3-be66-ca867d3704d9",
   "metadata": {},
   "outputs": [],
   "source": [
    "# Use slicing to pull out the subarray consisting of the first 2 rows\n",
    "# and columns 1 and 2; b is the following array of shape (2, 2):\n",
    "# [[2 3]\n",
    "#  [6 7]]\n",
    "b = a[0:2, 1:3]\n",
    "print(b)"
   ]
  },
  {
   "cell_type": "code",
   "execution_count": null,
   "id": "3aff88a3-03e3-4157-943a-c705a6e0a13a",
   "metadata": {
    "colab": {
     "base_uri": "https://localhost:8080/",
     "height": 69
    },
    "id": "EOiEMsmNL9iL",
    "outputId": "ab2ebe48-9002-45a8-9462-fd490b467f40"
   },
   "outputs": [],
   "source": [
    "#a[1:2,:]\n",
    "row_r1 = a[1, :]    # Rank 1 view of the second row of a\n",
    "row_r2 = a[1:2, :]  # Rank 2 view of the second row of a\n",
    "row_r3 = a[[1], :]  # Rank 2 view of the second row of a\n",
    "print(row_r1, row_r1.shape)\n",
    "print(row_r2, row_r2.shape)\n",
    "print(row_r3, row_r3.shape)"
   ]
  },
  {
   "cell_type": "code",
   "execution_count": null,
   "id": "46563c7c-219c-44a4-bc58-2db35f36c32a",
   "metadata": {
    "colab": {
     "base_uri": "https://localhost:8080/",
     "height": 104
    },
    "id": "JXu73pfDL9iN",
    "outputId": "6c589b85-e9b0-4c13-a39d-4cd9fb2f41ac"
   },
   "outputs": [],
   "source": [
    "# We can make the same distinction when accessing columns of an array:\n",
    "col_r1 = a[:, 1]\n",
    "col_r2 = a[:, 1:2]\n",
    "print(col_r1)\n",
    "print(col_r1.shape)\n",
    "print()\n",
    "print(col_r2)\n",
    "print(col_r2.shape)"
   ]
  },
  {
   "cell_type": "code",
   "execution_count": null,
   "id": "5bcf5bc4-f973-46b0-9ecc-066bd9aa3f38",
   "metadata": {
    "colab": {
     "base_uri": "https://localhost:8080/",
     "height": 86
    },
    "id": "6v1PdI1DL9ib",
    "outputId": "89f50f82-de1b-4417-e55c-edbc0ee07584"
   },
   "outputs": [],
   "source": [
    "print(a)"
   ]
  },
  {
   "cell_type": "code",
   "execution_count": null,
   "id": "2da148ff-d7f3-48cf-b3f8-df5691cbb2fc",
   "metadata": {},
   "outputs": [],
   "source": [
    "print(a+10)"
   ]
  },
  {
   "cell_type": "code",
   "execution_count": null,
   "id": "fa752879-9909-467d-b4d9-bf2b734eab1e",
   "metadata": {},
   "outputs": [],
   "source": [
    "print(a*10)"
   ]
  },
  {
   "cell_type": "code",
   "execution_count": null,
   "id": "81bfdfc3-3cbc-4685-8166-c53b82b48803",
   "metadata": {},
   "outputs": [],
   "source": [
    "print(a-10)"
   ]
  },
  {
   "cell_type": "code",
   "execution_count": null,
   "id": "b8357e20-426f-4d59-8c30-028036aa208f",
   "metadata": {},
   "outputs": [],
   "source": [
    "print(a/10)"
   ]
  },
  {
   "cell_type": "markdown",
   "id": "3f2e2b34-1d28-4220-b099-880c6cb3886d",
   "metadata": {
    "id": "kaE8dBGgL9id"
   },
   "source": [
    "Boolean array indexing: Boolean array indexing lets you pick out arbitrary elements of an array. Frequently this type of indexing is used to select the elements of an array that satisfy some condition. Here is an example:"
   ]
  },
  {
   "cell_type": "code",
   "execution_count": 3,
   "id": "64c9e1e7-e47e-48d7-9eb4-4592c489f255",
   "metadata": {
    "colab": {
     "base_uri": "https://localhost:8080/",
     "height": 69
    },
    "id": "32PusjtKL9id",
    "outputId": "8782e8ec-b78d-44d7-8141-23e39750b854"
   },
   "outputs": [
    {
     "name": "stdout",
     "output_type": "stream",
     "text": [
      "[[1 2]\n",
      " [3 4]\n",
      " [5 6]]\n"
     ]
    }
   ],
   "source": [
    "matrix1 = np.array([[1,2], [3, 4], [5, 6]])\n",
    "print(matrix1)"
   ]
  },
  {
   "cell_type": "code",
   "execution_count": 4,
   "id": "886feb20-d994-484a-a65c-9e9c6467bfbc",
   "metadata": {},
   "outputs": [
    {
     "data": {
      "text/plain": [
       "(3, 2)"
      ]
     },
     "execution_count": 4,
     "metadata": {},
     "output_type": "execute_result"
    }
   ],
   "source": [
    "matrix1.shape"
   ]
  },
  {
   "cell_type": "code",
   "execution_count": 5,
   "id": "ad672dfc-6785-4526-96e9-90442a6a8f57",
   "metadata": {},
   "outputs": [
    {
     "name": "stdout",
     "output_type": "stream",
     "text": [
      "[[False False]\n",
      " [ True  True]\n",
      " [ True  True]]\n"
     ]
    }
   ],
   "source": [
    "boolean_values_matrix = matrix1 > 2    # Find the elements of a that are bigger than 2;\n",
    "                            # this returns a numpy array of Booleans of the same\n",
    "                            # shape as a, where each slot of bool_idx tells\n",
    "                            # whether that element of a is > 2.\n",
    "\n",
    "print(boolean_values_matrix)"
   ]
  },
  {
   "cell_type": "code",
   "execution_count": 6,
   "id": "075a3527-0963-4632-a8f6-60ba0189fa9a",
   "metadata": {
    "colab": {
     "base_uri": "https://localhost:8080/",
     "height": 52
    },
    "id": "cb2IRMXaL9if",
    "outputId": "5983f208-3738-472d-d6ab-11fe85b36c95"
   },
   "outputs": [
    {
     "data": {
      "text/plain": [
       "array([3, 4, 5, 6])"
      ]
     },
     "execution_count": 6,
     "metadata": {},
     "output_type": "execute_result"
    }
   ],
   "source": [
    "# We use boolean array indexing to construct a rank 1 array\n",
    "# consisting of the elements of a corresponding to the True values\n",
    "# of bool_idx\n",
    "matrix1[boolean_values_matrix]"
   ]
  },
  {
   "cell_type": "code",
   "execution_count": 16,
   "id": "8ab9a645-5843-493d-b430-c5fffbe9a746",
   "metadata": {},
   "outputs": [
    {
     "data": {
      "text/plain": [
       "array([[nan, nan],\n",
       "       [ 3.,  4.],\n",
       "       [ 5.,  6.]])"
      ]
     },
     "execution_count": 16,
     "metadata": {},
     "output_type": "execute_result"
    }
   ],
   "source": [
    "x = np.where(boolean_values_matrix, matrix1, np.nan)\n",
    "x"
   ]
  },
  {
   "cell_type": "code",
   "execution_count": 18,
   "id": "b6e26d0c-82fc-4b85-85a6-46a1d8620d8f",
   "metadata": {},
   "outputs": [
    {
     "data": {
      "text/plain": [
       "(3, 2)"
      ]
     },
     "execution_count": 18,
     "metadata": {},
     "output_type": "execute_result"
    }
   ],
   "source": [
    "x.shape"
   ]
  },
  {
   "cell_type": "code",
   "execution_count": 19,
   "id": "e6f7fd11-ec19-48f5-8166-c31e63bd70ea",
   "metadata": {},
   "outputs": [
    {
     "data": {
      "text/plain": [
       "array([[nan, nan,  3.],\n",
       "       [ 4.,  5.,  6.]])"
      ]
     },
     "execution_count": 19,
     "metadata": {},
     "output_type": "execute_result"
    }
   ],
   "source": [
    "x.reshape(2,3)"
   ]
  },
  {
   "cell_type": "code",
   "execution_count": 21,
   "id": "056fce4e-b14e-4e7a-a43f-08ad9149b254",
   "metadata": {},
   "outputs": [
    {
     "data": {
      "text/plain": [
       "array([[nan],\n",
       "       [nan],\n",
       "       [ 3.],\n",
       "       [ 4.],\n",
       "       [ 5.],\n",
       "       [ 6.]])"
      ]
     },
     "execution_count": 21,
     "metadata": {},
     "output_type": "execute_result"
    }
   ],
   "source": [
    "x.reshape(6,1)"
   ]
  },
  {
   "cell_type": "code",
   "execution_count": 22,
   "id": "99fbeb32-9344-4bd3-97e7-6c7732b87de0",
   "metadata": {},
   "outputs": [
    {
     "data": {
      "text/plain": [
       "array([[nan, nan,  3.,  4.,  5.,  6.]])"
      ]
     },
     "execution_count": 22,
     "metadata": {},
     "output_type": "execute_result"
    }
   ],
   "source": [
    "x.reshape(1,6)"
   ]
  },
  {
   "cell_type": "markdown",
   "id": "432618e7-848c-4fb5-9b4c-de645fef1abc",
   "metadata": {
    "id": "CdofMonAL9ih"
   },
   "source": [
    "For brevity we have left out a lot of details about numpy array indexing; if you want to know more you should read the documentation."
   ]
  },
  {
   "cell_type": "markdown",
   "id": "f8d25081-2c32-4a8a-9ffa-d12f6cba424c",
   "metadata": {
    "id": "jTctwqdQL9ih"
   },
   "source": [
    "### Datatypes"
   ]
  },
  {
   "cell_type": "markdown",
   "id": "8b5b03c6-9b46-4b9a-a70f-cb9a46100f32",
   "metadata": {
    "id": "kSZQ1WkIL9ih"
   },
   "source": [
    "Every numpy array is a grid of elements of the same type. Numpy provides a large set of numeric datatypes that you can use to construct arrays. Numpy tries to guess a datatype when you create an array, but functions that construct arrays usually also include an optional argument to explicitly specify the datatype. Here is an example:"
   ]
  },
  {
   "cell_type": "code",
   "execution_count": 23,
   "id": "cbfcb7c0-4338-4c7f-967d-a94ca91b2446",
   "metadata": {
    "colab": {
     "base_uri": "https://localhost:8080/",
     "height": 34
    },
    "id": "4za4O0m5L9ih",
    "outputId": "2ea4fb80-a4df-43f9-c162-5665895c13ae"
   },
   "outputs": [
    {
     "name": "stdout",
     "output_type": "stream",
     "text": [
      "Type of x: <class 'numpy.ndarray'>\n",
      "Type of y: <class 'numpy.ndarray'>\n",
      "Type of z: <class 'numpy.ndarray'>\n",
      "dtype of x: int32\n",
      "dtype of y: float64\n",
      "dtype of z: int64\n"
     ]
    }
   ],
   "source": [
    "x = np.array([1, 2])  # Let numpy choose the datatype\n",
    "y = np.array([1.0, 2.0])  # Let numpy choose the datatype\n",
    "z = np.array([1, 2], dtype=np.int64)  # Force a particular datatype\n",
    "\n",
    "# Print the type of each array\n",
    "print(f\"Type of x: {type(x)}\")\n",
    "print(f\"Type of y: {type(y)}\")\n",
    "print(f\"Type of z: {type(z)}\")\n",
    "\n",
    "# Print the dtype of each array\n",
    "print(f\"dtype of x: {x.dtype}\")\n",
    "print(f\"dtype of y: {y.dtype}\")\n",
    "print(f\"dtype of z: {z.dtype}\")"
   ]
  },
  {
   "cell_type": "markdown",
   "id": "78be2b90-f504-4a7a-b031-953896a1a4c3",
   "metadata": {
    "id": "RLVIsZQpL9ik"
   },
   "source": [
    "You can read all about numpy datatypes in the [documentation](http://docs.scipy.org/doc/numpy/reference/arrays.dtypes.html)."
   ]
  },
  {
   "cell_type": "markdown",
   "id": "331a8990-0257-4db2-b198-8fb8c9305757",
   "metadata": {
    "id": "TuB-fdhIL9ik"
   },
   "source": [
    "### Array Math"
   ]
  },
  {
   "cell_type": "markdown",
   "id": "ab348d6b-37d6-4286-9c93-c8a338f0213e",
   "metadata": {
    "id": "18e8V8elL9ik"
   },
   "source": [
    "Basic mathematical functions operate elementwise on arrays, and are available both as operator overloads and as functions in the numpy module:"
   ]
  },
  {
   "cell_type": "code",
   "execution_count": 27,
   "id": "f644c233-be4c-44d0-a9d8-77ca2b3afeaa",
   "metadata": {
    "colab": {
     "base_uri": "https://localhost:8080/",
     "height": 86
    },
    "id": "gHKvBrSKL9il",
    "outputId": "a8a924b1-9d60-4b68-8fd3-e4657ae3f08b"
   },
   "outputs": [],
   "source": [
    "x = np.array([[1,2],[3,4]], dtype=np.float64)\n",
    "y = np.array([[5,6],[7,8]], dtype=np.float64)\n",
    "z = np.array([[5,6],[7,8]])"
   ]
  },
  {
   "cell_type": "code",
   "execution_count": 25,
   "id": "d3ab6894-a4a5-4a61-b29e-60cc883dbed7",
   "metadata": {},
   "outputs": [
    {
     "name": "stdout",
     "output_type": "stream",
     "text": [
      "[[1. 2.]\n",
      " [3. 4.]]\n"
     ]
    }
   ],
   "source": [
    "print(x)"
   ]
  },
  {
   "cell_type": "code",
   "execution_count": 26,
   "id": "282b3ddf-df64-4cb6-b8c4-c541e8aaaafc",
   "metadata": {},
   "outputs": [
    {
     "name": "stdout",
     "output_type": "stream",
     "text": [
      "[[5. 6.]\n",
      " [7. 8.]]\n"
     ]
    }
   ],
   "source": [
    "print(y)"
   ]
  },
  {
   "cell_type": "code",
   "execution_count": 28,
   "id": "8b0fe117-6eae-4002-b53b-d23b9481658c",
   "metadata": {},
   "outputs": [
    {
     "name": "stdout",
     "output_type": "stream",
     "text": [
      "[[5 6]\n",
      " [7 8]]\n"
     ]
    }
   ],
   "source": [
    "print(z)"
   ]
  },
  {
   "cell_type": "code",
   "execution_count": 29,
   "id": "59d0bbd2-d6d6-4588-bba9-80b8126dd293",
   "metadata": {},
   "outputs": [
    {
     "name": "stdout",
     "output_type": "stream",
     "text": [
      "[[ 6.  8.]\n",
      " [10. 12.]]\n"
     ]
    }
   ],
   "source": [
    "# Elementwise sum\n",
    "print(x + y)"
   ]
  },
  {
   "cell_type": "code",
   "execution_count": 30,
   "id": "b35b16b3-c9dd-42a5-bf92-89326f2d573a",
   "metadata": {},
   "outputs": [
    {
     "name": "stdout",
     "output_type": "stream",
     "text": [
      "[[ 6.  8.]\n",
      " [10. 12.]]\n"
     ]
    }
   ],
   "source": [
    "# Elementwise sum\n",
    "print(np.add(x, y))"
   ]
  },
  {
   "cell_type": "code",
   "execution_count": 31,
   "id": "c99b0d15-972e-4899-b7ff-23f66d975e33",
   "metadata": {
    "colab": {
     "base_uri": "https://localhost:8080/",
     "height": 86
    },
    "id": "1fZtIAMxL9in",
    "outputId": "122f1380-6144-4d6c-9d31-f62d839889a2"
   },
   "outputs": [
    {
     "name": "stdout",
     "output_type": "stream",
     "text": [
      "[[-4. -4.]\n",
      " [-4. -4.]]\n"
     ]
    }
   ],
   "source": [
    "# Elementwise difference\n",
    "print(x - y)"
   ]
  },
  {
   "cell_type": "code",
   "execution_count": 32,
   "id": "620dc44e-285e-4c4d-b0a8-e01b59faf2bb",
   "metadata": {},
   "outputs": [
    {
     "name": "stdout",
     "output_type": "stream",
     "text": [
      "[[-4. -4.]\n",
      " [-4. -4.]]\n"
     ]
    }
   ],
   "source": [
    "# Elementwise difference\n",
    "print(np.subtract(x, y))"
   ]
  },
  {
   "cell_type": "code",
   "execution_count": 33,
   "id": "31716722-91cb-4b7c-97bd-9ab26c408825",
   "metadata": {
    "colab": {
     "base_uri": "https://localhost:8080/",
     "height": 86
    },
    "id": "nil4AScML9io",
    "outputId": "038c8bb2-122b-4e59-c0a8-a091014fe68e"
   },
   "outputs": [
    {
     "name": "stdout",
     "output_type": "stream",
     "text": [
      "[[ 5. 12.]\n",
      " [21. 32.]]\n",
      "[[ 5. 12.]\n",
      " [21. 32.]]\n"
     ]
    }
   ],
   "source": [
    "# Elementwise product; \n",
    "print(x * y)\n",
    "print(np.multiply(x, y))"
   ]
  },
  {
   "cell_type": "code",
   "execution_count": 34,
   "id": "d28c2856-db57-48e3-898e-155893835ac0",
   "metadata": {
    "colab": {
     "base_uri": "https://localhost:8080/",
     "height": 86
    },
    "id": "0JoA4lH6L9ip",
    "outputId": "12351a74-7871-4bc2-97ce-a508bf4810da"
   },
   "outputs": [
    {
     "name": "stdout",
     "output_type": "stream",
     "text": [
      "[[0.2        0.33333333]\n",
      " [0.42857143 0.5       ]]\n",
      "[[0.2        0.33333333]\n",
      " [0.42857143 0.5       ]]\n"
     ]
    }
   ],
   "source": [
    "# Elementwise division; \n",
    "print(x / y)\n",
    "print(np.divide(x, y))"
   ]
  },
  {
   "cell_type": "code",
   "execution_count": 35,
   "id": "b7bf1ecb-66da-4dd7-a480-a505fe1cefb1",
   "metadata": {
    "colab": {
     "base_uri": "https://localhost:8080/",
     "height": 52
    },
    "id": "I3FnmoSeL9iu",
    "outputId": "46f4575a-2e5e-4347-a34e-0cc5bd280110"
   },
   "outputs": [
    {
     "name": "stdout",
     "output_type": "stream",
     "text": [
      "219\n",
      "219\n"
     ]
    }
   ],
   "source": [
    "v = np.array([9,10])\n",
    "w = np.array([11, 12])\n",
    "\n",
    "# Inner product of vectors; v.w=(9×11)+(10×12); both produce 219\n",
    "print(v.dot(w))\n",
    "print(np.dot(v, w))"
   ]
  },
  {
   "cell_type": "markdown",
   "id": "07212a32-0e3b-4340-b8ff-87d41be1a3d3",
   "metadata": {
    "id": "vmxPbrHASVeA"
   },
   "source": [
    "You can also use the `@` operator which is equivalent to numpy's `dot` operator."
   ]
  },
  {
   "cell_type": "code",
   "execution_count": 36,
   "id": "6e242940-34f8-4cca-9469-c8cff71bf987",
   "metadata": {
    "colab": {
     "base_uri": "https://localhost:8080/",
     "height": 34
    },
    "id": "vyrWA-mXSdtt",
    "outputId": "a9aae545-2c93-4649-b220-b097655955f6"
   },
   "outputs": [
    {
     "name": "stdout",
     "output_type": "stream",
     "text": [
      "219\n"
     ]
    }
   ],
   "source": [
    "print(v @ w)"
   ]
  },
  {
   "cell_type": "markdown",
   "id": "e5a00e23-2594-417a-8c8a-76acdd52c73f",
   "metadata": {
    "id": "FbE-1If_L9i0"
   },
   "source": [
    "Numpy provides many useful functions for performing computations on arrays; one of the most useful is `sum`:"
   ]
  },
  {
   "cell_type": "code",
   "execution_count": 41,
   "id": "54bd55f6-b52e-47ce-aea7-e559389ddbd5",
   "metadata": {
    "colab": {
     "base_uri": "https://localhost:8080/",
     "height": 69
    },
    "id": "DZUdZvPrL9i0",
    "outputId": "99cad470-d692-4b25-91c9-a57aa25f4c6e"
   },
   "outputs": [
    {
     "name": "stdout",
     "output_type": "stream",
     "text": [
      "[[ 1  2]\n",
      " [ 3  4]\n",
      " [10 20]]\n",
      "40\n",
      "[14 26]\n",
      "[ 3  7 30]\n"
     ]
    }
   ],
   "source": [
    "x = np.array([[1,2],[3,4], [10,20]])\n",
    "print(x)\n",
    "print(np.sum(x))  # Compute sum of all elements; prints \"10\"\n",
    "print(np.sum(x, axis=0))  # Compute sum of each column; prints \"[4 6]\"\n",
    "print(np.sum(x, axis=1))  # Compute sum of each row; prints \"[3 7]\""
   ]
  },
  {
   "cell_type": "markdown",
   "id": "d936b331-50d2-4131-88e2-983c617df703",
   "metadata": {
    "id": "ahdVW4iUL9i3"
   },
   "source": [
    "You can find the full list of mathematical functions provided by numpy in the [documentation](http://docs.scipy.org/doc/numpy/reference/routines.math.html).\n",
    "\n",
    "Apart from computing mathematical functions using arrays, we frequently need to reshape or otherwise manipulate data in arrays. The simplest example of this type of operation is transposing a matrix; to transpose a matrix, simply use the T attribute of an array object:"
   ]
  },
  {
   "cell_type": "code",
   "execution_count": 42,
   "id": "13ce20f6-9cb7-4744-b7cb-1fbc701523a4",
   "metadata": {
    "colab": {
     "base_uri": "https://localhost:8080/",
     "height": 104
    },
    "id": "63Yl1f3oL9i3",
    "outputId": "c75ac7ba-4351-42f8-a09c-a4e0d966ab50"
   },
   "outputs": [
    {
     "name": "stdout",
     "output_type": "stream",
     "text": [
      "[[ 1  2]\n",
      " [ 3  4]\n",
      " [10 20]]\n",
      "transpose\n",
      " [[ 1  3 10]\n",
      " [ 2  4 20]]\n"
     ]
    }
   ],
   "source": [
    "print(x)\n",
    "print(\"transpose\\n\", x.T)"
   ]
  },
  {
   "cell_type": "code",
   "execution_count": 43,
   "id": "ee46534e-b9c2-421c-83b3-e07a4aeabc62",
   "metadata": {
    "colab": {
     "base_uri": "https://localhost:8080/",
     "height": 104
    },
    "id": "mkk03eNIL9i4",
    "outputId": "499eec5a-55b7-473a-d4aa-9d023d63885a"
   },
   "outputs": [
    {
     "name": "stdout",
     "output_type": "stream",
     "text": [
      "[[1 2 3]]\n",
      "transpose\n",
      " [[1]\n",
      " [2]\n",
      " [3]]\n"
     ]
    }
   ],
   "source": [
    "v = np.array([[1,2,3]])\n",
    "print(v )\n",
    "print(\"transpose\\n\", v.T)"
   ]
  },
  {
   "cell_type": "markdown",
   "id": "38b3e8cf-d333-4020-b54b-d4e9a41f2a7f",
   "metadata": {},
   "source": [
    "### Array Statistics"
   ]
  },
  {
   "cell_type": "code",
   "execution_count": null,
   "id": "056f75ab-7e47-46fb-ab41-4da51a761c87",
   "metadata": {},
   "outputs": [],
   "source": [
    "# Create a 1D array of 15 random integers between 1 and 100\n",
    "array_2d = np.random.randint(1, 10, size=(5,5))\n",
    "print(array_2d)"
   ]
  },
  {
   "cell_type": "code",
   "execution_count": null,
   "id": "9765afe9-4b8b-4518-bc84-2ad9e28ba3fa",
   "metadata": {},
   "outputs": [],
   "source": [
    "# Calculate mean\n",
    "mean_value = np.mean(array_2d)\n",
    "\n",
    "# Calculate median\n",
    "median_value = np.median(array_2d)\n",
    "\n",
    "# Calculate standard deviation\n",
    "std_dev = np.std(array_2d)\n",
    "\n",
    "print(f\"Mean: {mean_value}\")\n",
    "print(f\"Median: {median_value}\")\n",
    "print(f\"Standard Deviation: {std_dev}\")"
   ]
  },
  {
   "cell_type": "code",
   "execution_count": null,
   "id": "b1c6d7cf-700c-4fee-be70-62c49438e114",
   "metadata": {},
   "outputs": [],
   "source": [
    "# Find the minimum and maximum values overall\n",
    "min_value = np.min(array_2d)\n",
    "max_value = np.max(array_2d)\n",
    "\n",
    "# Find the minimum and maximum values for each row\n",
    "min_per_row = np.min(array_2d, axis=1)\n",
    "max_per_row = np.max(array_2d, axis=1)\n",
    "\n",
    "print(f\"2D Array:\\n{array_2d}\")\n",
    "print(f\"Overall Minimum Value: {min_value}\")\n",
    "print(f\"Overall Maximum Value: {max_value}\")\n",
    "print(f\"Minimum Values per Row: {min_per_row}\")\n",
    "print(f\"Maximum Values per Row: {max_per_row}\")"
   ]
  },
  {
   "cell_type": "code",
   "execution_count": null,
   "id": "662b4608-874f-4d5c-84b8-1fae34e1f5b8",
   "metadata": {},
   "outputs": [],
   "source": [
    "# Create a 1D array of random integers\n",
    "array = np.random.randint(1, 100, 10)\n",
    "\n",
    "# Calculate variance\n",
    "variance = np.var(array)\n",
    "std_dev = np.std(array)\n",
    "\n",
    "print(f\"Array: {array}\")\n",
    "print(f\"Variance: {variance}\")\n",
    "print(f\"Standard Deviation: {std_dev}\")"
   ]
  },
  {
   "cell_type": "markdown",
   "id": "6468354b-3fd4-452f-8c2e-f9cf7aaa4e7b",
   "metadata": {},
   "source": [
    "## 1. Basic Array Creation\n",
    "\n",
    "**Q1**: Create a 1D NumPy array containing the numbers from 0 to 9."
   ]
  },
  {
   "cell_type": "code",
   "execution_count": null,
   "id": "ae52bc6c-7960-4260-9399-9d6f567858bd",
   "metadata": {},
   "outputs": [],
   "source": []
  },
  {
   "cell_type": "markdown",
   "id": "6dfea299-9612-4291-b103-87f454f1369d",
   "metadata": {},
   "source": [
    "**Q2**: Create a 3x3 matrix filled with zeros."
   ]
  },
  {
   "cell_type": "code",
   "execution_count": null,
   "id": "9bc429e5-375f-4bf2-ac22-ce6d33024bab",
   "metadata": {},
   "outputs": [],
   "source": []
  },
  {
   "cell_type": "markdown",
   "id": "fa27ea5d-40f5-4f27-b1ad-80ac6ba8c5ce",
   "metadata": {},
   "source": [
    "\n",
    "**Q3**: Create a 4x4 matrix filled with the number 7.\n"
   ]
  },
  {
   "cell_type": "code",
   "execution_count": null,
   "id": "13291c34-ca6d-43be-b117-1358ca97f908",
   "metadata": {},
   "outputs": [],
   "source": []
  },
  {
   "cell_type": "markdown",
   "id": "8dfcaf15-944d-4e39-83da-cc75ab5fbfc7",
   "metadata": {},
   "source": [
    "\n",
    "## 2. Basic Array Operations\n",
    "\n",
    "**Q4**: Create a 1D array of 5 elements and multiply each element by 2.\n"
   ]
  },
  {
   "cell_type": "code",
   "execution_count": null,
   "id": "4db29355-a31c-4d10-ac2f-ef1ab960b8cc",
   "metadata": {},
   "outputs": [],
   "source": []
  },
  {
   "cell_type": "markdown",
   "id": "1b73e612-5662-412b-a16a-3805eadbdf52",
   "metadata": {},
   "source": [
    "\n",
    "**Q5**: Create two 1D arrays and add them together."
   ]
  },
  {
   "cell_type": "code",
   "execution_count": null,
   "id": "5309b60e-966c-4f95-8a3a-7c76692bd329",
   "metadata": {},
   "outputs": [],
   "source": []
  },
  {
   "cell_type": "markdown",
   "id": "0af626c0-86c8-4f6e-a7bd-7351a4b9655b",
   "metadata": {},
   "source": [
    "**Q6**: Find the maximum value in a 1D array of 10 random integers."
   ]
  },
  {
   "cell_type": "code",
   "execution_count": null,
   "id": "8d28f5c8-9f3f-4d54-a266-9142f6e8cb8f",
   "metadata": {},
   "outputs": [],
   "source": []
  },
  {
   "cell_type": "markdown",
   "id": "2a9a5798-4063-426d-8113-0ecae409ef6f",
   "metadata": {},
   "source": [
    "## 3. Basic Indexing\n",
    "\n",
    "**Q7**: Create a 1D array of 10 elements and print the 5th element.\n"
   ]
  },
  {
   "cell_type": "code",
   "execution_count": null,
   "id": "9c199079-d222-48ca-874e-31a37a3c03cd",
   "metadata": {},
   "outputs": [],
   "source": []
  },
  {
   "cell_type": "markdown",
   "id": "fc19b5b1-4a5e-4e09-bc28-62653842a70a",
   "metadata": {},
   "source": [
    "**Q8**: Create a 2x3 matrix and print the element in the second row and third column."
   ]
  },
  {
   "cell_type": "code",
   "execution_count": null,
   "id": "2677ec42-cc05-4b40-a129-87e54493ddef",
   "metadata": {},
   "outputs": [],
   "source": []
  },
  {
   "cell_type": "markdown",
   "id": "bf49bc8f-f77c-4423-ba17-61b6f735dfe9",
   "metadata": {},
   "source": [
    "**Q9**: Create a 1D array of 10 elements and print the first 3 elements."
   ]
  },
  {
   "cell_type": "code",
   "execution_count": null,
   "id": "b937423a-139f-41a1-a011-6bc3d6b80d36",
   "metadata": {},
   "outputs": [],
   "source": []
  },
  {
   "cell_type": "markdown",
   "id": "f025bdcf-919a-446e-892e-d2f95cfdd4a9",
   "metadata": {},
   "source": [
    "## 4. Basic Reshaping\n",
    "\n",
    "**Q10**: Create a 1D array of 12 elements and reshape it into a 3x4 matrix.\n"
   ]
  },
  {
   "cell_type": "code",
   "execution_count": null,
   "id": "f79e1b8a-399e-4fc4-9b7b-46218dbc07ea",
   "metadata": {},
   "outputs": [],
   "source": []
  },
  {
   "cell_type": "markdown",
   "id": "6e53dae3-1119-4027-9e7f-c9f748340d95",
   "metadata": {},
   "source": [
    "\n",
    "**Q11**: Create a 2x6 matrix and reshape it into a 3x4 matrix.\n",
    "\n"
   ]
  },
  {
   "cell_type": "code",
   "execution_count": null,
   "id": "e964fb0e-df20-4411-ac49-30c8832b23ab",
   "metadata": {},
   "outputs": [],
   "source": []
  },
  {
   "cell_type": "markdown",
   "id": "1c43b104-10ce-46be-bc72-729b4fd5a0f3",
   "metadata": {},
   "source": [
    "## 5. Basic Mathematical Operations\n",
    "\n",
    "**Q12**: Create a 2x2 matrix and compute the sum of all its elements."
   ]
  },
  {
   "cell_type": "code",
   "execution_count": null,
   "id": "388e6f6a-442f-4b57-8a82-bed3f0b8ba60",
   "metadata": {},
   "outputs": [],
   "source": []
  },
  {
   "cell_type": "markdown",
   "id": "90dd4dff-d9a2-4655-87bd-356d4d69b2f5",
   "metadata": {},
   "source": [
    "## 6. Array Slicing\n",
    "\n",
    "**Q13**: Create a 1D array of 20 elements. Extract the elements from index 5 to 15.\n",
    "\n"
   ]
  },
  {
   "cell_type": "code",
   "execution_count": null,
   "id": "2aff0335-3146-4e27-a283-b19c2d97c6c5",
   "metadata": {},
   "outputs": [],
   "source": []
  },
  {
   "cell_type": "markdown",
   "id": "1f2a820e-7a11-4069-9c26-862d30d6f36d",
   "metadata": {},
   "source": [
    "\n",
    "**Q14**: Create a 3x5 matrix. Extract the first two rows and the last three columns.\n",
    "\n"
   ]
  },
  {
   "cell_type": "code",
   "execution_count": null,
   "id": "a7107d86-dc38-4cb5-98b3-33c30ca24ae2",
   "metadata": {},
   "outputs": [],
   "source": []
  },
  {
   "cell_type": "markdown",
   "id": "de917d4e-5020-45a8-b3dc-62835a50a278",
   "metadata": {},
   "source": [
    "**Q15**: Create a 5x5 matrix of random integers. Extract the diagonal elements.\n",
    "\n"
   ]
  },
  {
   "cell_type": "code",
   "execution_count": null,
   "id": "b1d69515-20d9-4fac-b166-4d6da63c5191",
   "metadata": {},
   "outputs": [],
   "source": []
  },
  {
   "cell_type": "markdown",
   "id": "3175e5b2-529a-45b2-bbcc-4479c10459b5",
   "metadata": {},
   "source": [
    "## 7. Basic Array Statistics\n",
    "\n",
    "**Q16**: Create a 1D array of 15 random integers between 1 and 100. Find the mean, median, and standard deviation of the array.\n",
    "\n"
   ]
  },
  {
   "cell_type": "code",
   "execution_count": null,
   "id": "1497ebf5-b55f-49c2-b6f2-bbdbc78ab915",
   "metadata": {},
   "outputs": [],
   "source": []
  },
  {
   "cell_type": "markdown",
   "id": "1cda81db-6e9e-4121-9b0a-8b989a3f3ef8",
   "metadata": {},
   "source": [
    "**Q17**: Create a 2D array of shape (4, 4) filled with random numbers. Find the minimum and maximum values for each row.\n"
   ]
  },
  {
   "cell_type": "code",
   "execution_count": null,
   "id": "7094eb72-75b9-4e70-a997-e64b245763d9",
   "metadata": {},
   "outputs": [],
   "source": []
  },
  {
   "cell_type": "markdown",
   "id": "add212fc-7850-49c0-8fa3-eb556b26c9a2",
   "metadata": {},
   "source": [
    "\n",
    "**Q18**: Create a 1D array of 10 random integers. Count how many elements are greater than 5."
   ]
  },
  {
   "cell_type": "code",
   "execution_count": null,
   "id": "adaeb755-f406-4d98-953c-b966fa52b9c7",
   "metadata": {},
   "outputs": [],
   "source": []
  }
 ],
 "metadata": {
  "kernelspec": {
   "display_name": "Python 3 (ipykernel)",
   "language": "python",
   "name": "python3"
  },
  "language_info": {
   "codemirror_mode": {
    "name": "ipython",
    "version": 3
   },
   "file_extension": ".py",
   "mimetype": "text/x-python",
   "name": "python",
   "nbconvert_exporter": "python",
   "pygments_lexer": "ipython3",
   "version": "3.12.2"
  }
 },
 "nbformat": 4,
 "nbformat_minor": 5
}
