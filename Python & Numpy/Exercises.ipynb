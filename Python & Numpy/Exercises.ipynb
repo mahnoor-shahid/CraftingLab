{
 "cells": [
  {
   "cell_type": "markdown",
   "id": "5ce419d3-7576-4c04-8e9c-8cdff8ac16cd",
   "metadata": {},
   "source": [
    "# Unit 1 - Easy"
   ]
  },
  {
   "cell_type": "markdown",
   "id": "d436e7a1-db10-44e6-8d5a-9043fa90db40",
   "metadata": {},
   "source": [
    "<div class=\"alert alert-block alert-info\" style=\"background-color: white; border: 3px solid; padding: 10px\">\n",
    "    <b><i class=\"fa fa-info-circle\" aria-hidden=\"true\"></i>&nbsp; Exercise 1</b><br>\n",
    "    <p style=\"color: black\">\n",
    "        Take two inputs from the user. One will be an integer. The other will be a float number. Then multiply them to display the output.\n",
    "    </p>\n",
    "<div>"
   ]
  },
  {
   "cell_type": "markdown",
   "id": "0455b3e3-ed24-4380-856d-889f50d6aa7a",
   "metadata": {},
   "source": [
    "## Hints\n",
    "<div class=\"alert alert-success\">\n",
    "    Use the method input() to take the input from the user. By default, input() returns a string. Then use int() and float() to convert the input to a number. And then multiply them. That’s it.\n",
    "</div>"
   ]
  },
  {
   "cell_type": "code",
   "execution_count": null,
   "id": "d7e35d71-8414-4385-830c-3389f5d834ad",
   "metadata": {},
   "outputs": [],
   "source": [
    "## your code here"
   ]
  },
  {
   "cell_type": "code",
   "execution_count": null,
   "id": "4bf4dbcb-db3e-44c8-861b-6177828f5d61",
   "metadata": {},
   "outputs": [],
   "source": []
  },
  {
   "cell_type": "markdown",
   "id": "6082c3bd-750c-4bc3-8105-cad85a43e0db",
   "metadata": {},
   "source": [
    "<div class=\"alert alert-block alert-info\" style=\"background-color: white; border: 3px solid; padding: 10px\">\n",
    "    <b><i class=\"fa fa-info-circle\" aria-hidden=\"true\"></i>&nbsp; Exercise 2</b><br>\n",
    "    <p style=\"color: black\">\n",
    "        Take two numbers from the users. Calculate the result = first number to the power second number.\n",
    "    </p>\n",
    "<div>"
   ]
  },
  {
   "cell_type": "markdown",
   "id": "a2e59621-fca1-4d1f-8e40-449b4d25064c",
   "metadata": {},
   "source": [
    "## Hints\n",
    "<div class=\"alert alert-success\">\n",
    "    To power, you will need to use two asterisks symbols (two multiplication symbols). For example 4 to the power 3 will be result = 4**3\n",
    "</div>"
   ]
  },
  {
   "cell_type": "code",
   "execution_count": null,
   "id": "e59da7ee-4438-4b07-9502-ca28b8f4c2f6",
   "metadata": {},
   "outputs": [],
   "source": [
    "## your code here"
   ]
  },
  {
   "cell_type": "code",
   "execution_count": null,
   "id": "0d7abd1a-7ab0-49f3-9e36-5fca48bcfc01",
   "metadata": {},
   "outputs": [],
   "source": []
  },
  {
   "cell_type": "markdown",
   "id": "d071da48-40b9-4e9f-aaac-24c58363fd04",
   "metadata": {},
   "source": [
    "<div class=\"alert alert-block alert-info\" style=\"background-color: white; border: 3px solid; padding: 10px\">\n",
    "    <b><i class=\"fa fa-info-circle\" aria-hidden=\"true\"></i>&nbsp; Exercise 3</b><br>\n",
    "    <p style=\"color: black\">\n",
    "       Create a random number between 0 to 10.\n",
    "    </p>\n",
    "<div>"
   ]
  },
  {
   "cell_type": "markdown",
   "id": "e04a18ac-3d0a-4aa2-94b1-9b615ae6fcfe",
   "metadata": {},
   "source": [
    "## Hints\n",
    "<div class=\"alert alert-success\">\n",
    "    To create a random number, you have to import a built-in library named random. And then you can call the randint(start, end) method on it.\n",
    "</div>"
   ]
  },
  {
   "cell_type": "code",
   "execution_count": null,
   "id": "8ef5b786-fee6-46c9-a0a6-8f45f9f93a10",
   "metadata": {},
   "outputs": [],
   "source": [
    "## your code here"
   ]
  },
  {
   "cell_type": "code",
   "execution_count": null,
   "id": "e8b3b177-1c10-4234-b475-458819037a11",
   "metadata": {},
   "outputs": [],
   "source": []
  },
  {
   "cell_type": "markdown",
   "id": "668abe8e-3a97-473c-b005-cd060a9b25b7",
   "metadata": {},
   "source": [
    "<div class=\"alert alert-block alert-info\" style=\"background-color: white; border: 3px solid; padding: 10px\">\n",
    "    <b><i class=\"fa fa-info-circle\" aria-hidden=\"true\"></i>&nbsp; Exercise 4</b><br>\n",
    "    <p style=\"color: black\">\n",
    "       Write a function called \"swappy\" which swaps two variables. To swap two variables: the value of the first variable will become the value of the second variable. And the value of the second variable will become the value of the first variable.\n",
    "    </p>\n",
    "<div>"
   ]
  },
  {
   "cell_type": "markdown",
   "id": "51709458-1dbc-484c-b7d5-191c326be650",
   "metadata": {},
   "source": [
    "## Hints\n",
    "<div class=\"alert alert-success\">\n",
    "    You can use temporary variable within the function or simply change the orientation of the variables you return.\n",
    "</div>"
   ]
  },
  {
   "cell_type": "code",
   "execution_count": null,
   "id": "494fc9bd-784f-4234-a50a-e5e2bd54de67",
   "metadata": {},
   "outputs": [],
   "source": [
    "## your code here"
   ]
  },
  {
   "cell_type": "code",
   "execution_count": null,
   "id": "bc454a91-ae29-4539-b0db-5d27685da99e",
   "metadata": {},
   "outputs": [],
   "source": []
  },
  {
   "cell_type": "code",
   "execution_count": null,
   "id": "a3b57e6c-39c7-469a-91df-0544851fee3c",
   "metadata": {},
   "outputs": [],
   "source": []
  },
  {
   "cell_type": "code",
   "execution_count": null,
   "id": "7bbade75-407b-43e7-8d10-23371201e2fa",
   "metadata": {},
   "outputs": [],
   "source": []
  },
  {
   "cell_type": "markdown",
   "id": "86156703-28a6-4d5a-97d3-0c62256f7a58",
   "metadata": {},
   "source": [
    "# Unit 2 - Number Related "
   ]
  },
  {
   "cell_type": "markdown",
   "id": "6eef7db2-6184-4713-86a3-407cd45b0974",
   "metadata": {},
   "source": [
    "<div class=\"alert alert-block alert-info\" style=\"background-color: white; border: 3px solid; padding: 10px\">\n",
    "    <b><i class=\"fa fa-info-circle\" aria-hidden=\"true\"></i>&nbsp; Exercise 1</b><br>\n",
    "    <p style=\"color: black\">\n",
    "       Take any arbitrary numbers as list and return the maximum and minimum of all the numbers.\n",
    "    </p>\n",
    "<div>"
   ]
  },
  {
   "cell_type": "markdown",
   "id": "14cbc417-d7e8-4cee-9024-3725404d765c",
   "metadata": {},
   "source": [
    "## Hints\n",
    "<div class=\"alert alert-success\">\n",
    "    You can write a method the compare all the numbers return back the maximum and minimum. Using numpy arrays would be more efficient.\n",
    "</div>"
   ]
  },
  {
   "cell_type": "code",
   "execution_count": null,
   "id": "8ebf4bdd-294b-4dc4-9571-2fb59298db4f",
   "metadata": {},
   "outputs": [],
   "source": [
    "## your code here"
   ]
  },
  {
   "cell_type": "code",
   "execution_count": null,
   "id": "9f28c8fa-a5b2-4f8e-912a-dbf8e8e0b7a6",
   "metadata": {},
   "outputs": [],
   "source": []
  },
  {
   "cell_type": "markdown",
   "id": "c9f9dc6d-1e71-4c41-b09f-e7f2b004bbdc",
   "metadata": {},
   "source": [
    "<div class=\"alert alert-block alert-info\" style=\"background-color: white; border: 3px solid; padding: 10px\">\n",
    "    <b><i class=\"fa fa-info-circle\" aria-hidden=\"true\"></i>&nbsp; Exercise 2</b><br>\n",
    "    <p style=\"color: black\">\n",
    "       Take any arbitrary numbers as list and return the average of all the numbers.\n",
    "    </p>\n",
    "<div>"
   ]
  },
  {
   "cell_type": "markdown",
   "id": "6e6ed0e4-c37b-4b8c-bc61-4f4aaa0a8659",
   "metadata": {},
   "source": [
    "## Hints\n",
    "<div class=\"alert alert-success\">\n",
    "    You can write a sum all the numbers and divide with the len() of the list. Using numpy arrays would be more efficient.\n",
    "</div>"
   ]
  },
  {
   "cell_type": "code",
   "execution_count": null,
   "id": "4db9b272-05c0-431f-8092-d99f313efb12",
   "metadata": {},
   "outputs": [],
   "source": [
    "## your code here"
   ]
  },
  {
   "cell_type": "code",
   "execution_count": null,
   "id": "8fb52e1b-090c-4f3e-8494-5f63c4a871ca",
   "metadata": {},
   "outputs": [],
   "source": []
  },
  {
   "cell_type": "code",
   "execution_count": null,
   "id": "2908225a-4a97-46a7-9b78-bb5dca4a342f",
   "metadata": {},
   "outputs": [],
   "source": []
  },
  {
   "cell_type": "code",
   "execution_count": null,
   "id": "5d7e6d1b-b9f4-4bea-ab37-a2540b8d77dc",
   "metadata": {},
   "outputs": [],
   "source": []
  },
  {
   "cell_type": "markdown",
   "id": "92e37afd-5f22-432d-932f-867e3dcd5067",
   "metadata": {},
   "source": [
    "# Unit 3 - Challenging"
   ]
  },
  {
   "cell_type": "markdown",
   "id": "9f6515be-cb4b-4f26-8a59-a04737679306",
   "metadata": {},
   "source": [
    "<div class=\"alert alert-block alert-info\" style=\"background-color: white; border: 3px solid; padding: 10px\">\n",
    "    <b><i class=\"fa fa-info-circle\" aria-hidden=\"true\"></i>&nbsp; Exercise 1</b><br>\n",
    "    <p style=\"color: black\">\n",
    "       Reverse a string. If the input is: Hello World. The output should be: .dlroW olleH\n",
    "    </p>\n",
    "<div>"
   ]
  },
  {
   "cell_type": "markdown",
   "id": "6340b55d-e250-4e8c-b939-6bee54fa9de1",
   "metadata": {},
   "source": [
    "## Hints\n",
    "<div class=\"alert alert-success\">\n",
    "    A string is almost like a list. A list of characters. You can access any element by index. You can run a for loop on it. You will get each character as an element. Besides, you can also add two string or join two characters\n",
    "</div>"
   ]
  },
  {
   "cell_type": "code",
   "execution_count": null,
   "id": "a8c163d5-5e0c-4be6-a074-c541814192d3",
   "metadata": {},
   "outputs": [],
   "source": [
    "## your code here"
   ]
  },
  {
   "cell_type": "code",
   "execution_count": null,
   "id": "0a7590d3-e769-4a0e-a6a9-fd67484d8d4a",
   "metadata": {},
   "outputs": [],
   "source": []
  },
  {
   "cell_type": "markdown",
   "id": "f799fae2-d735-4f9a-a565-a8b2f8f8dc7b",
   "metadata": {},
   "source": [
    "<div class=\"alert alert-block alert-info\" style=\"background-color: white; border: 3px solid; padding: 10px\">\n",
    "    <b><i class=\"fa fa-info-circle\" aria-hidden=\"true\"></i>&nbsp; Exercise 2</b><br>\n",
    "    <p style=\"color: black\">\n",
    "       You borrowed $5000 for 2 years with 2% interest per year. Calculate the simple interest to know how much you have to pay?\n",
    "    </p>\n",
    "<div>"
   ]
  },
  {
   "cell_type": "markdown",
   "id": "4f557db5-41ca-40e8-9912-7b10097576d7",
   "metadata": {},
   "source": [
    "## Hints\n",
    "<div class=\"alert alert-success\">\n",
    "Just take amount, duration and interest rate. You have to multiply these three. And, don’t forget: you have to convert percent to a fraction by dividing it by 100.\n",
    "</div>"
   ]
  },
  {
   "cell_type": "code",
   "execution_count": null,
   "id": "8e4ee1df-36fb-4771-81cb-f5d72b2db402",
   "metadata": {},
   "outputs": [],
   "source": [
    "## your code here"
   ]
  },
  {
   "cell_type": "code",
   "execution_count": null,
   "id": "10191e1c-0991-4198-beb5-1905b07328bc",
   "metadata": {},
   "outputs": [],
   "source": []
  },
  {
   "cell_type": "markdown",
   "id": "ccba50b1-61dc-44f4-9bfa-77e97ae6f234",
   "metadata": {},
   "source": [
    "<div class=\"alert alert-block alert-info\" style=\"background-color: white; border: 3px solid; padding: 10px\">\n",
    "    <b><i class=\"fa fa-info-circle\" aria-hidden=\"true\"></i>&nbsp; Exercise 3</b><br>\n",
    "    <p style=\"color: black\">\n",
    "       Compute gravitational force between two objects.\n",
    "    </p>\n",
    "<div>"
   ]
  },
  {
   "cell_type": "markdown",
   "id": "5537011e-f679-45b7-9055-05c4fc21bdcd",
   "metadata": {},
   "source": [
    "## Hints\n",
    "<div class=\"alert alert-success\">\n",
    "The formula for gravitational force is\n",
    "\n",
    "F = G m^1m^2/r^2\n",
    "\n",
    "Here G is the gravitational constant. Its value is 6.673*10-11\n",
    "\n",
    "So, take three input from the users. The mass of the first object, the mass of the second object and the distance between them.\n",
    "</div>"
   ]
  },
  {
   "cell_type": "code",
   "execution_count": null,
   "id": "1b9bc5ea-c5cf-4a4c-9cba-e5120c2afd1a",
   "metadata": {},
   "outputs": [],
   "source": [
    "## your code here"
   ]
  },
  {
   "cell_type": "code",
   "execution_count": null,
   "id": "a9513072-e4e3-4d23-bca8-fdfc72816f2e",
   "metadata": {},
   "outputs": [],
   "source": []
  },
  {
   "cell_type": "markdown",
   "id": "5a9d464e-fb15-40f8-825f-e16acaa3890b",
   "metadata": {},
   "source": [
    "<div class=\"alert alert-block alert-info\" style=\"background-color: white; border: 3px solid; padding: 10px\">\n",
    "    <b><i class=\"fa fa-info-circle\" aria-hidden=\"true\"></i>&nbsp; Exercise 4</b><br>\n",
    "    <p style=\"color: black\">\n",
    "       Ask the user to enter a number. Then find if the number is a prime number or not.\n",
    "    </p>\n",
    "<div>"
   ]
  },
  {
   "cell_type": "markdown",
   "id": "44cdc6f4-85d7-49bb-b40f-2af8dde7a97c",
   "metadata": {},
   "source": [
    "## Hints\n",
    "<div class=\"alert alert-success\">\n",
    "You can create a is_prime function. The function is_prime(n) first handles simple cases: 1) If n is less than or equal to 1, it is not prime. 2) Numbers 2 and 3 are prime numbers, so it directly returns True. 3) It then checks if n is divisible by 2 or 3, in which case it is not prime. 4) For other numbers, it uses a loop starting from i = 5. The loop runs while i * i is less than or equal to n. This is more efficient than checking all numbers up to n because a larger factor of n must be paired with a smaller factor that has been already checked. 5) The loop checks divisibility by i and i+2. This skips even numbers (except for 2 which was already checked) and speeds up the process by checking fewer divisors. 6) If no divisors are found by the end of the loop, n is prime.\n",
    "</div>"
   ]
  },
  {
   "cell_type": "code",
   "execution_count": null,
   "id": "6a60427a-39f5-4617-b600-e50502278ba5",
   "metadata": {},
   "outputs": [],
   "source": [
    "## your code here"
   ]
  },
  {
   "cell_type": "code",
   "execution_count": null,
   "id": "9c77a6d3-2b7c-4fc0-b9a6-67295932c027",
   "metadata": {},
   "outputs": [],
   "source": []
  },
  {
   "cell_type": "markdown",
   "id": "17d8d840-79e0-4d7e-af5c-6aa90b51707e",
   "metadata": {},
   "source": [
    "<div class=\"alert alert-block alert-info\" style=\"background-color: white; border: 3px solid; padding: 10px\">\n",
    "    <b><i class=\"fa fa-info-circle\" aria-hidden=\"true\"></i>&nbsp; Exercise 5</b><br>\n",
    "    <p style=\"color: black\">\n",
    "       Ask the user to enter a number. Then find all the primes up to that number.\n",
    "    </p>\n",
    "<div>"
   ]
  },
  {
   "cell_type": "markdown",
   "id": "50c08685-097b-44e1-9361-5a0251bbb0e2",
   "metadata": {},
   "source": [
    "## Hints\n",
    "<div class=\"alert alert-success\">\n",
    "Hints\n",
    "You can use the previous is_prime function that you created in the previous problem. Now create a new function named all_primes. In that function, run a for loop.\n",
    "For each number, call the is_prime function. If the return is True to add it in the prime list.\n",
    "</div>"
   ]
  },
  {
   "cell_type": "code",
   "execution_count": null,
   "id": "5bb97880-f999-45eb-8b61-d6635b558459",
   "metadata": {},
   "outputs": [],
   "source": [
    "## your code here"
   ]
  },
  {
   "cell_type": "code",
   "execution_count": null,
   "id": "80014da4-6768-44bd-a168-b837f4f3be0f",
   "metadata": {},
   "outputs": [],
   "source": []
  },
  {
   "cell_type": "markdown",
   "id": "66db9d5f-8f70-4e5f-8ce1-4343aa63ad4a",
   "metadata": {},
   "source": [
    "<div class=\"alert alert-block alert-info\" style=\"background-color: white; border: 3px solid; padding: 10px\">\n",
    "    <b><i class=\"fa fa-info-circle\" aria-hidden=\"true\"></i>&nbsp; Exercise 6</b><br>\n",
    "    <p style=\"color: black\">\n",
    "       Check whether the string is a palindrome.\n",
    "    </p>\n",
    "<div>"
   ]
  },
  {
   "cell_type": "markdown",
   "id": "51e27368-577d-473b-abde-a0db9284fbcf",
   "metadata": {},
   "source": [
    "## Hints\n",
    "<div class=\"alert alert-success\">\n",
    "\n",
    "A palindrome is a word, phrase, or sequence that reads the same backward as forwards. For example, the word- madam\n",
    "\n",
    "If you read it backward it will be madam as well. Similarly, eye, rotor, kayak, racecar, level, etc. are palindromes.\n",
    "\n",
    "To check a palindrome, just reverse the word or the phrase, and then check whether the reversed string is the same as the initial string.\n",
    "\n",
    "If both are the same, it will be a palindrome.\n",
    "</div>"
   ]
  },
  {
   "cell_type": "code",
   "execution_count": null,
   "id": "7524f976-25fd-45c5-a828-3d00bffbeb9f",
   "metadata": {},
   "outputs": [],
   "source": [
    "## your code here"
   ]
  },
  {
   "cell_type": "code",
   "execution_count": null,
   "id": "08384867-d6de-48d9-b6f8-ff1190219d52",
   "metadata": {},
   "outputs": [],
   "source": []
  }
 ],
 "metadata": {
  "kernelspec": {
   "display_name": "Python 3 (ipykernel)",
   "language": "python",
   "name": "python3"
  },
  "language_info": {
   "codemirror_mode": {
    "name": "ipython",
    "version": 3
   },
   "file_extension": ".py",
   "mimetype": "text/x-python",
   "name": "python",
   "nbconvert_exporter": "python",
   "pygments_lexer": "ipython3",
   "version": "3.12.2"
  }
 },
 "nbformat": 4,
 "nbformat_minor": 5
}
