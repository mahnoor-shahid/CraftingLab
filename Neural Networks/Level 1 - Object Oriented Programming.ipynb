{
 "cells": [
  {
   "cell_type": "code",
   "execution_count": 1,
   "id": "1fd27f9a-8b06-4f2d-9bb5-8fc08f5bd830",
   "metadata": {},
   "outputs": [],
   "source": [
    "class Car:\n",
    "    def __init__(self, make, model, year):\n",
    "        self.make = make\n",
    "        self.model = model\n",
    "        self.year = year\n",
    "        self.is_running = False\n",
    "        self.speed = 0\n",
    "    \n",
    "    def start(self):\n",
    "        if not self.is_running:\n",
    "            self.is_running = True\n",
    "            print(\"The car is now running.\")\n",
    "        else:\n",
    "            print(\"The car is already running.\")\n",
    "    \n",
    "    def stop(self):\n",
    "        if self.is_running:\n",
    "            self.is_running = False\n",
    "            self.speed = 0\n",
    "            print(\"The car has been stopped.\")\n",
    "        else:\n",
    "            print(\"The car is already stopped.\")\n",
    "    \n",
    "    def accelerate(self, increment):\n",
    "        if self.is_running:\n",
    "            self.speed += increment\n",
    "            print(f\"The car is now moving at {self.speed} km/h.\")\n",
    "        else:\n",
    "            print(\"Cannot accelerate. Start the car first.\")\n",
    "    \n",
    "    def display_info(self):\n",
    "        print(f\"Make: {self.make}, Model: {self.model}, Year: {self.year}\")\n"
   ]
  },
  {
   "cell_type": "code",
   "execution_count": 2,
   "id": "1e8f4e4a-d4a7-4d72-ae4a-b3721b7273b7",
   "metadata": {},
   "outputs": [
    {
     "name": "stdout",
     "output_type": "stream",
     "text": [
      "Make: Toyota, Model: Camry, Year: 2020\n",
      "Make: Honda, Model: Civic, Year: 2018\n",
      "The car is now running.\n",
      "The car is now running.\n",
      "The car is now moving at 20 km/h.\n",
      "The car is now moving at 15 km/h.\n",
      "The car has been stopped.\n",
      "The car has been stopped.\n"
     ]
    }
   ],
   "source": [
    "# Create car objects\n",
    "car1 = Car(\"Toyota\", \"Camry\", 2020)\n",
    "car2 = Car(\"Honda\", \"Civic\", 2018)\n",
    "\n",
    "# Display car information\n",
    "car1.display_info()  # Output: Make: Toyota, Model: Camry, Year: 2020\n",
    "car2.display_info()  # Output: Make: Honda, Model: Civic, Year: 2018\n",
    "\n",
    "# Start car\n",
    "car1.start()  # Output: The car is now running.\n",
    "car2.start()  # Output: The car is now running.\n",
    "\n",
    "# Accelerate car\n",
    "car1.accelerate(20)  # Output: The car is now moving at 20 km/h.\n",
    "car2.accelerate(15)  # Output: The car is now moving at 15 km/h.\n",
    "\n",
    "# Stop car\n",
    "car1.stop()  # Output: The car has been stopped.\n",
    "car2.stop()  # Output: The car has been stopped.\n"
   ]
  },
  {
   "cell_type": "code",
   "execution_count": null,
   "id": "8157a2f2-80ce-4496-abee-82e279381d55",
   "metadata": {},
   "outputs": [],
   "source": []
  }
 ],
 "metadata": {
  "kernelspec": {
   "display_name": "Python 3 (ipykernel)",
   "language": "python",
   "name": "python3"
  },
  "language_info": {
   "codemirror_mode": {
    "name": "ipython",
    "version": 3
   },
   "file_extension": ".py",
   "mimetype": "text/x-python",
   "name": "python",
   "nbconvert_exporter": "python",
   "pygments_lexer": "ipython3",
   "version": "3.12.2"
  }
 },
 "nbformat": 4,
 "nbformat_minor": 5
}
