{
 "cells": [
  {
   "cell_type": "code",
   "execution_count": 13,
   "id": "cbd525f2-9850-49a3-b99b-48de4fb7db5f",
   "metadata": {},
   "outputs": [],
   "source": [
    "import numpy as np\n",
    "\n",
    "class NeuralNetwork:\n",
    "    def __init__(self, input_size, hidden_size1, hidden_size2, output_size):\n",
    "        self.input_size = input_size\n",
    "        self.hidden_size1 = hidden_size1\n",
    "        self.hidden_size2 = hidden_size2\n",
    "        self.output_size = output_size\n",
    "        \n",
    "        # Initialize weights and biases\n",
    "        self.weights_input_hidden1 = np.random.randn(self.input_size, self.hidden_size1)\n",
    "        self.bias_hidden1 = np.zeros((1, self.hidden_size1))\n",
    "        print(self.weights_input_hidden1.shape)\n",
    "        \n",
    "        self.weights_hidden1_hidden2 = np.random.randn(self.hidden_size1, self.hidden_size2)\n",
    "        self.bias_hidden2 = np.zeros((1, self.hidden_size2))\n",
    "        \n",
    "        self.weights_hidden2_output = np.random.randn(self.hidden_size2, self.output_size)\n",
    "        self.bias_output = np.zeros((1, self.output_size))\n",
    "        \n",
    "    def sigmoid(self, x):\n",
    "        return 1 / (1 + np.exp(-x))\n",
    "    \n",
    "    def sigmoid_derivative(self, x):\n",
    "        return x * (1 - x)\n",
    "    \n",
    "    def feedforward(self, inputs):\n",
    "        # Input to first hidden layer\n",
    "        self.hidden_sum1 = np.dot(inputs, self.weights_input_hidden1) + self.bias_hidden1\n",
    "        self.hidden_output1 = self.sigmoid(self.hidden_sum1)\n",
    "        \n",
    "        # First hidden layer to second hidden layer\n",
    "        self.hidden_sum2 = np.dot(hidden_output1, self.weights_hidden1_hidden2) + self.bias_hidden2\n",
    "        self.hidden_output2 = self.sigmoid(self.hidden_sum2)\n",
    "        \n",
    "        # Second hidden layer to output layer\n",
    "\n",
    "    \n",
    "    def backward(self, inputs, target, learning_rate):\n",
    "        pass\n",
    "        \n",
    "        # Backpropagate error to second hidden layer\n",
    "\n",
    "        \n",
    "        # Backpropagate error to first hidden layer\n",
    "\n",
    "        \n",
    "        # Update weights and biases\n",
    "\n",
    "\n",
    "        \n",
    "    def train(self, inputs, targets, epochs, learning_rate):\n",
    "        # Iterations Loop\n",
    "        pass\n",
    " \n"
   ]
  },
  {
   "cell_type": "code",
   "execution_count": 15,
   "id": "f9499243-2c4f-47dd-a881-97d581e116a6",
   "metadata": {},
   "outputs": [
    {
     "name": "stdout",
     "output_type": "stream",
     "text": [
      "(2, 3)\n",
      "(4, 3)\n",
      "(4, 3)\n",
      "(4, 3)\n"
     ]
    }
   ],
   "source": [
    "\n",
    "inputs = np.array([[0, 0], [0, 1], [1, 0], [1, 1]])\n",
    "targets = np.array([[0], [1], [1], [0]])\n",
    "\n",
    "neural_network = NeuralNetwork(input_size=2, hidden_size1=3, hidden_size2=2, output_size=1)\n",
    "neural_network.feedforward(inputs)\n",
    "\n",
    "# neural_network.train(inputs, targets, epochs=1000, learning_rate=0.1)\n",
    "\n",
    "# print(\"Final predictions:\")\n",
    "# for i in range(len(inputs)):\n",
    "#     prediction = neural_network.feedforward(inputs[i])\n",
    "#     rounded_prediction = np.round(prediction)  # Round the prediction to the nearest integer\n",
    "#     print(f\"Input: {inputs[i]}, Target: {targets[i]}, Prediction: {rounded_prediction}\")\n"
   ]
  },
  {
   "cell_type": "code",
   "execution_count": null,
   "id": "5301654c-c4bf-4230-85f9-910be75cb9e9",
   "metadata": {},
   "outputs": [],
   "source": []
  }
 ],
 "metadata": {
  "kernelspec": {
   "display_name": "Python 3 (ipykernel)",
   "language": "python",
   "name": "python3"
  },
  "language_info": {
   "codemirror_mode": {
    "name": "ipython",
    "version": 3
   },
   "file_extension": ".py",
   "mimetype": "text/x-python",
   "name": "python",
   "nbconvert_exporter": "python",
   "pygments_lexer": "ipython3",
   "version": "3.12.2"
  }
 },
 "nbformat": 4,
 "nbformat_minor": 5
}
