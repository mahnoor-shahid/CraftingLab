{
 "cells": [
  {
   "cell_type": "markdown",
   "id": "f0770324a4adf353",
   "metadata": {},
   "source": [
    "# Practice: Arrays and Hashmaps \n",
    "\n",
    "In this Jupyter Notebook, we will explore two fundamental data structures: arrays and hashmaps. Arrays are simple data structures that store elements in a contiguous block of memory, allowing for efficient access to elements via their index. On the other hand, hashmaps (also known as dictionaries in Python) are data structures that store data in key-value pairs, enabling fast retrieval of values based on unique keys. Understanding these data structures is crucial for efficient data manipulation and retrieval in programming."
   ]
  },
  {
   "cell_type": "markdown",
   "id": "bf9de4cf305321ed",
   "metadata": {},
   "source": [
    "## Contains Duplicate\n",
    "\n",
    "Given an integer array nums, return true if any value appears at least twice in the array, and return false if every element is distinct.\n",
    "\n",
    "Example 1:\n",
    "\n",
    "Input: nums = [1, 2, 3, 1]\n",
    "Output: true\n",
    "\n",
    "Example 2:\n",
    "\n",
    "Input: nums = [1, 2, 3, 4]\n",
    "Output: false\n",
    "\n",
    "Example 3:\n",
    "\n",
    "Input: nums = [1, 1, 1, 3, 3, 4, 3, 2, 4, 2]\n",
    "Output: true\n",
    "\n",
    "Constraints:\n",
    "\n",
    "1 <= nums.length <= 105\n",
    "-109 <= nums[i] <= 109\n"
   ]
  },
  {
   "cell_type": "code",
   "execution_count": 166,
   "id": "4ada3817b1a65189",
   "metadata": {
    "ExecuteTime": {
     "end_time": "2024-05-12T10:58:14.987900Z",
     "start_time": "2024-05-12T10:58:14.977320Z"
    }
   },
   "outputs": [
    {
     "name": "stdout",
     "output_type": "stream",
     "text": [
      "CPU times: user 2 µs, sys: 1e+03 ns, total: 3 µs\n",
      "Wall time: 7.39 µs\n",
      "True\n"
     ]
    }
   ],
   "source": [
    "def contains_duplicate(nums: list[int]) -> bool:\n",
    "    hashset = set()\n",
    "    for i in nums:\n",
    "        if i in hashset:\n",
    "            return True\n",
    "        else:\n",
    "            hashset.add(i)\n",
    "    return False\n",
    "\n",
    "%time\n",
    "nums = [1, 2, 3, 4, 5, 6, 7, 8, 9, 10, 2]\n",
    "print(contains_duplicate(nums))"
   ]
  },
  {
   "cell_type": "code",
   "execution_count": 39,
   "id": "ce49b03dc13d7b81",
   "metadata": {
    "ExecuteTime": {
     "end_time": "2024-05-11T23:19:29.664143Z",
     "start_time": "2024-05-11T23:19:29.658412Z"
    }
   },
   "outputs": [
    {
     "name": "stdout",
     "output_type": "stream",
     "text": [
      "CPU times: user 2 µs, sys: 0 ns, total: 2 µs\n",
      "Wall time: 5.72 µs\n",
      "True\n"
     ]
    }
   ],
   "source": [
    "def contains_duplicate(nums: list[int]) -> bool:\n",
    "    nums = sorted(nums)\n",
    "    for indx in range(0, len(nums)):\n",
    "        if nums[indx]==nums[indx+1]:\n",
    "            return True\n",
    "    return False\n",
    "\n",
    "%time\n",
    "nums = [1, 2, 3, 4, 5, 6, 7, 8, 9, 10, 2]\n",
    "print(contains_duplicate(nums))"
   ]
  },
  {
   "cell_type": "markdown",
   "id": "e5ff44b29ad620b2",
   "metadata": {},
   "source": [
    "## Check for Palindrome\n",
    "Given a string s, return true if it is a palindrome, or false otherwise. A palindrome is a word, phrase, number, or other sequence of characters which reads the same backward as forward, ignoring spaces, punctuation, and capitalization.\n",
    "\n",
    "Example 1:\n",
    "\n",
    "Input: s = \"A man, a plan, a canal: Panama\"\n",
    "Output: true\n",
    "\n",
    "Example 2:\n",
    "\n",
    "Input: s = \"race a car\"\n",
    "Output: false\n",
    "\n",
    "Example 3:\n",
    "\n",
    "Input: s = \" \"\n",
    "Output: true\n",
    "\n",
    "Constraints:\n",
    "1 <= s.length <= 10^5\n",
    "s consists only of printable ASCII characters."
   ]
  },
  {
   "cell_type": "code",
   "execution_count": 40,
   "id": "f830e6d95d8638eb",
   "metadata": {
    "ExecuteTime": {
     "end_time": "2024-05-11T23:19:31.182525Z",
     "start_time": "2024-05-11T23:19:31.179226Z"
    }
   },
   "outputs": [
    {
     "name": "stdout",
     "output_type": "stream",
     "text": [
      "CPU times: user 2 µs, sys: 1 µs, total: 3 µs\n",
      "Wall time: 5.96 µs\n",
      "True\n"
     ]
    }
   ],
   "source": [
    "def isPalindrome(s: str) -> bool:\n",
    "    s = s.lower()\n",
    "    return s == s[::-1]\n",
    "\n",
    "%time\n",
    "input_str = 'Hannah'\n",
    "print(isPalindrome(input_str))"
   ]
  },
  {
   "cell_type": "markdown",
   "id": "51f8359f453205c1",
   "metadata": {},
   "source": [
    "## Valid Anagram\n",
    "\n",
    "Given two strings s and t, return true if t is an anagram of s, and false otherwise.\n",
    "\n",
    "An Anagram is a word or phrase formed by rearranging the letters of a different word or phrase, typically using all the original letters exactly once.\n",
    "\n",
    "Example 1:\n",
    "\n",
    "Input: s = \"anagram\", t = \"nagaram\"\n",
    "Output: true\n",
    "\n",
    "Example 2:\n",
    "\n",
    "Input: s = \"rat\", t = \"car\"\n",
    "Output: false\n",
    "\n",
    "\n",
    "Constraints:\n",
    "\n",
    "1 <= s.length, t.length <= 5 * 104\n",
    "s and t consist of lowercase English letters.\n"
   ]
  },
  {
   "cell_type": "code",
   "execution_count": 58,
   "id": "f662583792b93bf",
   "metadata": {
    "ExecuteTime": {
     "end_time": "2024-05-11T23:38:37.738585Z",
     "start_time": "2024-05-11T23:38:37.733590Z"
    }
   },
   "outputs": [
    {
     "name": "stdout",
     "output_type": "stream",
     "text": [
      "CPU times: user 3 µs, sys: 0 ns, total: 3 µs\n",
      "Wall time: 7.15 µs\n",
      "True\n"
     ]
    }
   ],
   "source": [
    "from collections import Counter \n",
    "\n",
    "def is_anagram(s: str, t: str) -> bool:\n",
    "    return Counter(s) == Counter(t)\n",
    "\n",
    "%time\n",
    "s = 'anagram'\n",
    "t = 'nagaram'\n",
    "print(is_anagram(s, t))"
   ]
  },
  {
   "cell_type": "code",
   "execution_count": 57,
   "id": "4174917c566b5fe7",
   "metadata": {},
   "outputs": [
    {
     "name": "stdout",
     "output_type": "stream",
     "text": [
      "CPU times: user 3 µs, sys: 1 µs, total: 4 µs\n",
      "Wall time: 10.5 µs\n",
      "True\n"
     ]
    }
   ],
   "source": [
    "def is_anagram(s: str, t: str) -> bool:\n",
    "    return sorted(s) == sorted(t)\n",
    "\n",
    "%time\n",
    "s = 'anagram'\n",
    "t = 'nagaram'\n",
    "print(is_anagram(s, t))"
   ]
  },
  {
   "cell_type": "markdown",
   "id": "6038f2811f40c245",
   "metadata": {},
   "source": [
    "## Two Sum\n",
    "\n",
    "Given an array of integers nums and an integer target, return indices of the two numbers such that they add up to target.\n",
    "\n",
    "You may assume that each input would have exactly one solution, and you may not use the same element twice.\n",
    "\n",
    "You can return the answer in any order.\n",
    "\n",
    "Example 1:\n",
    "\n",
    "Input: nums = [2,7,11,15], target = 9\n",
    "Output: [0,1]\n",
    "Explanation: Because nums[0] + nums[1] == 9, we return [0, 1].\n",
    "\n",
    "Example 2:\n",
    "\n",
    "Input: nums = [3,2,4], target = 6\n",
    "Output: [1,2]\n",
    "\n",
    "Example 3:\n",
    "\n",
    "Input: nums = [3,3], target = 6\n",
    "Output: [0,1]\n",
    "\n",
    "\n",
    "Constraints:\n",
    "\n",
    "2 <= nums.length <= 104\n",
    "-109 <= nums[i] <= 109\n",
    "-109 <= target <= 109\n",
    "Only one valid answer exists."
   ]
  },
  {
   "cell_type": "code",
   "execution_count": 59,
   "id": "b0f1209e9e3fa8c8",
   "metadata": {
    "ExecuteTime": {
     "end_time": "2024-05-11T23:38:38.549624Z",
     "start_time": "2024-05-11T23:38:38.541821Z"
    }
   },
   "outputs": [
    {
     "name": "stdout",
     "output_type": "stream",
     "text": [
      "CPU times: user 4 µs, sys: 1 µs, total: 5 µs\n",
      "Wall time: 26.7 µs\n",
      "[2, 3]\n"
     ]
    }
   ],
   "source": [
    "def two_sum(nums: list[int], target: int) -> list[int]:\n",
    "    hashmap = defaultdict(int)\n",
    "    for indx in range(0, len(nums)):\n",
    "        abs_diff = abs(nums[indx]-target)\n",
    "        if abs_diff in hashmap.keys():\n",
    "            return [hashmap[abs_diff], indx]\n",
    "        else:\n",
    "            hashmap[nums[indx]]=indx\n",
    "            \n",
    "%time\n",
    "print(two_sum(nums=[2, 7, 11, 15], target=26))"
   ]
  },
  {
   "cell_type": "markdown",
   "id": "a2651282dbf42f86",
   "metadata": {},
   "source": [
    "## Group Anagrams\n",
    "\n",
    "Given an array of strings strs, group the anagrams together. You can return the answer in any order.\n",
    "\n",
    "An Anagram is a word or phrase formed by rearranging the letters of a different word or phrase, typically using all the original letters exactly once.\n",
    "\n",
    "Example 1:\n",
    "\n",
    "Input: strs = [\"eat\",\"tea\",\"tan\",\"ate\",\"nat\",\"bat\"]\n",
    "Output: [[\"bat\"],[\"nat\",\"tan\"],[\"ate\",\"eat\",\"tea\"]]\n",
    "\n",
    "Example 2:\n",
    "\n",
    "Input: strs = [\"\"]\n",
    "Output: [[\"\"]]\n",
    "\n",
    "Example 3:\n",
    "\n",
    "Input: strs = [\"a\"]\n",
    "Output: [[\"a\"]]\n",
    "\n",
    "'''"
   ]
  },
  {
   "cell_type": "code",
   "execution_count": 60,
   "id": "dd9e0ee8ad3ab996",
   "metadata": {
    "ExecuteTime": {
     "end_time": "2024-05-11T23:38:39.010080Z",
     "start_time": "2024-05-11T23:38:39.002966Z"
    }
   },
   "outputs": [
    {
     "name": "stdout",
     "output_type": "stream",
     "text": [
      "CPU times: user 4 µs, sys: 1 µs, total: 5 µs\n",
      "Wall time: 10.7 µs\n",
      "dict_values([['eat', 'tea', 'ate'], ['tan', 'nat'], ['bat']])\n"
     ]
    }
   ],
   "source": [
    "def group_anagrams(strs: list[str]) -> list[str]:\n",
    "    hashmap = defaultdict(list)\n",
    "    for s in strs:\n",
    "        freq_count  = [0] * 26\n",
    "        for c in s:\n",
    "            freq_count[ord(c) - ord('a')] += 1\n",
    "        hashmap[str(freq_count)].append(s)\n",
    "    return hashmap.values()\n",
    "\n",
    "%time\n",
    "print(group_anagrams(strs=[\"eat\",\"tea\",\"tan\",\"ate\",\"nat\",\"bat\"]))"
   ]
  },
  {
   "cell_type": "markdown",
   "id": "a63406f44d75bfdd",
   "metadata": {},
   "source": [
    "## Top K Frequent Elements\n",
    "\n",
    "Given an integer array nums and an integer k, return the k most frequent elements. You may return the answer in any order.\n",
    "\n",
    "Example 1:\n",
    "\n",
    "Input: nums = [1,1,1,2,2,3], k = 2\n",
    "Output: [1,2]\n",
    "\n",
    "Example 2:\n",
    "\n",
    "Input: nums = [1], k = 1\n",
    "Output: [1]\n",
    " \n",
    "Constraints:\n",
    "\n",
    "1 <= nums.length <= 105\n",
    "-104 <= nums[i] <= 104\n",
    "k is in the range [1, the number of unique elements in the array].\n",
    "It is guaranteed that the answer is unique."
   ]
  },
  {
   "cell_type": "code",
   "execution_count": 162,
   "id": "19ef509b7217e86",
   "metadata": {
    "ExecuteTime": {
     "end_time": "2024-05-12T10:44:08.031497Z",
     "start_time": "2024-05-12T10:44:08.020700Z"
    }
   },
   "outputs": [
    {
     "name": "stdout",
     "output_type": "stream",
     "text": [
      "CPU times: user 2 µs, sys: 1 µs, total: 3 µs\n",
      "Wall time: 7.15 µs\n",
      "[7, 3]\n"
     ]
    }
   ],
   "source": [
    "def top_nums(nums: list[int], k:int) -> list[int]:\n",
    "    hashmap = defaultdict(int)\n",
    "    for i in range(0,len(nums)):\n",
    "        hashmap[nums[i]] = 1 + hashmap.get(nums[i], 0)\n",
    "    bucket = [[] for _ in range(0, len(nums)+1)]\n",
    "    for key, val in hashmap.items():\n",
    "        bucket[val].append(key)\n",
    "    result = []\n",
    "    for b in bucket[::-1]:\n",
    "        if b:\n",
    "            result.extend(b)\n",
    "            if k==len(result):\n",
    "                return result\n",
    "                \n",
    "    \n",
    "%time    \n",
    "print(top_nums(nums=[3,3,3,5,5,7,7,7,7,7,7,1,1], k=2))\n",
    "    "
   ]
  },
  {
   "cell_type": "code",
   "execution_count": 164,
   "id": "af7e383bc0bab92f",
   "metadata": {
    "ExecuteTime": {
     "end_time": "2024-05-12T10:44:15.054970Z",
     "start_time": "2024-05-12T10:44:15.041769Z"
    }
   },
   "outputs": [
    {
     "name": "stdout",
     "output_type": "stream",
     "text": [
      "CPU times: user 10 µs, sys: 0 ns, total: 10 µs\n",
      "Wall time: 20 µs\n",
      "[7, 3]\n"
     ]
    }
   ],
   "source": [
    "def top_nums(nums: list[int], k:int) -> list[int]:\n",
    "    freq_count = Counter(nums)\n",
    "    return [item[0] for item in sorted(freq_count.items(), key=lambda item: item[1], reverse=True)[:k] ]\n",
    "\n",
    "%time\n",
    "print(top_nums(nums=[3,3,3,5,5,7,7,7,7,7,7,1,1], k=2))"
   ]
  },
  {
   "cell_type": "markdown",
   "id": "975afdd854fcdfe4",
   "metadata": {},
   "source": [
    "## Valid Sudoku\n",
    "\n",
    "Determine if a 9 x 9 Sudoku board is valid. Only the filled cells need to be validated according to the following rules:\n",
    "\n",
    "Each row must contain the digits 1-9 without repetition.\n",
    "Each column must contain the digits 1-9 without repetition.\n",
    "Each of the nine 3 x 3 sub-boxes of the grid must contain the digits 1-9 without repetition.\n",
    "\n",
    "Note:\n",
    "A Sudoku board (partially filled) could be valid but is not necessarily solvable.\n",
    "Only the filled cells need to be validated according to the mentioned rules.\n",
    " \n",
    "Example 1:\n",
    "\n",
    "Input: board = \n",
    "\n",
    "[[\"5\",\"3\",\".\",\".\",\"7\",\".\",\".\",\".\",\".\"]\n",
    "\n",
    ",[\"6\",\".\",\".\",\"1\",\"9\",\"5\",\".\",\".\",\".\"]\n",
    "\n",
    ",[\".\",\"9\",\"8\",\".\",\".\",\".\",\".\",\"6\",\".\"]\n",
    "\n",
    ",[\"8\",\".\",\".\",\".\",\"6\",\".\",\".\",\".\",\"3\"]\n",
    "\n",
    ",[\"4\",\".\",\".\",\"8\",\".\",\"3\",\".\",\".\",\"1\"]\n",
    "\n",
    ",[\"7\",\".\",\".\",\".\",\"2\",\".\",\".\",\".\",\"6\"]\n",
    "\n",
    ",[\".\",\"6\",\".\",\".\",\".\",\".\",\"2\",\"8\",\".\"]\n",
    "\n",
    ",[\".\",\".\",\".\",\"4\",\"1\",\"9\",\".\",\".\",\"5\"]\n",
    "\n",
    ",[\".\",\".\",\".\",\".\",\"8\",\".\",\".\",\"7\",\"9\"]]\n",
    "\n",
    "Output: true\n",
    "\n",
    "\n",
    "Example 2:\n",
    "\n",
    "Input: board = \n",
    "\n",
    "[[\"8\",\"3\",\".\",\".\",\"7\",\".\",\".\",\".\",\".\"]\n",
    "\n",
    ",[\"6\",\".\",\".\",\"1\",\"9\",\"5\",\".\",\".\",\".\"]\n",
    "\n",
    ",[\".\",\"9\",\"8\",\".\",\".\",\".\",\".\",\"6\",\".\"]\n",
    "\n",
    ",[\"8\",\".\",\".\",\".\",\"6\",\".\",\".\",\".\",\"3\"]\n",
    "\n",
    ",[\"4\",\".\",\".\",\"8\",\".\",\"3\",\".\",\".\",\"1\"]\n",
    "\n",
    ",[\"7\",\".\",\".\",\".\",\"2\",\".\",\".\",\".\",\"6\"]\n",
    "\n",
    ",[\".\",\"6\",\".\",\".\",\".\",\".\",\"2\",\"8\",\".\"]\n",
    "\n",
    ",[\".\",\".\",\".\",\"4\",\"1\",\"9\",\".\",\".\",\"5\"]\n",
    "\n",
    ",[\".\",\".\",\".\",\".\",\"8\",\".\",\".\",\"7\",\"9\"]]\n",
    "\n",
    "Output: false\n",
    "\n",
    "Explanation: Same as Example 1, except with the 5 in the top left corner being modified to 8. Since there are two 8's in the top left 3x3 sub-box, it is invalid.\n",
    " \n",
    "\n",
    "Constraints:\n",
    "\n",
    "board.length == 9\n",
    "board[i].length == 9\n",
    "board[i][j] is a digit 1-9 or '.'."
   ]
  },
  {
   "cell_type": "code",
   "execution_count": 185,
   "id": "a979dd362e72be41",
   "metadata": {
    "ExecuteTime": {
     "end_time": "2024-05-12T15:19:27.085003Z",
     "start_time": "2024-05-12T15:19:27.072595Z"
    }
   },
   "outputs": [
    {
     "name": "stdout",
     "output_type": "stream",
     "text": [
      "CPU times: user 6 µs, sys: 2 µs, total: 8 µs\n",
      "Wall time: 14.5 µs\n",
      "True\n"
     ]
    }
   ],
   "source": [
    "from collections import defaultdict\n",
    "\n",
    "def valid_sudoku(board: list[list[str]]) -> bool:\n",
    "    row_hashmap = defaultdict(set)\n",
    "    col_hashmap = defaultdict(set)\n",
    "    block_hashmap = defaultdict(set)\n",
    "    for row in range(9):\n",
    "        for col in range(9):\n",
    "            if board[row][col] != '.':\n",
    "                if (board[row][col] in row_hashmap[row]) or (board[row][col] in col_hashmap[col]) or (board[row][col] in block_hashmap[row//3, col//3]):\n",
    "                    return False\n",
    "                else:\n",
    "                    row_hashmap[row].add(board[row][col])\n",
    "                    col_hashmap[col].add(board[row][col])\n",
    "                    block_hashmap[row//3, col//3].add(board[row][col])\n",
    "    return True\n",
    "\n",
    "%time\n",
    "print(valid_sudoku([[\"5\",\"3\",\".\",\".\",\"7\",\".\",\".\",\".\",\".\"],[\"6\",\".\",\".\",\"1\",\"9\",\"5\",\".\",\".\",\".\"],[\".\",\"9\",\"8\",\".\",\".\",\".\",\".\",\"6\",\".\"],\n",
    "                    [\"8\",\".\",\".\",\".\",\"6\",\".\",\".\",\".\",\"3\"],[\"4\",\".\",\".\",\"8\",\".\",\"3\",\".\",\".\",\"1\"],[\"7\",\".\",\".\",\".\",\"2\",\".\",\".\",\".\",\"6\"],\n",
    "                    [\".\",\"6\",\".\",\".\",\".\",\".\",\"2\",\"8\",\".\"],[\".\",\".\",\".\",\"4\",\"1\",\"9\",\".\",\".\",\"s\"],[\".\",\".\",\".\",\".\",\"8\",\".\",\".\",\"7\",\"9\"]]))\n"
   ]
  },
  {
   "cell_type": "markdown",
   "id": "ff4555d91b14763c",
   "metadata": {},
   "source": [
    "## Product of Array Except Self\n",
    "\n",
    "Given an integer array nums, return an array answer such that answer[i] is equal to the product of all the elements of nums except nums[i].\n",
    "\n",
    "The product of any prefix or suffix of nums is guaranteed to fit in a 32-bit integer.\n",
    "\n",
    "You must write an algorithm that runs in O(n) time and without using the division operation.\n",
    "\n",
    "\n",
    "Example 1:\n",
    "\n",
    "Input: nums = [1,2,3,4]\n",
    "Output: [24,12,8,6]\n",
    "\n",
    "\n",
    "Example 2:\n",
    "\n",
    "Input: nums = [-1,1,0,-3,3]\n",
    "Output: [0,0,9,0,0]\n",
    " \n",
    "\n",
    "Constraints:\n",
    "\n",
    "2 <= nums.length <= 105\n",
    "-30 <= nums[i] <= 30\n",
    "The product of any prefix or suffix of nums is guaranteed to fit in a 32-bit integer.\n"
   ]
  },
  {
   "cell_type": "code",
   "execution_count": 186,
   "id": "8e747eae780acde7",
   "metadata": {
    "ExecuteTime": {
     "end_time": "2024-05-12T15:19:28.759138Z",
     "start_time": "2024-05-12T15:19:28.752957Z"
    }
   },
   "outputs": [
    {
     "name": "stdout",
     "output_type": "stream",
     "text": [
      "CPU times: user 2 µs, sys: 0 ns, total: 2 µs\n",
      "Wall time: 7.15 µs\n",
      "[24.0, 12.0, 8.0, 6.0]\n",
      "[0, 0, 9, 0, 0]\n"
     ]
    }
   ],
   "source": [
    "# with division\n",
    "def prod_of_array(nums: list[int]) -> list[int]:\n",
    "    product = 1\n",
    "    zero_count = 0\n",
    "    for i in range(len(nums)):\n",
    "        if nums[i] != 0:\n",
    "            product *= nums[i]\n",
    "        else:\n",
    "            zero_count +=1\n",
    "            \n",
    "    if zero_count == 0:\n",
    "        return [product/num for num in nums]\n",
    "    elif zero_count == 1:\n",
    "        return [product if num == 0 else 0 for num in nums]\n",
    "    else:\n",
    "        return [0] * len(nums)\n",
    "\n",
    "%time\n",
    "print(prod_of_array([1,2,3,4]))  # Output: [24, 12, 8, 6]\n",
    "print(prod_of_array([-1,1,0,-3,3]))  # Output: [0, 0, 9, 0, 0]"
   ]
  },
  {
   "cell_type": "code",
   "execution_count": 25,
   "id": "2b3a0e7f49cfa6e4",
   "metadata": {
    "ExecuteTime": {
     "end_time": "2024-05-12T15:48:32.255723Z",
     "start_time": "2024-05-12T15:48:32.248971Z"
    }
   },
   "outputs": [
    {
     "name": "stdout",
     "output_type": "stream",
     "text": [
      "CPU times: user 2 µs, sys: 0 ns, total: 2 µs\n",
      "Wall time: 5.48 µs\n",
      "[1, 1, 2, 6, 24] [24, 24, 12, 4, 1]\n",
      "[24, 12, 8, 6]\n",
      "[1, -1, -1, 0, 0, 0] [0, 0, 0, -9, 3, 1]\n",
      "[0, 0, 9, 0, 0]\n"
     ]
    }
   ],
   "source": [
    "# without division\n",
    "def prod_of_array(nums: list[int]) -> list[int]:\n",
    "\n",
    "    prefix , postfix= [1] * (len(nums)+1), [1] * (len(nums)+1)   \n",
    "    for i in range(1, len(nums) + 1):\n",
    "        prefix[i] = prefix[i - 1] * nums[i - 1]\n",
    "    for i in range(len(nums) - 1, -1, -1):\n",
    "        postfix[i] = postfix[i + 1] * nums[i]\n",
    "    print(prefix, postfix)\n",
    "    return [prefix[i] * postfix[i + 1] for i in range(len(nums))]\n",
    "\n",
    "%time\n",
    "print(prod_of_array([1,2,3,4]))  # Output: [24, 12, 8, 6]\n",
    "print(prod_of_array([-1,1,0,-3,3]))  # Output: [0, 0, 9, 0, 0]\n"
   ]
  },
  {
   "cell_type": "markdown",
   "id": "f540b4a85937c6ab",
   "metadata": {},
   "source": [
    "## Longest Consecutive Sequence\n",
    "\n",
    "Given an unsorted array of integers nums, return the length of the longest consecutive elements sequence.\n",
    "\n",
    "You must write an algorithm that runs in O(n) time.\n",
    "\n",
    " \n",
    "Example 1:\n",
    "\n",
    "Input: nums = [100,4,200,1,3,2]\n",
    "Output: 4\n",
    "Explanation: The longest consecutive elements sequence is [1, 2, 3, 4]. Therefore its length is 4.\n",
    "\n",
    "\n",
    "Example 2:\n",
    "\n",
    "Input: nums = [0,3,7,2,5,8,4,6,0,1]\n",
    "Output: 9\n",
    " \n",
    "\n",
    "Constraints:\n",
    "\n",
    "0 <= nums.length <= 105\n",
    "-109 <= nums[i] <= 109"
   ]
  },
  {
   "cell_type": "code",
   "execution_count": 195,
   "id": "e7e51b5d04284f49",
   "metadata": {
    "ExecuteTime": {
     "end_time": "2024-05-12T16:29:31.286062Z",
     "start_time": "2024-05-12T16:29:31.281318Z"
    }
   },
   "outputs": [
    {
     "name": "stdout",
     "output_type": "stream",
     "text": [
      "CPU times: user 1e+03 ns, sys: 0 ns, total: 1e+03 ns\n",
      "Wall time: 6.2 µs\n",
      "4\n",
      "9\n"
     ]
    }
   ],
   "source": [
    "def longestConsecutive(nums: list[int]) -> int:\n",
    "    hashset = set(nums)\n",
    "    max_length = 1\n",
    "    for num in nums:\n",
    "        if num - 1 not in hashset:\n",
    "            length = 1\n",
    "            while num + length in hashset:\n",
    "                length += 1\n",
    "            max_length = max(max_length, length)\n",
    "\n",
    "    return max_length\n",
    "     \n",
    "%time\n",
    "nums1 = [100, 4, 200, 1, 3, 2]\n",
    "nums2 = [0, 3, 7, 2, 5, 8, 4, 6, 0, 1]\n",
    "print(longestConsecutive(nums1))  # Output: 4\n",
    "print(longestConsecutive(nums2))  # Output: 9"
   ]
  },
  {
   "cell_type": "markdown",
   "id": "85a1c3ca2cf38f3",
   "metadata": {},
   "source": [
    "## Encode & Decode\n",
    "\n",
    "Please implement encode and decode.\n",
    "\n",
    "Example 1:\n",
    "\n",
    "Input: [\"we\",\"code\",\"love\",\"you\"]\n",
    "\n",
    "Output:[\"we\",\"code\",\"love\",\"you\"]\n",
    "\n",
    "Example 2:\n",
    "\n",
    "Input: [\"we\",\"say\",\":\",\"yes\"]\n",
    "\n",
    "Output: [\"we\",\"say\",\":\",\"yes\"]\n",
    "\n",
    "Constraints:\n",
    "\n",
    "0 <= strs.length < 100\n",
    "0 <= strs[i].length < 200\n",
    "strs[i] contains only UTF-8 characters."
   ]
  },
  {
   "cell_type": "code",
   "execution_count": 24,
   "id": "cff6175e4c496c12",
   "metadata": {
    "ExecuteTime": {
     "end_time": "2024-05-12T16:44:44.897423Z",
     "start_time": "2024-05-12T16:44:44.884768Z"
    }
   },
   "outputs": [
    {
     "name": "stdout",
     "output_type": "stream",
     "text": [
      "CPU times: user 4 µs, sys: 1e+03 ns, total: 5 µs\n",
      "Wall time: 12.6 µs\n",
      "4#this4#view2#is13#magnificient!\n",
      "['this', 'view', 'is', 'magnificient!']\n",
      "2#we3#say1#:3#yes\n",
      "['this', 'view', 'is', 'magnificient!']\n"
     ]
    }
   ],
   "source": [
    "def encode(strs):\n",
    "    encoded_string = ''\n",
    "    for s in strs:\n",
    "        encoded_string += str(len(s)) + '#' + s\n",
    "    return encoded_string\n",
    "\n",
    "def decode(s):\n",
    "    i, n = 0, len(s)\n",
    "    decoded_strings = []\n",
    "    while i < n:\n",
    "        j = s.find('#', i)  \n",
    "        if j == -1:\n",
    "            break\n",
    "        length = int(s[i:j])  \n",
    "        i = j + 1 \n",
    "        decoded_strings.append(s[i:i+length])\n",
    "        i += length  \n",
    "    return decoded_strings\n",
    "\n",
    "%time\n",
    "input_example_1 = [\"this\",\"view\",\"is\",\"magnificient!\"]\n",
    "input_example_2 = [\"we\",\"say\",\":\",\"yes\"]\n",
    "\n",
    "encoded_example_1 = encode(input_example_1)\n",
    "encoded_example_2 = encode(input_example_2)\n",
    "decoded_example_1 = decode(encoded_example_1)\n",
    "decoded_example_2 = decode(encoded_example_2)\n",
    "\n",
    "print(encoded_example_1) \n",
    "print(decoded_example_1) \n",
    "print(encoded_example_2) \n",
    "print(decoded_example_1)  # Output: [\"we\", \"code\", \"love\", \"\"]\n"
   ]
  }
 ],
 "metadata": {
  "kernelspec": {
   "display_name": "Python 3 (ipykernel)",
   "language": "python",
   "name": "python3"
  },
  "language_info": {
   "codemirror_mode": {
    "name": "ipython",
    "version": 3
   },
   "file_extension": ".py",
   "mimetype": "text/x-python",
   "name": "python",
   "nbconvert_exporter": "python",
   "pygments_lexer": "ipython3",
   "version": "3.12.2"
  }
 },
 "nbformat": 4,
 "nbformat_minor": 5
}
