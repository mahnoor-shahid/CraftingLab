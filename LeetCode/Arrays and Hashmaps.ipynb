{
 "cells": [
  {
   "metadata": {},
   "cell_type": "markdown",
   "source": [
    "# Practice: Arrays and Hashmaps \n",
    "\n",
    "In this Jupyter Notebook, we will explore two fundamental data structures: arrays and hashmaps. Arrays are simple data structures that store elements in a contiguous block of memory, allowing for efficient access to elements via their index. On the other hand, hashmaps (also known as dictionaries in Python) are data structures that store data in key-value pairs, enabling fast retrieval of values based on unique keys. Understanding these data structures is crucial for efficient data manipulation and retrieval in programming."
   ],
   "id": "f0770324a4adf353"
  },
  {
   "metadata": {},
   "cell_type": "markdown",
   "source": [
    "## Contains Duplicate\n",
    "\n",
    "Given an integer array nums, return true if any value appears at least twice in the array, and return false if every element is distinct.\n",
    "\n",
    "Example 1:\n",
    "\n",
    "Input: nums = [1, 2, 3, 1]\n",
    "Output: true\n",
    "\n",
    "Example 2:\n",
    "\n",
    "Input: nums = [1, 2, 3, 4]\n",
    "Output: false\n",
    "\n",
    "Example 3:\n",
    "\n",
    "Input: nums = [1, 1, 1, 3, 3, 4, 3, 2, 4, 2]\n",
    "Output: true\n",
    "\n",
    "Constraints:\n",
    "\n",
    "1 <= nums.length <= 105\n",
    "-109 <= nums[i] <= 109\n"
   ],
   "id": "bf9de4cf305321ed"
  },
  {
   "metadata": {
    "ExecuteTime": {
     "end_time": "2024-05-12T16:48:10.564300Z",
     "start_time": "2024-05-12T16:48:10.560961Z"
    }
   },
   "cell_type": "code",
   "source": "# Your code here\n",
   "id": "4ada3817b1a65189",
   "outputs": [],
   "execution_count": 1
  },
  {
   "metadata": {
    "ExecuteTime": {
     "end_time": "2024-05-12T16:48:10.619381Z",
     "start_time": "2024-05-12T16:48:10.615106Z"
    }
   },
   "cell_type": "code",
   "source": "# Your code here\n",
   "id": "ce49b03dc13d7b81",
   "outputs": [],
   "execution_count": 2
  },
  {
   "metadata": {},
   "cell_type": "markdown",
   "source": [
    "## Check for Palindrome\n",
    "Given a string s, return true if it is a palindrome, or false otherwise. A palindrome is a word, phrase, number, or other sequence of characters which reads the same backward as forward, ignoring spaces, punctuation, and capitalization.\n",
    "\n",
    "Example 1:\n",
    "\n",
    "Input: s = \"A man, a plan, a canal: Panama\"\n",
    "Output: true\n",
    "\n",
    "Example 2:\n",
    "\n",
    "Input: s = \"race a car\"\n",
    "Output: false\n",
    "\n",
    "Example 3:\n",
    "\n",
    "Input: s = \" \"\n",
    "Output: true\n",
    "\n",
    "Constraints:\n",
    "1 <= s.length <= 10^5\n",
    "s consists only of printable ASCII characters."
   ],
   "id": "e5ff44b29ad620b2"
  },
  {
   "metadata": {
    "ExecuteTime": {
     "end_time": "2024-05-12T16:48:10.625467Z",
     "start_time": "2024-05-12T16:48:10.622452Z"
    }
   },
   "cell_type": "code",
   "source": "# Your code here\n",
   "id": "f830e6d95d8638eb",
   "outputs": [],
   "execution_count": 3
  },
  {
   "metadata": {},
   "cell_type": "markdown",
   "source": [
    "## Valid Anagram\n",
    "\n",
    "Given two strings s and t, return true if t is an anagram of s, and false otherwise.\n",
    "\n",
    "An Anagram is a word or phrase formed by rearranging the letters of a different word or phrase, typically using all the original letters exactly once.\n",
    "\n",
    "Example 1:\n",
    "\n",
    "Input: s = \"anagram\", t = \"nagaram\"\n",
    "Output: true\n",
    "\n",
    "Example 2:\n",
    "\n",
    "Input: s = \"rat\", t = \"car\"\n",
    "Output: false\n",
    "\n",
    "\n",
    "Constraints:\n",
    "\n",
    "1 <= s.length, t.length <= 5 * 104\n",
    "s and t consist of lowercase English letters.\n"
   ],
   "id": "51f8359f453205c1"
  },
  {
   "metadata": {
    "ExecuteTime": {
     "end_time": "2024-05-12T16:48:10.637734Z",
     "start_time": "2024-05-12T16:48:10.634323Z"
    }
   },
   "cell_type": "code",
   "source": "# Your code here\n",
   "id": "f662583792b93bf",
   "outputs": [],
   "execution_count": 4
  },
  {
   "metadata": {
    "ExecuteTime": {
     "end_time": "2024-05-12T16:48:10.643589Z",
     "start_time": "2024-05-12T16:48:10.641010Z"
    }
   },
   "cell_type": "code",
   "source": "# Your code here\n",
   "id": "4174917c566b5fe7",
   "outputs": [],
   "execution_count": 5
  },
  {
   "metadata": {},
   "cell_type": "markdown",
   "source": [
    "## Two Sum\n",
    "\n",
    "Given an array of integers nums and an integer target, return indices of the two numbers such that they add up to target.\n",
    "\n",
    "You may assume that each input would have exactly one solution, and you may not use the same element twice.\n",
    "\n",
    "You can return the answer in any order.\n",
    "\n",
    "Example 1:\n",
    "\n",
    "Input: nums = [2,7,11,15], target = 9\n",
    "Output: [0,1]\n",
    "Explanation: Because nums[0] + nums[1] == 9, we return [0, 1].\n",
    "\n",
    "Example 2:\n",
    "\n",
    "Input: nums = [3,2,4], target = 6\n",
    "Output: [1,2]\n",
    "\n",
    "Example 3:\n",
    "\n",
    "Input: nums = [3,3], target = 6\n",
    "Output: [0,1]\n",
    "\n",
    "\n",
    "Constraints:\n",
    "\n",
    "2 <= nums.length <= 104\n",
    "-109 <= nums[i] <= 109\n",
    "-109 <= target <= 109\n",
    "Only one valid answer exists."
   ],
   "id": "6038f2811f40c245"
  },
  {
   "metadata": {
    "ExecuteTime": {
     "end_time": "2024-05-12T16:48:10.678746Z",
     "start_time": "2024-05-12T16:48:10.675998Z"
    }
   },
   "cell_type": "code",
   "source": "# Your code here\n",
   "id": "b0f1209e9e3fa8c8",
   "outputs": [],
   "execution_count": 6
  },
  {
   "metadata": {},
   "cell_type": "markdown",
   "source": [
    "## Group Anagrams\n",
    "\n",
    "Given an array of strings strs, group the anagrams together. You can return the answer in any order.\n",
    "\n",
    "An Anagram is a word or phrase formed by rearranging the letters of a different word or phrase, typically using all the original letters exactly once.\n",
    "\n",
    "Example 1:\n",
    "\n",
    "Input: strs = [\"eat\",\"tea\",\"tan\",\"ate\",\"nat\",\"bat\"]\n",
    "Output: [[\"bat\"],[\"nat\",\"tan\"],[\"ate\",\"eat\",\"tea\"]]\n",
    "\n",
    "Example 2:\n",
    "\n",
    "Input: strs = [\"\"]\n",
    "Output: [[\"\"]]\n",
    "\n",
    "Example 3:\n",
    "\n",
    "Input: strs = [\"a\"]\n",
    "Output: [[\"a\"]]\n",
    "\n",
    "'''"
   ],
   "id": "a2651282dbf42f86"
  },
  {
   "metadata": {
    "ExecuteTime": {
     "end_time": "2024-05-12T16:48:10.686756Z",
     "start_time": "2024-05-12T16:48:10.681807Z"
    }
   },
   "cell_type": "code",
   "source": "# Your code here\n",
   "id": "dd9e0ee8ad3ab996",
   "outputs": [],
   "execution_count": 7
  },
  {
   "metadata": {},
   "cell_type": "markdown",
   "source": [
    "## Top K Frequent Elements\n",
    "\n",
    "Given an integer array nums and an integer k, return the k most frequent elements. You may return the answer in any order.\n",
    "\n",
    "Example 1:\n",
    "\n",
    "Input: nums = [1,1,1,2,2,3], k = 2\n",
    "Output: [1,2]\n",
    "\n",
    "Example 2:\n",
    "\n",
    "Input: nums = [1], k = 1\n",
    "Output: [1]\n",
    " \n",
    "Constraints:\n",
    "\n",
    "1 <= nums.length <= 105\n",
    "-104 <= nums[i] <= 104\n",
    "k is in the range [1, the number of unique elements in the array].\n",
    "It is guaranteed that the answer is unique."
   ],
   "id": "a63406f44d75bfdd"
  },
  {
   "metadata": {
    "ExecuteTime": {
     "end_time": "2024-05-12T16:48:10.697989Z",
     "start_time": "2024-05-12T16:48:10.694695Z"
    }
   },
   "cell_type": "code",
   "source": "# Your code here\n",
   "id": "19ef509b7217e86",
   "outputs": [],
   "execution_count": 8
  },
  {
   "metadata": {
    "ExecuteTime": {
     "end_time": "2024-05-12T16:48:10.710628Z",
     "start_time": "2024-05-12T16:48:10.708097Z"
    }
   },
   "cell_type": "code",
   "source": "# Your code here\n",
   "id": "af7e383bc0bab92f",
   "outputs": [],
   "execution_count": 9
  },
  {
   "metadata": {},
   "cell_type": "markdown",
   "source": [
    "## Valid Sudoku\n",
    "\n",
    "Determine if a 9 x 9 Sudoku board is valid. Only the filled cells need to be validated according to the following rules:\n",
    "\n",
    "Each row must contain the digits 1-9 without repetition.\n",
    "Each column must contain the digits 1-9 without repetition.\n",
    "Each of the nine 3 x 3 sub-boxes of the grid must contain the digits 1-9 without repetition.\n",
    "\n",
    "Note:\n",
    "A Sudoku board (partially filled) could be valid but is not necessarily solvable.\n",
    "Only the filled cells need to be validated according to the mentioned rules.\n",
    " \n",
    "Example 1:\n",
    "\n",
    "Input: board = \n",
    "\n",
    "[[\"5\",\"3\",\".\",\".\",\"7\",\".\",\".\",\".\",\".\"]\n",
    "\n",
    ",[\"6\",\".\",\".\",\"1\",\"9\",\"5\",\".\",\".\",\".\"]\n",
    "\n",
    ",[\".\",\"9\",\"8\",\".\",\".\",\".\",\".\",\"6\",\".\"]\n",
    "\n",
    ",[\"8\",\".\",\".\",\".\",\"6\",\".\",\".\",\".\",\"3\"]\n",
    "\n",
    ",[\"4\",\".\",\".\",\"8\",\".\",\"3\",\".\",\".\",\"1\"]\n",
    "\n",
    ",[\"7\",\".\",\".\",\".\",\"2\",\".\",\".\",\".\",\"6\"]\n",
    "\n",
    ",[\".\",\"6\",\".\",\".\",\".\",\".\",\"2\",\"8\",\".\"]\n",
    "\n",
    ",[\".\",\".\",\".\",\"4\",\"1\",\"9\",\".\",\".\",\"5\"]\n",
    "\n",
    ",[\".\",\".\",\".\",\".\",\"8\",\".\",\".\",\"7\",\"9\"]]\n",
    "\n",
    "Output: true\n",
    "\n",
    "\n",
    "Example 2:\n",
    "\n",
    "Input: board = \n",
    "\n",
    "[[\"8\",\"3\",\".\",\".\",\"7\",\".\",\".\",\".\",\".\"]\n",
    "\n",
    ",[\"6\",\".\",\".\",\"1\",\"9\",\"5\",\".\",\".\",\".\"]\n",
    "\n",
    ",[\".\",\"9\",\"8\",\".\",\".\",\".\",\".\",\"6\",\".\"]\n",
    "\n",
    ",[\"8\",\".\",\".\",\".\",\"6\",\".\",\".\",\".\",\"3\"]\n",
    "\n",
    ",[\"4\",\".\",\".\",\"8\",\".\",\"3\",\".\",\".\",\"1\"]\n",
    "\n",
    ",[\"7\",\".\",\".\",\".\",\"2\",\".\",\".\",\".\",\"6\"]\n",
    "\n",
    ",[\".\",\"6\",\".\",\".\",\".\",\".\",\"2\",\"8\",\".\"]\n",
    "\n",
    ",[\".\",\".\",\".\",\"4\",\"1\",\"9\",\".\",\".\",\"5\"]\n",
    "\n",
    ",[\".\",\".\",\".\",\".\",\"8\",\".\",\".\",\"7\",\"9\"]]\n",
    "\n",
    "Output: false\n",
    "\n",
    "Explanation: Same as Example 1, except with the 5 in the top left corner being modified to 8. Since there are two 8's in the top left 3x3 sub-box, it is invalid.\n",
    " \n",
    "\n",
    "Constraints:\n",
    "\n",
    "board.length == 9\n",
    "board[i].length == 9\n",
    "board[i][j] is a digit 1-9 or '.'."
   ],
   "id": "975afdd854fcdfe4"
  },
  {
   "metadata": {
    "ExecuteTime": {
     "end_time": "2024-05-12T16:48:10.738739Z",
     "start_time": "2024-05-12T16:48:10.736120Z"
    }
   },
   "cell_type": "code",
   "source": "# Your code here\n",
   "id": "a979dd362e72be41",
   "outputs": [],
   "execution_count": 10
  },
  {
   "metadata": {},
   "cell_type": "markdown",
   "source": [
    "## Product of Array Except Self\n",
    "\n",
    "Given an integer array nums, return an array answer such that answer[i] is equal to the product of all the elements of nums except nums[i].\n",
    "\n",
    "The product of any prefix or suffix of nums is guaranteed to fit in a 32-bit integer.\n",
    "\n",
    "You must write an algorithm that runs in O(n) time and without using the division operation.\n",
    "\n",
    "\n",
    "Example 1:\n",
    "\n",
    "Input: nums = [1,2,3,4]\n",
    "Output: [24,12,8,6]\n",
    "\n",
    "\n",
    "Example 2:\n",
    "\n",
    "Input: nums = [-1,1,0,-3,3]\n",
    "Output: [0,0,9,0,0]\n",
    " \n",
    "\n",
    "Constraints:\n",
    "\n",
    "2 <= nums.length <= 105\n",
    "-30 <= nums[i] <= 30\n",
    "The product of any prefix or suffix of nums is guaranteed to fit in a 32-bit integer.\n"
   ],
   "id": "ff4555d91b14763c"
  },
  {
   "metadata": {
    "ExecuteTime": {
     "end_time": "2024-05-12T16:48:10.755169Z",
     "start_time": "2024-05-12T16:48:10.752349Z"
    }
   },
   "cell_type": "code",
   "source": "# Your code here\n",
   "id": "8e747eae780acde7",
   "outputs": [],
   "execution_count": 11
  },
  {
   "metadata": {
    "ExecuteTime": {
     "end_time": "2024-05-12T16:48:10.768020Z",
     "start_time": "2024-05-12T16:48:10.764887Z"
    }
   },
   "cell_type": "code",
   "source": "# Your code here\n",
   "id": "2b3a0e7f49cfa6e4",
   "outputs": [],
   "execution_count": 12
  },
  {
   "metadata": {},
   "cell_type": "markdown",
   "source": [
    "## Longest Consecutive Sequence\n",
    "\n",
    "Given an unsorted array of integers nums, return the length of the longest consecutive elements sequence.\n",
    "\n",
    "You must write an algorithm that runs in O(n) time.\n",
    "\n",
    " \n",
    "Example 1:\n",
    "\n",
    "Input: nums = [100,4,200,1,3,2]\n",
    "Output: 4\n",
    "Explanation: The longest consecutive elements sequence is [1, 2, 3, 4]. Therefore its length is 4.\n",
    "\n",
    "\n",
    "Example 2:\n",
    "\n",
    "Input: nums = [0,3,7,2,5,8,4,6,0,1]\n",
    "Output: 9\n",
    " \n",
    "\n",
    "Constraints:\n",
    "\n",
    "0 <= nums.length <= 105\n",
    "-109 <= nums[i] <= 109"
   ],
   "id": "f540b4a85937c6ab"
  },
  {
   "metadata": {
    "ExecuteTime": {
     "end_time": "2024-05-12T16:48:10.791862Z",
     "start_time": "2024-05-12T16:48:10.789341Z"
    }
   },
   "cell_type": "code",
   "source": "# Your code here\n",
   "id": "e7e51b5d04284f49",
   "outputs": [],
   "execution_count": 13
  },
  {
   "metadata": {},
   "cell_type": "markdown",
   "source": [
    "## Encode & Decode\n",
    "\n",
    "Please implement encode and decode.\n",
    "\n",
    "Example 1:\n",
    "\n",
    "Input: [\"we\",\"code\",\"love\",\"you\"]\n",
    "\n",
    "Output:[\"we\",\"code\",\"love\",\"you\"]\n",
    "\n",
    "Example 2:\n",
    "\n",
    "Input: [\"we\",\"say\",\":\",\"yes\"]\n",
    "\n",
    "Output: [\"we\",\"say\",\":\",\"yes\"]\n",
    "\n",
    "Constraints:\n",
    "\n",
    "0 <= strs.length < 100\n",
    "0 <= strs[i].length < 200\n",
    "strs[i] contains only UTF-8 characters."
   ],
   "id": "85a1c3ca2cf38f3"
  },
  {
   "metadata": {
    "ExecuteTime": {
     "end_time": "2024-05-12T16:48:10.806599Z",
     "start_time": "2024-05-12T16:48:10.804083Z"
    }
   },
   "cell_type": "code",
   "source": "# Your code here\n",
   "id": "cff6175e4c496c12",
   "outputs": [],
   "execution_count": 14
  },
  {
   "metadata": {
    "ExecuteTime": {
     "end_time": "2024-05-12T16:48:10.817297Z",
     "start_time": "2024-05-12T16:48:10.814678Z"
    }
   },
   "cell_type": "code",
   "source": "",
   "id": "6187f20a9f5118a1",
   "outputs": [],
   "execution_count": 14
  }
 ],
 "metadata": {
  "kernelspec": {
   "display_name": "Python 3",
   "language": "python",
   "name": "python3"
  },
  "language_info": {
   "codemirror_mode": {
    "name": "ipython",
    "version": 2
   },
   "file_extension": ".py",
   "mimetype": "text/x-python",
   "name": "python",
   "nbconvert_exporter": "python",
   "pygments_lexer": "ipython2",
   "version": "2.7.6"
  }
 },
 "nbformat": 4,
 "nbformat_minor": 5
}
