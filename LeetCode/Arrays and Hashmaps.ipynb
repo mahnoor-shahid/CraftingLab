{
 "cells": [
  {
   "metadata": {},
   "cell_type": "markdown",
   "source": [
    "# Practice: Arrays and Hashmaps \n",
    "\n",
    "In this Jupyter Notebook, we will explore two fundamental data structures: arrays and hashmaps. Arrays are simple data structures that store elements in a contiguous block of memory, allowing for efficient access to elements via their index. On the other hand, hashmaps (also known as dictionaries in Python) are data structures that store data in key-value pairs, enabling fast retrieval of values based on unique keys. Understanding these data structures is crucial for efficient data manipulation and retrieval in programming."
   ],
   "id": "f0770324a4adf353"
  },
  {
   "metadata": {},
   "cell_type": "markdown",
   "source": [
    "## Contains Duplicate\n",
    "\n",
    "Given an integer array nums, return true if any value appears at least twice in the array, and return false if every element is distinct.\n",
    "\n",
    "Example 1:\n",
    "\n",
    "Input: nums = [1, 2, 3, 1]\n",
    "Output: true\n",
    "\n",
    "Example 2:\n",
    "\n",
    "Input: nums = [1, 2, 3, 4]\n",
    "Output: false\n",
    "\n",
    "Example 3:\n",
    "\n",
    "Input: nums = [1, 1, 1, 3, 3, 4, 3, 2, 4, 2]\n",
    "Output: true\n",
    "\n",
    "Constraints:\n",
    "\n",
    "1 <= nums.length <= 105\n",
    "-109 <= nums[i] <= 109\n"
   ],
   "id": "bf9de4cf305321ed"
  },
  {
   "metadata": {
    "ExecuteTime": {
     "end_time": "2024-05-12T10:58:14.987900Z",
     "start_time": "2024-05-12T10:58:14.977320Z"
    }
   },
   "cell_type": "code",
   "source": [
    "from typing import List\n",
    "\n",
    "def contains_duplicate(nums: List[int]) -> bool:\n",
    "    hashset = set()\n",
    "    for i in nums:\n",
    "        if i in hashset:\n",
    "            return True\n",
    "        else:\n",
    "            hashset.add(i)\n",
    "    return False\n",
    "\n",
    "%time\n",
    "nums = [1, 2, 3, 4, 5, 6, 7, 8, 9, 10, 2]\n",
    "print(contains_duplicate(nums))"
   ],
   "id": "4ada3817b1a65189",
   "outputs": [
    {
     "name": "stdout",
     "output_type": "stream",
     "text": [
      "CPU times: user 2 µs, sys: 1e+03 ns, total: 3 µs\n",
      "Wall time: 7.39 µs\n",
      "True\n"
     ]
    }
   ],
   "execution_count": 166
  },
  {
   "metadata": {
    "ExecuteTime": {
     "end_time": "2024-05-11T23:19:29.664143Z",
     "start_time": "2024-05-11T23:19:29.658412Z"
    }
   },
   "cell_type": "code",
   "source": [
    "from typing import List\n",
    "\n",
    "def contains_duplicate(nums: List[int]) -> bool:\n",
    "    nums = sorted(nums)\n",
    "    for indx in range(0, len(nums)):\n",
    "        if nums[indx]==nums[indx+1]:\n",
    "            return True\n",
    "    return False\n",
    "\n",
    "%time\n",
    "nums = [1, 2, 3, 4, 5, 6, 7, 8, 9, 10, 2]\n",
    "print(contains_duplicate(nums))"
   ],
   "id": "ce49b03dc13d7b81",
   "outputs": [
    {
     "name": "stdout",
     "output_type": "stream",
     "text": [
      "CPU times: user 2 µs, sys: 0 ns, total: 2 µs\n",
      "Wall time: 5.72 µs\n",
      "True\n"
     ]
    }
   ],
   "execution_count": 39
  },
  {
   "metadata": {},
   "cell_type": "markdown",
   "source": [
    "## Check for Palindrome\n",
    "Given a string s, return true if it is a palindrome, or false otherwise. A palindrome is a word, phrase, number, or other sequence of characters which reads the same backward as forward, ignoring spaces, punctuation, and capitalization.\n",
    "\n",
    "Example 1:\n",
    "\n",
    "Input: s = \"A man, a plan, a canal: Panama\"\n",
    "Output: true\n",
    "\n",
    "Example 2:\n",
    "\n",
    "Input: s = \"race a car\"\n",
    "Output: false\n",
    "\n",
    "Example 3:\n",
    "\n",
    "Input: s = \" \"\n",
    "Output: true\n",
    "\n",
    "Constraints:\n",
    "1 <= s.length <= 10^5\n",
    "s consists only of printable ASCII characters."
   ],
   "id": "e5ff44b29ad620b2"
  },
  {
   "metadata": {
    "ExecuteTime": {
     "end_time": "2024-05-11T23:19:31.182525Z",
     "start_time": "2024-05-11T23:19:31.179226Z"
    }
   },
   "cell_type": "code",
   "source": [
    "def isPalindrome(s: str) -> bool:\n",
    "    s = s.lower()\n",
    "    return s == s[::-1]\n",
    "\n",
    "%time\n",
    "input_str = 'Hannah'\n",
    "print(isPalindrome(input_str))"
   ],
   "id": "f830e6d95d8638eb",
   "outputs": [
    {
     "name": "stdout",
     "output_type": "stream",
     "text": [
      "CPU times: user 2 µs, sys: 1 µs, total: 3 µs\n",
      "Wall time: 5.96 µs\n",
      "True\n"
     ]
    }
   ],
   "execution_count": 40
  },
  {
   "metadata": {},
   "cell_type": "markdown",
   "source": [
    "## Valid Anagram\n",
    "\n",
    "Given two strings s and t, return true if t is an anagram of s, and false otherwise.\n",
    "\n",
    "An Anagram is a word or phrase formed by rearranging the letters of a different word or phrase, typically using all the original letters exactly once.\n",
    "\n",
    "Example 1:\n",
    "\n",
    "Input: s = \"anagram\", t = \"nagaram\"\n",
    "Output: true\n",
    "\n",
    "Example 2:\n",
    "\n",
    "Input: s = \"rat\", t = \"car\"\n",
    "Output: false\n",
    "\n",
    "\n",
    "Constraints:\n",
    "\n",
    "1 <= s.length, t.length <= 5 * 104\n",
    "s and t consist of lowercase English letters.\n"
   ],
   "id": "51f8359f453205c1"
  },
  {
   "metadata": {
    "ExecuteTime": {
     "end_time": "2024-05-11T23:38:37.738585Z",
     "start_time": "2024-05-11T23:38:37.733590Z"
    }
   },
   "cell_type": "code",
   "source": [
    "from collections import Counter \n",
    "\n",
    "def is_anagram(s: str, t: str) -> bool:\n",
    "    return Counter(s) == Counter(t)\n",
    "\n",
    "%time\n",
    "s = 'anagram'\n",
    "t = 'nagaram'\n",
    "print(is_anagram(s, t))"
   ],
   "id": "f662583792b93bf",
   "outputs": [
    {
     "name": "stdout",
     "output_type": "stream",
     "text": [
      "CPU times: user 3 µs, sys: 0 ns, total: 3 µs\n",
      "Wall time: 7.15 µs\n",
      "True\n"
     ]
    }
   ],
   "execution_count": 58
  },
  {
   "metadata": {},
   "cell_type": "code",
   "outputs": [
    {
     "name": "stdout",
     "output_type": "stream",
     "text": [
      "CPU times: user 3 µs, sys: 1 µs, total: 4 µs\n",
      "Wall time: 10.5 µs\n",
      "True\n"
     ]
    }
   ],
   "execution_count": 57,
   "source": [
    "def is_anagram(s: str, t: str) -> bool:\n",
    "    return sorted(s) == sorted(t)\n",
    "\n",
    "%time\n",
    "s = 'anagram'\n",
    "t = 'nagaram'\n",
    "print(is_anagram(s, t))"
   ],
   "id": "4174917c566b5fe7"
  },
  {
   "metadata": {},
   "cell_type": "markdown",
   "source": [
    "## Two Sum\n",
    "\n",
    "Given an array of integers nums and an integer target, return indices of the two numbers such that they add up to target.\n",
    "\n",
    "You may assume that each input would have exactly one solution, and you may not use the same element twice.\n",
    "\n",
    "You can return the answer in any order.\n",
    "\n",
    "Example 1:\n",
    "\n",
    "Input: nums = [2,7,11,15], target = 9\n",
    "Output: [0,1]\n",
    "Explanation: Because nums[0] + nums[1] == 9, we return [0, 1].\n",
    "\n",
    "Example 2:\n",
    "\n",
    "Input: nums = [3,2,4], target = 6\n",
    "Output: [1,2]\n",
    "\n",
    "Example 3:\n",
    "\n",
    "Input: nums = [3,3], target = 6\n",
    "Output: [0,1]\n",
    "\n",
    "\n",
    "Constraints:\n",
    "\n",
    "2 <= nums.length <= 104\n",
    "-109 <= nums[i] <= 109\n",
    "-109 <= target <= 109\n",
    "Only one valid answer exists."
   ],
   "id": "6038f2811f40c245"
  },
  {
   "metadata": {
    "ExecuteTime": {
     "end_time": "2024-05-11T23:38:38.549624Z",
     "start_time": "2024-05-11T23:38:38.541821Z"
    }
   },
   "cell_type": "code",
   "source": [
    "from collections import defaultdict\n",
    "from typing import List\n",
    "\n",
    "def two_sum(nums: List[int], target: int) -> List[int]:\n",
    "    hashmap = defaultdict(int)\n",
    "    for indx in range(0, len(nums)):\n",
    "        abs_diff = abs(nums[indx]-target)\n",
    "        if abs_diff in hashmap.keys():\n",
    "            return [hashmap[abs_diff], indx]\n",
    "        else:\n",
    "            hashmap[nums[indx]]=indx\n",
    "            \n",
    "%time\n",
    "print(two_sum(nums=[2, 7, 11, 15], target=26))"
   ],
   "id": "b0f1209e9e3fa8c8",
   "outputs": [
    {
     "name": "stdout",
     "output_type": "stream",
     "text": [
      "CPU times: user 4 µs, sys: 1 µs, total: 5 µs\n",
      "Wall time: 26.7 µs\n",
      "[2, 3]\n"
     ]
    }
   ],
   "execution_count": 59
  },
  {
   "metadata": {},
   "cell_type": "markdown",
   "source": [
    "## Group Anagrams\n",
    "\n",
    "Given an array of strings strs, group the anagrams together. You can return the answer in any order.\n",
    "\n",
    "An Anagram is a word or phrase formed by rearranging the letters of a different word or phrase, typically using all the original letters exactly once.\n",
    "\n",
    "Example 1:\n",
    "\n",
    "Input: strs = [\"eat\",\"tea\",\"tan\",\"ate\",\"nat\",\"bat\"]\n",
    "Output: [[\"bat\"],[\"nat\",\"tan\"],[\"ate\",\"eat\",\"tea\"]]\n",
    "\n",
    "Example 2:\n",
    "\n",
    "Input: strs = [\"\"]\n",
    "Output: [[\"\"]]\n",
    "\n",
    "Example 3:\n",
    "\n",
    "Input: strs = [\"a\"]\n",
    "Output: [[\"a\"]]\n",
    "\n",
    "'''"
   ],
   "id": "a2651282dbf42f86"
  },
  {
   "metadata": {
    "ExecuteTime": {
     "end_time": "2024-05-11T23:38:39.010080Z",
     "start_time": "2024-05-11T23:38:39.002966Z"
    }
   },
   "cell_type": "code",
   "source": [
    "from collections import defaultdict\n",
    "from typing import List \n",
    "\n",
    "def group_anagrams(strs: List[str]) -> List[str]:\n",
    "    hashmap = defaultdict(list)\n",
    "    for s in strs:\n",
    "        freq_count  = [0] * 26\n",
    "        for c in s:\n",
    "            freq_count[ord(c) - ord('a')] += 1\n",
    "        hashmap[str(freq_count)].append(s)\n",
    "    return hashmap.values()\n",
    "\n",
    "%time\n",
    "print(group_anagrams(strs=[\"eat\",\"tea\",\"tan\",\"ate\",\"nat\",\"bat\"]))"
   ],
   "id": "dd9e0ee8ad3ab996",
   "outputs": [
    {
     "name": "stdout",
     "output_type": "stream",
     "text": [
      "CPU times: user 4 µs, sys: 1 µs, total: 5 µs\n",
      "Wall time: 10.7 µs\n",
      "dict_values([['eat', 'tea', 'ate'], ['tan', 'nat'], ['bat']])\n"
     ]
    }
   ],
   "execution_count": 60
  },
  {
   "metadata": {},
   "cell_type": "markdown",
   "source": [
    "## Top K Frequent Elements\n",
    "\n",
    "Given an integer array nums and an integer k, return the k most frequent elements. You may return the answer in any order.\n",
    "\n",
    "Example 1:\n",
    "\n",
    "Input: nums = [1,1,1,2,2,3], k = 2\n",
    "Output: [1,2]\n",
    "\n",
    "Example 2:\n",
    "\n",
    "Input: nums = [1], k = 1\n",
    "Output: [1]\n",
    " \n",
    "Constraints:\n",
    "\n",
    "1 <= nums.length <= 105\n",
    "-104 <= nums[i] <= 104\n",
    "k is in the range [1, the number of unique elements in the array].\n",
    "It is guaranteed that the answer is unique."
   ],
   "id": "a63406f44d75bfdd"
  },
  {
   "metadata": {
    "ExecuteTime": {
     "end_time": "2024-05-12T10:44:08.031497Z",
     "start_time": "2024-05-12T10:44:08.020700Z"
    }
   },
   "cell_type": "code",
   "source": [
    "from typing import List\n",
    "\n",
    "def top_nums(nums: List[int], k:int) -> List[int]:\n",
    "    freq_count = Counter(nums)\n",
    "    bucket = [[] for _ in range(len(nums) + 1)]\n",
    "    for key, val in freq_count.items():\n",
    "        bucket[val].append(key)\n",
    " \n",
    "    result = []\n",
    "    for val in bucket[::-1]:\n",
    "        if val:\n",
    "            result.extend(val)\n",
    "            if len(result) == k:\n",
    "                return result\n",
    "    \n",
    "%time    \n",
    "print(top_nums(nums=[3,3,3,5,5,7,7,7,7,7,7,1,1], k=2))\n",
    "    "
   ],
   "id": "19ef509b7217e86",
   "outputs": [
    {
     "name": "stdout",
     "output_type": "stream",
     "text": [
      "CPU times: user 2 µs, sys: 1 µs, total: 3 µs\n",
      "Wall time: 7.15 µs\n",
      "[7, 3]\n"
     ]
    }
   ],
   "execution_count": 162
  },
  {
   "metadata": {
    "ExecuteTime": {
     "end_time": "2024-05-12T10:44:15.054970Z",
     "start_time": "2024-05-12T10:44:15.041769Z"
    }
   },
   "cell_type": "code",
   "source": [
    "from collections import defaultdict\n",
    "from typing import List\n",
    "\n",
    "def top_nums(nums: List[int], k:int) -> List[int]:\n",
    "    freq_count = Counter(nums)\n",
    "    return [item[0] for item in sorted(freq_count.items(), key=lambda item: item[1], reverse=True)[:k] ]\n",
    "\n",
    "%time\n",
    "print(top_nums(nums=[3,3,3,5,5,7,7,7,7,7,7,1,1], k=2))"
   ],
   "id": "af7e383bc0bab92f",
   "outputs": [
    {
     "name": "stdout",
     "output_type": "stream",
     "text": [
      "CPU times: user 10 µs, sys: 0 ns, total: 10 µs\n",
      "Wall time: 20 µs\n",
      "[7, 3]\n"
     ]
    }
   ],
   "execution_count": 164
  },
  {
   "metadata": {},
   "cell_type": "markdown",
   "source": [
    "## Valid Sudoku\n",
    "\n",
    "Determine if a 9 x 9 Sudoku board is valid. Only the filled cells need to be validated according to the following rules:\n",
    "\n",
    "Each row must contain the digits 1-9 without repetition.\n",
    "Each column must contain the digits 1-9 without repetition.\n",
    "Each of the nine 3 x 3 sub-boxes of the grid must contain the digits 1-9 without repetition.\n",
    "\n",
    "Note:\n",
    "A Sudoku board (partially filled) could be valid but is not necessarily solvable.\n",
    "Only the filled cells need to be validated according to the mentioned rules.\n",
    " \n",
    "Example 1:\n",
    "\n",
    "Input: board = \n",
    "\n",
    "[[\"5\",\"3\",\".\",\".\",\"7\",\".\",\".\",\".\",\".\"]\n",
    "\n",
    ",[\"6\",\".\",\".\",\"1\",\"9\",\"5\",\".\",\".\",\".\"]\n",
    "\n",
    ",[\".\",\"9\",\"8\",\".\",\".\",\".\",\".\",\"6\",\".\"]\n",
    "\n",
    ",[\"8\",\".\",\".\",\".\",\"6\",\".\",\".\",\".\",\"3\"]\n",
    "\n",
    ",[\"4\",\".\",\".\",\"8\",\".\",\"3\",\".\",\".\",\"1\"]\n",
    "\n",
    ",[\"7\",\".\",\".\",\".\",\"2\",\".\",\".\",\".\",\"6\"]\n",
    "\n",
    ",[\".\",\"6\",\".\",\".\",\".\",\".\",\"2\",\"8\",\".\"]\n",
    "\n",
    ",[\".\",\".\",\".\",\"4\",\"1\",\"9\",\".\",\".\",\"5\"]\n",
    "\n",
    ",[\".\",\".\",\".\",\".\",\"8\",\".\",\".\",\"7\",\"9\"]]\n",
    "\n",
    "Output: true\n",
    "\n",
    "\n",
    "Example 2:\n",
    "\n",
    "Input: board = \n",
    "\n",
    "[[\"8\",\"3\",\".\",\".\",\"7\",\".\",\".\",\".\",\".\"]\n",
    "\n",
    ",[\"6\",\".\",\".\",\"1\",\"9\",\"5\",\".\",\".\",\".\"]\n",
    "\n",
    ",[\".\",\"9\",\"8\",\".\",\".\",\".\",\".\",\"6\",\".\"]\n",
    "\n",
    ",[\"8\",\".\",\".\",\".\",\"6\",\".\",\".\",\".\",\"3\"]\n",
    "\n",
    ",[\"4\",\".\",\".\",\"8\",\".\",\"3\",\".\",\".\",\"1\"]\n",
    "\n",
    ",[\"7\",\".\",\".\",\".\",\"2\",\".\",\".\",\".\",\"6\"]\n",
    "\n",
    ",[\".\",\"6\",\".\",\".\",\".\",\".\",\"2\",\"8\",\".\"]\n",
    "\n",
    ",[\".\",\".\",\".\",\"4\",\"1\",\"9\",\".\",\".\",\"5\"]\n",
    "\n",
    ",[\".\",\".\",\".\",\".\",\"8\",\".\",\".\",\"7\",\"9\"]]\n",
    "\n",
    "Output: false\n",
    "\n",
    "Explanation: Same as Example 1, except with the 5 in the top left corner being modified to 8. Since there are two 8's in the top left 3x3 sub-box, it is invalid.\n",
    " \n",
    "\n",
    "Constraints:\n",
    "\n",
    "board.length == 9\n",
    "board[i].length == 9\n",
    "board[i][j] is a digit 1-9 or '.'."
   ],
   "id": "975afdd854fcdfe4"
  },
  {
   "metadata": {
    "ExecuteTime": {
     "end_time": "2024-05-12T15:19:27.085003Z",
     "start_time": "2024-05-12T15:19:27.072595Z"
    }
   },
   "cell_type": "code",
   "source": [
    "from typing import List\n",
    "from collections import defaultdict\n",
    "\n",
    "def valid_sudoku(board: List[List[str]]) -> bool:\n",
    "    row_hashmap = defaultdict(set)\n",
    "    col_hashmap = defaultdict(set)\n",
    "    block_hashmap = defaultdict(set)\n",
    "    for row in range(9):\n",
    "        for col in range(9):\n",
    "            if board[row][col] != '.':\n",
    "                if (board[row][col] in row_hashmap[row]) or (board[row][col] in col_hashmap[col]) or (board[row][col] in block_hashmap[row//3, col//3]):\n",
    "                    return False\n",
    "                else:\n",
    "                    row_hashmap[row].add(board[row][col])\n",
    "                    col_hashmap[col].add(board[row][col])\n",
    "                    block_hashmap[row//3, col//3].add(board[row][col])\n",
    "    return True\n",
    "\n",
    "%time\n",
    "print(valid_sudoku([[\"5\",\"3\",\".\",\".\",\"7\",\".\",\".\",\".\",\".\"],[\"6\",\".\",\".\",\"1\",\"9\",\"5\",\".\",\".\",\".\"],[\".\",\"9\",\"8\",\".\",\".\",\".\",\".\",\"6\",\".\"],\n",
    "                    [\"8\",\".\",\".\",\".\",\"6\",\".\",\".\",\".\",\"3\"],[\"4\",\".\",\".\",\"8\",\".\",\"3\",\".\",\".\",\"1\"],[\"7\",\".\",\".\",\".\",\"2\",\".\",\".\",\".\",\"6\"],\n",
    "                    [\".\",\"6\",\".\",\".\",\".\",\".\",\"2\",\"8\",\".\"],[\".\",\".\",\".\",\"4\",\"1\",\"9\",\".\",\".\",\"s\"],[\".\",\".\",\".\",\".\",\"8\",\".\",\".\",\"7\",\"9\"]]))\n"
   ],
   "id": "a979dd362e72be41",
   "outputs": [
    {
     "name": "stdout",
     "output_type": "stream",
     "text": [
      "CPU times: user 6 µs, sys: 2 µs, total: 8 µs\n",
      "Wall time: 14.5 µs\n",
      "True\n"
     ]
    }
   ],
   "execution_count": 185
  },
  {
   "metadata": {},
   "cell_type": "markdown",
   "source": [
    "## Product of Array Except Self\n",
    "\n",
    "Given an integer array nums, return an array answer such that answer[i] is equal to the product of all the elements of nums except nums[i].\n",
    "\n",
    "The product of any prefix or suffix of nums is guaranteed to fit in a 32-bit integer.\n",
    "\n",
    "You must write an algorithm that runs in O(n) time and without using the division operation.\n",
    "\n",
    "\n",
    "Example 1:\n",
    "\n",
    "Input: nums = [1,2,3,4]\n",
    "Output: [24,12,8,6]\n",
    "\n",
    "\n",
    "Example 2:\n",
    "\n",
    "Input: nums = [-1,1,0,-3,3]\n",
    "Output: [0,0,9,0,0]\n",
    " \n",
    "\n",
    "Constraints:\n",
    "\n",
    "2 <= nums.length <= 105\n",
    "-30 <= nums[i] <= 30\n",
    "The product of any prefix or suffix of nums is guaranteed to fit in a 32-bit integer.\n"
   ],
   "id": "ff4555d91b14763c"
  },
  {
   "metadata": {
    "ExecuteTime": {
     "end_time": "2024-05-12T15:19:28.759138Z",
     "start_time": "2024-05-12T15:19:28.752957Z"
    }
   },
   "cell_type": "code",
   "source": [
    "# with division\n",
    "from typing import List\n",
    "\n",
    "def prod_of_array(nums: List[int]) -> List[int]:\n",
    "    product = 1\n",
    "    zero_count = 0\n",
    "    for i in range(len(nums)):\n",
    "        if nums[i] != 0:\n",
    "            product *= nums[i]\n",
    "        else:\n",
    "            zero_count +=1\n",
    "            \n",
    "    if zero_count == 0:\n",
    "        return [product/num for num in nums]\n",
    "    else:\n",
    "        return [product if num == 0 else 0 for num in nums]\n",
    "\n",
    "%time\n",
    "print(prod_of_array([1,2,3,4]))  # Output: [24, 12, 8, 6]\n",
    "print(prod_of_array([-1,1,0,-3,3]))  # Output: [0, 0, 9, 0, 0]"
   ],
   "id": "8e747eae780acde7",
   "outputs": [
    {
     "name": "stdout",
     "output_type": "stream",
     "text": [
      "CPU times: user 2 µs, sys: 0 ns, total: 2 µs\n",
      "Wall time: 7.15 µs\n",
      "[24.0, 12.0, 8.0, 6.0]\n",
      "[0, 0, 9, 0, 0]\n"
     ]
    }
   ],
   "execution_count": 186
  },
  {
   "metadata": {
    "ExecuteTime": {
     "end_time": "2024-05-12T15:48:32.255723Z",
     "start_time": "2024-05-12T15:48:32.248971Z"
    }
   },
   "cell_type": "code",
   "source": [
    "# without division\n",
    "\n",
    "from typing import List\n",
    "\n",
    "def prod_of_array(nums: List[int]) -> List[int]:\n",
    "\n",
    "    prefix , postfix= [1] * (len(nums)+1), [1] * (len(nums)+1)   \n",
    "    for i in range(1, len(nums) + 1):\n",
    "        prefix[i] = prefix[i - 1] * nums[i - 1]\n",
    "    for i in range(len(nums) - 1, -1, -1):\n",
    "        postfix[i] = postfix[i + 1] * nums[i]\n",
    "\n",
    "    return [prefix[i] * postfix[i + 1] for i in range(len(nums))]\n",
    "\n",
    "%time\n",
    "print(prod_of_array([1,2,3,4]))  # Output: [24, 12, 8, 6]\n",
    "print(prod_of_array([-1,1,0,-3,3]))  # Output: [0, 0, 9, 0, 0]\n"
   ],
   "id": "2b3a0e7f49cfa6e4",
   "outputs": [
    {
     "name": "stdout",
     "output_type": "stream",
     "text": [
      "CPU times: user 1e+03 ns, sys: 1 µs, total: 2 µs\n",
      "Wall time: 6.2 µs\n",
      "[24, 12, 8, 6]\n",
      "[0, 0, 9, 0, 0]\n"
     ]
    }
   ],
   "execution_count": 193
  },
  {
   "metadata": {},
   "cell_type": "code",
   "outputs": [],
   "execution_count": null,
   "source": "",
   "id": "506544d95901a42b"
  }
 ],
 "metadata": {
  "kernelspec": {
   "display_name": "Python 3",
   "language": "python",
   "name": "python3"
  },
  "language_info": {
   "codemirror_mode": {
    "name": "ipython",
    "version": 2
   },
   "file_extension": ".py",
   "mimetype": "text/x-python",
   "name": "python",
   "nbconvert_exporter": "python",
   "pygments_lexer": "ipython2",
   "version": "2.7.6"
  }
 },
 "nbformat": 4,
 "nbformat_minor": 5
}
