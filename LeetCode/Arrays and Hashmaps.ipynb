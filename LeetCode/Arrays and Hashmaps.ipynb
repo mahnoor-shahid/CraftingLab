{
 "cells": [
  {
   "metadata": {},
   "cell_type": "markdown",
   "source": [
    "# Practice: Arrays and Hashmaps \n",
    "\n",
    "In this Jupyter Notebook, we will explore two fundamental data structures: arrays and hashmaps. Arrays are simple data structures that store elements in a contiguous block of memory, allowing for efficient access to elements via their index. On the other hand, hashmaps (also known as dictionaries in Python) are data structures that store data in key-value pairs, enabling fast retrieval of values based on unique keys. Understanding these data structures is crucial for efficient data manipulation and retrieval in programming."
   ],
   "id": "f0770324a4adf353"
  },
  {
   "metadata": {},
   "cell_type": "markdown",
   "source": [
    "## Contains Duplicate\n",
    "\n",
    "Given an integer array nums, return true if any value appears at least twice in the array, and return false if every element is distinct.\n",
    "\n",
    "Example 1:\n",
    "\n",
    "Input: nums = [1, 2, 3, 1]\n",
    "Output: true\n",
    "\n",
    "Example 2:\n",
    "\n",
    "Input: nums = [1, 2, 3, 4]\n",
    "Output: false\n",
    "\n",
    "Example 3:\n",
    "\n",
    "Input: nums = [1, 1, 1, 3, 3, 4, 3, 2, 4, 2]\n",
    "Output: true\n",
    "\n",
    "Constraints:\n",
    "\n",
    "1 <= nums.length <= 105\n",
    "-109 <= nums[i] <= 109\n"
   ],
   "id": "bf9de4cf305321ed"
  },
  {
   "metadata": {
    "ExecuteTime": {
     "end_time": "2024-05-12T00:12:07.325939Z",
     "start_time": "2024-05-12T00:12:07.320596Z"
    }
   },
   "cell_type": "code",
   "source": [
    "from typing import List\n",
    "\n",
    "def contains_duplicate(nums: List[int]) -> bool:\n",
    "    hashset = set()\n",
    "    for i in nums:\n",
    "        if i in hashset:\n",
    "            return True\n",
    "        else:\n",
    "            hashset.add(i)\n",
    "    return False\n",
    "\n",
    "%time\n",
    "nums = [1, 2, 3, 4, 5, 6, 7, 8, 9, 10, 2]\n",
    "print(contains_duplicate(nums))"
   ],
   "id": "4ada3817b1a65189",
   "outputs": [
    {
     "name": "stdout",
     "output_type": "stream",
     "text": [
      "CPU times: user 2 µs, sys: 1 µs, total: 3 µs\n",
      "Wall time: 6.44 µs\n",
      "True\n"
     ]
    }
   ],
   "execution_count": 96
  },
  {
   "metadata": {
    "ExecuteTime": {
     "end_time": "2024-05-11T23:19:29.664143Z",
     "start_time": "2024-05-11T23:19:29.658412Z"
    }
   },
   "cell_type": "code",
   "source": [
    "from typing import List\n",
    "\n",
    "def contains_duplicate(nums: List[int]) -> bool:\n",
    "    nums = sorted(nums)\n",
    "    for indx in range(0, len(nums)):\n",
    "        if nums[indx]==nums[indx+1]:\n",
    "            return True\n",
    "    return False\n",
    "\n",
    "%time\n",
    "nums = [1, 2, 3, 4, 5, 6, 7, 8, 9, 10, 2]\n",
    "print(contains_duplicate(nums))"
   ],
   "id": "ce49b03dc13d7b81",
   "outputs": [
    {
     "name": "stdout",
     "output_type": "stream",
     "text": [
      "CPU times: user 2 µs, sys: 0 ns, total: 2 µs\n",
      "Wall time: 5.72 µs\n",
      "True\n"
     ]
    }
   ],
   "execution_count": 39
  },
  {
   "metadata": {},
   "cell_type": "markdown",
   "source": [
    "## Check for Palindrome\n",
    "Given a string s, return true if it is a palindrome, or false otherwise. A palindrome is a word, phrase, number, or other sequence of characters which reads the same backward as forward, ignoring spaces, punctuation, and capitalization.\n",
    "\n",
    "Example 1:\n",
    "\n",
    "Input: s = \"A man, a plan, a canal: Panama\"\n",
    "Output: true\n",
    "\n",
    "Example 2:\n",
    "\n",
    "Input: s = \"race a car\"\n",
    "Output: false\n",
    "\n",
    "Example 3:\n",
    "\n",
    "Input: s = \" \"\n",
    "Output: true\n",
    "\n",
    "Constraints:\n",
    "1 <= s.length <= 10^5\n",
    "s consists only of printable ASCII characters."
   ],
   "id": "e5ff44b29ad620b2"
  },
  {
   "metadata": {
    "ExecuteTime": {
     "end_time": "2024-05-11T23:19:31.182525Z",
     "start_time": "2024-05-11T23:19:31.179226Z"
    }
   },
   "cell_type": "code",
   "source": [
    "def isPalindrome(s: str) -> bool:\n",
    "    s = s.lower()\n",
    "    return s == s[::-1]\n",
    "\n",
    "%time\n",
    "input_str = 'Hannah'\n",
    "print(isPalindrome(input_str))"
   ],
   "id": "f830e6d95d8638eb",
   "outputs": [
    {
     "name": "stdout",
     "output_type": "stream",
     "text": [
      "CPU times: user 2 µs, sys: 1 µs, total: 3 µs\n",
      "Wall time: 5.96 µs\n",
      "True\n"
     ]
    }
   ],
   "execution_count": 40
  },
  {
   "metadata": {},
   "cell_type": "markdown",
   "source": [
    "## Valid Anagram\n",
    "\n",
    "Given two strings s and t, return true if t is an anagram of s, and false otherwise.\n",
    "\n",
    "An Anagram is a word or phrase formed by rearranging the letters of a different word or phrase, typically using all the original letters exactly once.\n",
    "\n",
    "Example 1:\n",
    "\n",
    "Input: s = \"anagram\", t = \"nagaram\"\n",
    "Output: true\n",
    "\n",
    "Example 2:\n",
    "\n",
    "Input: s = \"rat\", t = \"car\"\n",
    "Output: false\n",
    "\n",
    "\n",
    "Constraints:\n",
    "\n",
    "1 <= s.length, t.length <= 5 * 104\n",
    "s and t consist of lowercase English letters.\n"
   ],
   "id": "51f8359f453205c1"
  },
  {
   "metadata": {
    "ExecuteTime": {
     "end_time": "2024-05-11T23:38:37.738585Z",
     "start_time": "2024-05-11T23:38:37.733590Z"
    }
   },
   "cell_type": "code",
   "source": [
    "from collections import Counter \n",
    "\n",
    "def is_anagram(s: str, t: str) -> bool:\n",
    "    return Counter(s) == Counter(t)\n",
    "\n",
    "%time\n",
    "s = 'anagram'\n",
    "t = 'nagaram'\n",
    "print(is_anagram(s, t))"
   ],
   "id": "f662583792b93bf",
   "outputs": [
    {
     "name": "stdout",
     "output_type": "stream",
     "text": [
      "CPU times: user 3 µs, sys: 0 ns, total: 3 µs\n",
      "Wall time: 7.15 µs\n",
      "True\n"
     ]
    }
   ],
   "execution_count": 58
  },
  {
   "metadata": {},
   "cell_type": "code",
   "outputs": [
    {
     "name": "stdout",
     "output_type": "stream",
     "text": [
      "CPU times: user 3 µs, sys: 1 µs, total: 4 µs\n",
      "Wall time: 10.5 µs\n",
      "True\n"
     ]
    }
   ],
   "execution_count": 57,
   "source": [
    "def is_anagram(s: str, t: str) -> bool:\n",
    "    return sorted(s) == sorted(t)\n",
    "\n",
    "%time\n",
    "s = 'anagram'\n",
    "t = 'nagaram'\n",
    "print(is_anagram(s, t))"
   ],
   "id": "4174917c566b5fe7"
  },
  {
   "metadata": {},
   "cell_type": "markdown",
   "source": [
    "## Two Sum\n",
    "\n",
    "Given an array of integers nums and an integer target, return indices of the two numbers such that they add up to target.\n",
    "\n",
    "You may assume that each input would have exactly one solution, and you may not use the same element twice.\n",
    "\n",
    "You can return the answer in any order.\n",
    "\n",
    "Example 1:\n",
    "\n",
    "Input: nums = [2,7,11,15], target = 9\n",
    "Output: [0,1]\n",
    "Explanation: Because nums[0] + nums[1] == 9, we return [0, 1].\n",
    "\n",
    "Example 2:\n",
    "\n",
    "Input: nums = [3,2,4], target = 6\n",
    "Output: [1,2]\n",
    "\n",
    "Example 3:\n",
    "\n",
    "Input: nums = [3,3], target = 6\n",
    "Output: [0,1]\n",
    "\n",
    "\n",
    "Constraints:\n",
    "\n",
    "2 <= nums.length <= 104\n",
    "-109 <= nums[i] <= 109\n",
    "-109 <= target <= 109\n",
    "Only one valid answer exists.\n",
    "\n",
    "'''"
   ],
   "id": "6038f2811f40c245"
  },
  {
   "metadata": {
    "ExecuteTime": {
     "end_time": "2024-05-11T23:38:38.549624Z",
     "start_time": "2024-05-11T23:38:38.541821Z"
    }
   },
   "cell_type": "code",
   "source": [
    "from collections import defaultdict\n",
    "from typing import List\n",
    "\n",
    "def two_sum(nums: List[int], target: int) -> List[int]:\n",
    "    hashmap = defaultdict(int)\n",
    "    for indx in range(0, len(nums)):\n",
    "        abs_diff = abs(nums[indx]-target)\n",
    "        if abs_diff in hashmap.keys():\n",
    "            return [hashmap[abs_diff], indx]\n",
    "        else:\n",
    "            hashmap[nums[indx]]=indx\n",
    "            \n",
    "%time\n",
    "print(two_sum(nums=[2, 7, 11, 15], target=26))"
   ],
   "id": "b0f1209e9e3fa8c8",
   "outputs": [
    {
     "name": "stdout",
     "output_type": "stream",
     "text": [
      "CPU times: user 4 µs, sys: 1 µs, total: 5 µs\n",
      "Wall time: 26.7 µs\n",
      "[2, 3]\n"
     ]
    }
   ],
   "execution_count": 59
  },
  {
   "metadata": {},
   "cell_type": "markdown",
   "source": [
    "## Group Anagrams\n",
    "\n",
    "Given an array of strings strs, group the anagrams together. You can return the answer in any order.\n",
    "\n",
    "An Anagram is a word or phrase formed by rearranging the letters of a different word or phrase, typically using all the original letters exactly once.\n",
    "\n",
    "Example 1:\n",
    "\n",
    "Input: strs = [\"eat\",\"tea\",\"tan\",\"ate\",\"nat\",\"bat\"]\n",
    "Output: [[\"bat\"],[\"nat\",\"tan\"],[\"ate\",\"eat\",\"tea\"]]\n",
    "\n",
    "Example 2:\n",
    "\n",
    "Input: strs = [\"\"]\n",
    "Output: [[\"\"]]\n",
    "\n",
    "Example 3:\n",
    "\n",
    "Input: strs = [\"a\"]\n",
    "Output: [[\"a\"]]\n",
    "\n",
    "'''"
   ],
   "id": "a2651282dbf42f86"
  },
  {
   "metadata": {
    "ExecuteTime": {
     "end_time": "2024-05-11T23:38:39.010080Z",
     "start_time": "2024-05-11T23:38:39.002966Z"
    }
   },
   "cell_type": "code",
   "source": [
    "from collections import defaultdict\n",
    "from typing import List \n",
    "\n",
    "def group_anagrams(strs: List[str]) -> List[str]:\n",
    "    hashmap = defaultdict(list)\n",
    "    for s in strs:\n",
    "        freq_count  = [0] * 26\n",
    "        for c in s:\n",
    "            freq_count[ord(c) - ord('a')] += 1\n",
    "        hashmap[str(freq_count)].append(s)\n",
    "    return hashmap.values()\n",
    "\n",
    "%time\n",
    "print(group_anagrams(strs=[\"eat\",\"tea\",\"tan\",\"ate\",\"nat\",\"bat\"]))"
   ],
   "id": "dd9e0ee8ad3ab996",
   "outputs": [
    {
     "name": "stdout",
     "output_type": "stream",
     "text": [
      "CPU times: user 4 µs, sys: 1 µs, total: 5 µs\n",
      "Wall time: 10.7 µs\n",
      "dict_values([['eat', 'tea', 'ate'], ['tan', 'nat'], ['bat']])\n"
     ]
    }
   ],
   "execution_count": 60
  },
  {
   "metadata": {},
   "cell_type": "markdown",
   "source": [
    "## Top K Frequent Elements\n",
    "\n",
    "Given an integer array nums and an integer k, return the k most frequent elements. You may return the answer in any order.\n",
    "\n",
    "Example 1:\n",
    "\n",
    "Input: nums = [1,1,1,2,2,3], k = 2\n",
    "Output: [1,2]\n",
    "\n",
    "Example 2:\n",
    "\n",
    "Input: nums = [1], k = 1\n",
    "Output: [1]\n",
    " \n",
    "Constraints:\n",
    "\n",
    "1 <= nums.length <= 105\n",
    "-104 <= nums[i] <= 104\n",
    "k is in the range [1, the number of unique elements in the array].\n",
    "It is guaranteed that the answer is unique."
   ],
   "id": "a63406f44d75bfdd"
  },
  {
   "metadata": {},
   "cell_type": "code",
   "outputs": [],
   "execution_count": null,
   "source": [
    "from typing import List\n",
    "\n",
    "def top_nums(nums: List[int], k:int) -> List[int]:\n",
    "    freq_count = Counter(nums)\n",
    "    top_nums = [[] for i in range(0, len(nums)+1)]\n",
    "    \n",
    "    for k, v in freq_count.items():\n",
    "        top_nums[v]\n",
    "        \n",
    "    \n",
    "    \n",
    "    "
   ],
   "id": "19ef509b7217e86"
  },
  {
   "metadata": {
    "ExecuteTime": {
     "end_time": "2024-05-12T00:15:10.258704Z",
     "start_time": "2024-05-12T00:15:10.217754Z"
    }
   },
   "cell_type": "code",
   "source": [
    "from collections import defaultdict\n",
    "from typing import List\n",
    "\n",
    "def top_nums(nums: List[int], k:int) -> List[int]:\n",
    "    freq_count = Counter(nums)\n",
    "    return [item[0] for item in sorted(freq_count.items(), key=lambda item: item[1], reverse=True)[:k] ]\n",
    "\n",
    "%time\n",
    "print(top_nums(nums=[3,3,3,5,5,7,7,7,7,7,7,1,1], k=2))"
   ],
   "id": "af7e383bc0bab92f",
   "outputs": [
    {
     "name": "stdout",
     "output_type": "stream",
     "text": [
      "CPU times: user 4 µs, sys: 1e+03 ns, total: 5 µs\n",
      "Wall time: 10.3 µs\n"
     ]
    },
    {
     "ename": "TypeError",
     "evalue": "'int' object is not subscriptable",
     "output_type": "error",
     "traceback": [
      "\u001B[0;31m---------------------------------------------------------------------------\u001B[0m",
      "\u001B[0;31mTypeError\u001B[0m                                 Traceback (most recent call last)",
      "Cell \u001B[0;32mIn[97], line 9\u001B[0m\n\u001B[1;32m      6\u001B[0m     \u001B[38;5;28;01mreturn\u001B[39;00m [item[\u001B[38;5;241m0\u001B[39m] \u001B[38;5;28;01mfor\u001B[39;00m item \u001B[38;5;129;01min\u001B[39;00m \u001B[38;5;28msorted\u001B[39m(freq_count, key\u001B[38;5;241m=\u001B[39m\u001B[38;5;28;01mlambda\u001B[39;00m item: item[\u001B[38;5;241m1\u001B[39m], reverse\u001B[38;5;241m=\u001B[39m\u001B[38;5;28;01mTrue\u001B[39;00m)[:k] ]\n\u001B[1;32m      8\u001B[0m get_ipython()\u001B[38;5;241m.\u001B[39mrun_line_magic(\u001B[38;5;124m'\u001B[39m\u001B[38;5;124mtime\u001B[39m\u001B[38;5;124m'\u001B[39m, \u001B[38;5;124m'\u001B[39m\u001B[38;5;124m'\u001B[39m)\n\u001B[0;32m----> 9\u001B[0m \u001B[38;5;28mprint\u001B[39m(top_nums(nums\u001B[38;5;241m=\u001B[39m[\u001B[38;5;241m3\u001B[39m,\u001B[38;5;241m3\u001B[39m,\u001B[38;5;241m3\u001B[39m,\u001B[38;5;241m5\u001B[39m,\u001B[38;5;241m5\u001B[39m,\u001B[38;5;241m7\u001B[39m,\u001B[38;5;241m7\u001B[39m,\u001B[38;5;241m7\u001B[39m,\u001B[38;5;241m7\u001B[39m,\u001B[38;5;241m7\u001B[39m,\u001B[38;5;241m7\u001B[39m,\u001B[38;5;241m1\u001B[39m,\u001B[38;5;241m1\u001B[39m], k\u001B[38;5;241m=\u001B[39m\u001B[38;5;241m2\u001B[39m))\n",
      "Cell \u001B[0;32mIn[97], line 6\u001B[0m, in \u001B[0;36mtop_nums\u001B[0;34m(nums, k)\u001B[0m\n\u001B[1;32m      4\u001B[0m \u001B[38;5;28;01mdef\u001B[39;00m \u001B[38;5;21mtop_nums\u001B[39m(nums: List[\u001B[38;5;28mint\u001B[39m], k:\u001B[38;5;28mint\u001B[39m) \u001B[38;5;241m-\u001B[39m\u001B[38;5;241m>\u001B[39m List[\u001B[38;5;28mint\u001B[39m]:\n\u001B[1;32m      5\u001B[0m     freq_count \u001B[38;5;241m=\u001B[39m Counter(nums)\n\u001B[0;32m----> 6\u001B[0m     \u001B[38;5;28;01mreturn\u001B[39;00m [item[\u001B[38;5;241m0\u001B[39m] \u001B[38;5;28;01mfor\u001B[39;00m item \u001B[38;5;129;01min\u001B[39;00m \u001B[38;5;28msorted\u001B[39m(freq_count, key\u001B[38;5;241m=\u001B[39m\u001B[38;5;28;01mlambda\u001B[39;00m item: item[\u001B[38;5;241m1\u001B[39m], reverse\u001B[38;5;241m=\u001B[39m\u001B[38;5;28;01mTrue\u001B[39;00m)[:k] ]\n",
      "Cell \u001B[0;32mIn[97], line 6\u001B[0m, in \u001B[0;36mtop_nums.<locals>.<lambda>\u001B[0;34m(item)\u001B[0m\n\u001B[1;32m      4\u001B[0m \u001B[38;5;28;01mdef\u001B[39;00m \u001B[38;5;21mtop_nums\u001B[39m(nums: List[\u001B[38;5;28mint\u001B[39m], k:\u001B[38;5;28mint\u001B[39m) \u001B[38;5;241m-\u001B[39m\u001B[38;5;241m>\u001B[39m List[\u001B[38;5;28mint\u001B[39m]:\n\u001B[1;32m      5\u001B[0m     freq_count \u001B[38;5;241m=\u001B[39m Counter(nums)\n\u001B[0;32m----> 6\u001B[0m     \u001B[38;5;28;01mreturn\u001B[39;00m [item[\u001B[38;5;241m0\u001B[39m] \u001B[38;5;28;01mfor\u001B[39;00m item \u001B[38;5;129;01min\u001B[39;00m \u001B[38;5;28msorted\u001B[39m(freq_count, key\u001B[38;5;241m=\u001B[39m\u001B[38;5;28;01mlambda\u001B[39;00m item: item[\u001B[38;5;241m1\u001B[39m], reverse\u001B[38;5;241m=\u001B[39m\u001B[38;5;28;01mTrue\u001B[39;00m)[:k] ]\n",
      "\u001B[0;31mTypeError\u001B[0m: 'int' object is not subscriptable"
     ]
    }
   ],
   "execution_count": 97
  },
  {
   "metadata": {},
   "cell_type": "code",
   "outputs": [],
   "execution_count": null,
   "source": "",
   "id": "b62db40371d19d47"
  }
 ],
 "metadata": {
  "kernelspec": {
   "display_name": "Python 3",
   "language": "python",
   "name": "python3"
  },
  "language_info": {
   "codemirror_mode": {
    "name": "ipython",
    "version": 2
   },
   "file_extension": ".py",
   "mimetype": "text/x-python",
   "name": "python",
   "nbconvert_exporter": "python",
   "pygments_lexer": "ipython2",
   "version": "2.7.6"
  }
 },
 "nbformat": 4,
 "nbformat_minor": 5
}
