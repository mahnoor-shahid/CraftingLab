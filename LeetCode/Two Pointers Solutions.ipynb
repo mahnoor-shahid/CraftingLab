{
 "cells": [
  {
   "cell_type": "markdown",
   "id": "15e939d3-d61c-4253-a029-789adb5124ac",
   "metadata": {},
   "source": [
    "# Practice: Two Pointers\n",
    "\n",
    "In this Jupyter Notebook, we will explore pointers. They are foundational for data structures like Linked Lists, Trees  or Graphs."
   ]
  },
  {
   "cell_type": "markdown",
   "id": "d98ed27a-eb50-49d1-863c-bfe02605dc87",
   "metadata": {},
   "source": [
    "## Valid Palindrome\n",
    "\n",
    "A phrase is a palindrome if, after converting all uppercase letters into lowercase letters and removing all non-alphanumeric characters, it reads the same forward and backward. Alphanumeric characters include letters and numbers.\n",
    "\n",
    "Given a string s, return true if it is a palindrome, or false otherwise.\n",
    "\n",
    " \n",
    "\n",
    "Example 1:\n",
    "\n",
    "Input: s = \"A man, a plan, a canal: Panama\"\n",
    "Output: true\n",
    "\n",
    "Explanation: \"amanaplanacanalpanama\" is a palindrome.\n",
    "\n",
    "\n",
    "Example 2:\n",
    "\n",
    "Input: s = \"race a car\"\n",
    "Output: false\n",
    "\n",
    "Explanation: \"raceacar\" is not a palindrome.\n",
    "\n",
    "\n",
    "Example 3:\n",
    "\n",
    "Input: s = \" \"\n",
    "Output: true\n",
    "\n",
    "Explanation: s is an empty string \"\" after removing non-alphanumeric characters.\n",
    "\n",
    "Since an empty string reads the same forward and backward, it is a palindrome.\n",
    " \n",
    "\n",
    "Constraints:\n",
    "\n",
    "1 <= s.length <= 2 * 105\n",
    "\n",
    "s consists only of printable ASCII characters."
   ]
  },
  {
   "cell_type": "code",
   "execution_count": 1,
   "id": "23c702a6-0417-4962-835a-7e7624b94fea",
   "metadata": {},
   "outputs": [
    {
     "name": "stdout",
     "output_type": "stream",
     "text": [
      "CPU times: user 2 µs, sys: 0 ns, total: 2 µs\n",
      "Wall time: 7.15 µs\n",
      "True\n"
     ]
    }
   ],
   "source": [
    "def is_palindrome(s: str) -> bool:\n",
    "    s = s.lower()\n",
    "    return s == s[::-1]\n",
    "\n",
    "%time\n",
    "print(is_palindrome(s='Ha2002ah'))"
   ]
  },
  {
   "cell_type": "code",
   "execution_count": 2,
   "id": "f2c9c252-5e65-4433-b8e2-5328406c4890",
   "metadata": {},
   "outputs": [
    {
     "name": "stdout",
     "output_type": "stream",
     "text": [
      "True\n"
     ]
    }
   ],
   "source": [
    "def is_palindrome(s: str) -> bool:\n",
    "    s=s.lower()\n",
    "    lp, rp = 0, len(s)-1\n",
    "    while(lp<rp):\n",
    "        if s[lp]!=s[rp]:\n",
    "            return False\n",
    "        lp+=1\n",
    "        rp-=1\n",
    "    return True\n",
    "\n",
    "print(is_palindrome(s='Ha2002ah'))"
   ]
  },
  {
   "cell_type": "markdown",
   "id": "a9c58289-1175-4123-b11c-e82b117e09b1",
   "metadata": {},
   "source": [
    "## Two Sum II - Input Array Is Sorted\n",
    "\n",
    "Given a 1-indexed array of integers numbers that is already sorted in non-decreasing order, find two numbers such that they add up to a specific target number. Let these two numbers be numbers[index1] and numbers[index2] where 1 <= index1 < index2 <= numbers.length.\n",
    "\n",
    "Return the indices of the two numbers, index1 and index2, added by one as an integer array [index1, index2] of length 2.\n",
    "\n",
    "The tests are generated such that there is exactly one solution. You may not use the same element twice.\n",
    "\n",
    "Your solution must use only constant extra space.\n",
    "\n",
    " \n",
    "\n",
    "Example 1:\n",
    "\n",
    "Input: numbers = [2,7,11,15], target = 9\n",
    "Output: [1,2]\n",
    "\n",
    "Explanation: The sum of 2 and 7 is 9. Therefore, index1 = 1, index2 = 2. We return [1, 2].\n",
    "\n",
    "Example 2:\n",
    "\n",
    "Input: numbers = [2,3,4], target = 6\n",
    "Output: [1,3]\n",
    "\n",
    "Explanation: The sum of 2 and 4 is 6. Therefore index1 = 1, index2 = 3. We return [1, 3].\n",
    "\n",
    "Example 3:\n",
    "\n",
    "Input: numbers = [-1,0], target = -1\n",
    "Output: [1,2]\n",
    "\n",
    "Explanation: The sum of -1 and 0 is -1. Therefore index1 = 1, index2 = 2. We return [1, 2].\n",
    " \n",
    "\n",
    "Constraints:\n",
    "\n",
    "2 <= numbers.length <= 3 * 104\n",
    "-1000 <= numbers[i] <= 1000\n",
    "numbers is sorted in non-decreasing order.\n",
    "-1000 <= target <= 1000\n",
    "The tests are generated such that there is exactly one solution."
   ]
  },
  {
   "cell_type": "code",
   "execution_count": 1,
   "id": "3952bf83-597e-4595-ace2-6f9de0389722",
   "metadata": {
    "ExecuteTime": {
     "end_time": "2024-05-17T22:25:05.648875Z",
     "start_time": "2024-05-17T22:25:05.642841Z"
    }
   },
   "outputs": [
    {
     "name": "stdout",
     "output_type": "stream",
     "text": [
      "CPU times: user 3 µs, sys: 0 ns, total: 3 µs\n",
      "Wall time: 6.91 µs\n",
      "[2, 4]\n"
     ]
    }
   ],
   "source": [
    "def two_sum_sorted(nums: list[int], target:int) -> list[int]:\n",
    "    lp , rp = 0, len(nums)-1\n",
    "    while lp < rp:\n",
    "        curSum = nums[lp]+nums[rp]\n",
    "        if curSum == target:\n",
    "            return [lp+1, rp+1]\n",
    "        elif curSum > target: \n",
    "            rp-=1\n",
    "        else:\n",
    "            lp+=1\n",
    "\n",
    "%time\n",
    "print(two_sum_sorted(nums=[1,3,4,6,7,10,11,12,13,15,16,19], target=9))"
   ]
  },
  {
   "cell_type": "markdown",
   "id": "6c1c1481-a426-49b3-a699-6d30b195d8d8",
   "metadata": {},
   "source": [
    "## 3Sum\n",
    "\n",
    "Given an integer array nums, return all the triplets [nums[i], nums[j], nums[k]] such that i != j, i != k, and j != k, and nums[i] + nums[j] + nums[k] == 0.\n",
    "\n",
    "\n",
    "Notice that the solution set must not contain duplicate triplets.\n",
    "\n",
    " \n",
    "\n",
    "Example 1:\n",
    "\n",
    "Input: nums = [-1,0,1,2,-1,-4]\n",
    "Output: [[-1,-1,2],[-1,0,1]]\n",
    "\n",
    "Explanation: \n",
    "nums[0] + nums[1] + nums[2] = (-1) + 0 + 1 = 0.\n",
    "nums[1] + nums[2] + nums[4] = 0 + 1 + (-1) = 0.\n",
    "nums[0] + nums[3] + nums[4] = (-1) + 2 + (-1) = 0.\n",
    "The distinct triplets are [-1,0,1] and [-1,-1,2].\n",
    "Notice that the order of the output and the order of the triplets does not matter.\n",
    "\n",
    "\n",
    "Example 2:\n",
    "\n",
    "Input: nums = [0,1,1]\n",
    "Output: []\n",
    "\n",
    "Explanation: The only possible triplet does not sum up to 0.\n",
    "\n",
    "\n",
    "Example 3:\n",
    "\n",
    "Input: nums = [0,0,0]\n",
    "Output: [[0,0,0]]\n",
    "\n",
    "Explanation: The only possible triplet sums up to 0.\n",
    " \n",
    "\n",
    "Constraints:\n",
    "\n",
    "3 <= nums.length <= 3000\n",
    "-105 <= nums[i] <= 105"
   ]
  },
  {
   "cell_type": "code",
   "execution_count": 1,
   "id": "14cc50f7-f30d-47b6-9053-762e202ddd54",
   "metadata": {},
   "outputs": [
    {
     "name": "stdout",
     "output_type": "stream",
     "text": [
      "CPU times: total: 0 ns\n",
      "Wall time: 0 ns\n",
      "[[-1, -1, 2], [-1, 0, 1]]\n"
     ]
    }
   ],
   "source": [
    "def threeSum(nums: list[int]) -> list[list[int]]:\n",
    "    res = []\n",
    "    nums = sorted(nums)\n",
    "    for i in range(0, len(nums)):\n",
    "        lp = i + 1\n",
    "        rp = len(nums) - 1\n",
    "        if nums[i] == nums[i-1]:\n",
    "            continue\n",
    "        while lp < rp:\n",
    "            curSum = nums[i] + nums[lp] + nums[rp]\n",
    "            if curSum == 0:\n",
    "                res.append([nums[i], nums[lp], nums[rp]])\n",
    "                lp+=1\n",
    "            elif curSum > 0:\n",
    "                rp -=1\n",
    "            else:\n",
    "                lp +=1\n",
    "    return res\n",
    "\n",
    "%time\n",
    "print(threeSum(nums=[-1,0,1,2,-1,-4]))"
   ]
  },
  {
   "cell_type": "markdown",
   "id": "0a0d8d70-2fe4-4bd8-aa25-d04fe5220407",
   "metadata": {},
   "source": [
    "## Container With Most Water\n",
    "\n",
    "You are given an integer array height of length n. There are n vertical lines drawn such that the two endpoints of the ith line are (i, 0) and (i, height[i]).\n",
    "\n",
    "Find two lines that together with the x-axis form a container, such that the container contains the most water.\n",
    "\n",
    "Return the maximum amount of water a container can store.\n",
    "\n",
    "Notice that you may not slant the container.\n",
    "\n",
    " \n",
    "Example 1:\n",
    "\n",
    "Input: height = [1,8,6,2,5,4,8,3,7]\n",
    "Output: 49\n",
    "\n",
    "Explanation: The above vertical lines are represented by array [1,8,6,2,5,4,8,3,7]. In this case, the max area of water (blue section) the container can contain is 49.\n",
    "\n",
    "\n",
    "Example 2:\n",
    "\n",
    "Input: height = [1,1]\n",
    "Output: 1\n",
    " \n",
    "\n",
    "Constraints:\n",
    "\n",
    "n == height.length\n",
    "2 <= n <= 105\n",
    "0 <= height[i] <= 104"
   ]
  },
  {
   "cell_type": "code",
   "execution_count": 4,
   "id": "0472a16e-5d3c-45d1-bdcd-b718d384ae17",
   "metadata": {},
   "outputs": [
    {
     "name": "stdout",
     "output_type": "stream",
     "text": [
      "CPU times: total: 0 ns\n",
      "Wall time: 0 ns\n",
      "49\n"
     ]
    }
   ],
   "source": [
    "def most_area(height: list[int]) -> int:\n",
    "    lp = 0\n",
    "    rp = len(height) - 1\n",
    "    max_area = 0\n",
    "    while lp<rp:\n",
    "        area = (rp-lp) * min(height[rp], height[lp])\n",
    "        max_area = max(area, max_area)\n",
    "        if  height[rp] > height[lp]:\n",
    "            lp += 1\n",
    "        else:\n",
    "            rp -=1\n",
    "    return max_area\n",
    "%time\n",
    "print(most_area([1,8,6,2,5,4,8,3,7]))"
   ]
  },
  {
   "cell_type": "markdown",
   "id": "57ebdc69-1d2c-4217-8279-f2eb8e55b3c8",
   "metadata": {},
   "source": [
    "## Trapping Rain Water\n",
    "\n",
    "Given n non-negative integers representing an elevation map where the width of each bar is 1, compute how much water it can trap after raining.\n",
    "\n",
    " \n",
    "\n",
    "Example 1:\n",
    "\n",
    "\n",
    "Input: height = [0,1,0,2,1,0,1,3,2,1,2,1]\n",
    "Output: 6\n",
    "\n",
    "Explanation: The above elevation map (black section) is represented by array [0,1,0,2,1,0,1,3,2,1,2,1]. \n",
    "In this case, 6 units of rain water (blue section) are being trapped.\n",
    "\n",
    "\n",
    "Example 2:\n",
    "\n",
    "Input: height = [4,2,0,3,2,5]\n",
    "Output: 9\n",
    " \n",
    "\n",
    "Constraints:\n",
    "\n",
    "n == height.length\n",
    "1 <= n <= 2 * 104\n",
    "0 <= height[i] <= 105"
   ]
  },
  {
   "cell_type": "code",
   "execution_count": 7,
   "id": "ec7287ad-be75-4a5e-b07a-95eabd659c5d",
   "metadata": {
    "ExecuteTime": {
     "end_time": "2024-05-17T22:48:06.548013Z",
     "start_time": "2024-05-17T22:48:06.539933Z"
    }
   },
   "outputs": [
    {
     "name": "stdout",
     "output_type": "stream",
     "text": [
      "CPU times: user 4 µs, sys: 1 µs, total: 5 µs\n",
      "Wall time: 11 µs\n",
      "6\n"
     ]
    }
   ],
   "source": [
    "def trap_rain_water(height: list[int]) -> int:\n",
    "    lp, rp = 0, len(height) - 1\n",
    "    max_left, max_right = height[lp], height[rp]\n",
    "    volume = 0\n",
    "    while lp<rp:\n",
    "        if max_left<max_right:\n",
    "            lp += 1\n",
    "            max_left = max(max_left, height[lp])\n",
    "            volume += max_left-height[lp]\n",
    "        else:\n",
    "            rp -= 1\n",
    "            max_right = max(max_right, height[rp])\n",
    "            volume += max_right-height[rp]\n",
    "    return volume\n",
    "\n",
    "%time\n",
    "print(trap_rain_water([0,1,0,2,1,0,1,3,2,1,2,1]))      "
   ]
  },
  {
   "cell_type": "code",
   "execution_count": null,
   "id": "c666839ff02af228",
   "metadata": {},
   "outputs": [],
   "source": []
  }
 ],
 "metadata": {
  "kernelspec": {
   "display_name": "Python 3 (ipykernel)",
   "language": "python",
   "name": "python3"
  },
  "language_info": {
   "codemirror_mode": {
    "name": "ipython",
    "version": 3
   },
   "file_extension": ".py",
   "mimetype": "text/x-python",
   "name": "python",
   "nbconvert_exporter": "python",
   "pygments_lexer": "ipython3",
   "version": "3.12.3"
  }
 },
 "nbformat": 4,
 "nbformat_minor": 5
}
