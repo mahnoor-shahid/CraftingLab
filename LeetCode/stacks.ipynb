{
 "cells": [
  {
   "cell_type": "markdown",
   "id": "92781e69fcedb9be",
   "metadata": {},
   "source": [
    "## Valid Parentheses\n",
    "\n",
    "Given a string s containing just the characters '(', ')', '{', '}', '[' and ']', determine if the input string is valid.\n",
    "\n",
    "An input string is valid if:\n",
    "\n",
    "Open brackets must be closed by the same type of brackets.\n",
    "Open brackets must be closed in the correct order.\n",
    "Every close bracket has a corresponding open bracket of the same type.\n",
    " \n",
    "\n",
    "Example 1:\n",
    "\n",
    "Input: s = \"()\"\n",
    "Output: true\n",
    "\n",
    "\n",
    "Example 2:\n",
    "\n",
    "Input: s = \"()[]{}\"\n",
    "Output: true\n",
    "\n",
    "\n",
    "Example 3:\n",
    "\n",
    "Input: s = \"(]\"\n",
    "Output: false\n",
    " \n",
    "\n",
    "Constraints:\n",
    "\n",
    "1 <= s.length <= 104\n",
    "s consists of parentheses only '()[]{}'."
   ]
  },
  {
   "cell_type": "code",
   "execution_count": 8,
   "id": "9676fc50239fbe0a",
   "metadata": {
    "ExecuteTime": {
     "end_time": "2024-05-18T00:13:52.475606Z",
     "start_time": "2024-05-18T00:13:52.469879Z"
    }
   },
   "outputs": [
    {
     "name": "stdout",
     "output_type": "stream",
     "text": [
      "CPU times: user 3 µs, sys: 1 µs, total: 4 µs\n",
      "Wall time: 7.15 µs\n",
      "True\n"
     ]
    }
   ],
   "source": [
    "def valid_parentheses(s: str) -> bool:\n",
    "    hashmap = {')':'(', ']':'[', '}':'{'}\n",
    "    stack = []\n",
    "    \n",
    "    for c in s:\n",
    "        if c in hashmap:\n",
    "            if stack and stack[-1]==hashmap[c]:\n",
    "                stack.pop()\n",
    "            else:\n",
    "                return False\n",
    "        else:\n",
    "            stack.append(c)\n",
    "    return True if len(stack)==0 else False\n",
    "\n",
    "%time\n",
    "print(valid_parentheses('{()}([])'))\n",
    "    "
   ]
  },
  {
   "cell_type": "markdown",
   "id": "12f4c81078066d04",
   "metadata": {},
   "source": [
    "## Min Stack\n",
    "\n",
    "Design a stack that supports push, pop, top, and retrieving the minimum element in constant time.\n",
    "\n",
    "Implement the MinStack class:\n",
    "\n",
    "- MinStack() initializes the stack object.\n",
    "- void push(int val) pushes the element val onto the stack.\n",
    "- void pop() removes the element on the top of the stack.\n",
    "- int top() gets the top element of the stack.\n",
    "- int getMin() retrieves the minimum element in the stack.\n",
    "\n",
    "You must implement a solution with O(1) time complexity for each function.\n",
    "\n",
    " \n",
    "\n",
    "Example 1:\n",
    "\n",
    "Input\n",
    "[\"MinStack\",\"push\",\"push\",\"push\",\"getMin\",\"pop\",\"top\",\"getMin\"]\n",
    "[[],[-2],[0],[-3],[],[],[],[]]\n",
    "\n",
    "Output\n",
    "[null,null,null,null,-3,null,0,-2]\n",
    "\n",
    "Explanation\n",
    "MinStack minStack = new MinStack();\n",
    "minStack.push(-2);\n",
    "minStack.push(0);\n",
    "minStack.push(-3);\n",
    "minStack.getMin(); // return -3\n",
    "minStack.pop();\n",
    "minStack.top();    // return 0\n",
    "minStack.getMin(); // return -2\n",
    " \n",
    "\n",
    "Constraints:\n",
    "\n",
    "-231 <= val <= 231 - 1\n",
    "Methods pop, top and getMin operations will always be called on non-empty stacks.\n",
    "At most 3 * 104 calls will be made to push, pop, top, and getMin."
   ]
  },
  {
   "cell_type": "code",
   "execution_count": 1,
   "id": "6294da61e1bff579",
   "metadata": {
    "ExecuteTime": {
     "end_time": "2024-05-18T07:01:52.978891Z",
     "start_time": "2024-05-18T07:01:52.974360Z"
    }
   },
   "outputs": [],
   "source": [
    "class MinStack:\n",
    "    def __init__(self):\n",
    "        self.stack = []\n",
    "        self.minStack = []\n",
    "\n",
    "    def push(self, val: int) -> None:\n",
    "        self.stack.append(val)\n",
    "        self.minStack.append(min(val, self.minStack[-1] if self.minStack else val))\n",
    "        \n",
    "    def pop(self) -> None:\n",
    "        self.stack.pop()\n",
    "        self.minStack.pop()\n",
    "        \n",
    "    def top(self) -> None:\n",
    "        return self.stack[-1]\n",
    "    \n",
    "    def getMin(self):\n",
    "        return self.minStack[-1]"
   ]
  },
  {
   "cell_type": "markdown",
   "id": "198e177b-66c5-4154-9a1a-9eab2057878a",
   "metadata": {},
   "source": [
    "## Evaluate Reverse Polish Notation\n",
    "\n",
    "You are given an array of strings tokens that represents a valid arithmetic expression in Reverse Polish Notation.\n",
    "\n",
    "Return the integer that represents the evaluation of the expression.\n",
    "\n",
    "The operands may be integers or the results of other operations.\n",
    "The operators include '+', '-', '*', and '/'.\n",
    "Assume that division between integers always truncates toward zero.\n",
    "\n",
    "Example 1:\n",
    "\n",
    "Input: tokens = [\"1\",\"2\",\"+\",\"3\",\"*\",\"4\",\"-\"]\n",
    "\n",
    "Output: 5\n",
    "\n",
    "Explanation: ((1 + 2) * 3) - 4 = 5\n",
    "\n",
    "Constraints:\n",
    "\n",
    "1 <= tokens.length <= 1000.\n",
    "tokens[i] is \"+\", \"-\", \"*\", or \"/\", or a string representing an integer in the range [-100, 100]."
   ]
  },
  {
   "cell_type": "code",
   "execution_count": 4,
   "id": "6b36b832-972c-4efb-b2ce-882e5149477c",
   "metadata": {},
   "outputs": [
    {
     "name": "stdout",
     "output_type": "stream",
     "text": [
      "CPU times: total: 0 ns\n",
      "Wall time: 0 ns\n",
      "5\n"
     ]
    }
   ],
   "source": [
    "def evalRPN(tokens:list[str]) -> int:\n",
    "    stack = []\n",
    "    for token in tokens:\n",
    "        if token in \"+-*/\":\n",
    "            b = stack.pop()\n",
    "            a = stack.pop()\n",
    "            if token == '+':\n",
    "                stack.append(a + b)\n",
    "            elif token == '-':\n",
    "                stack.append(a - b)\n",
    "            elif token == '*':\n",
    "                stack.append(a * b)\n",
    "            elif token == '/':\n",
    "                stack.append(int(a / b))\n",
    "        else:\n",
    "            stack.append(int(token))\n",
    "    return stack[-1]\n",
    "\n",
    "%time\n",
    "print(evalRPN(tokens=[\"1\",\"2\",\"+\",\"3\",\"*\",\"4\",\"-\"]))"
   ]
  },
  {
   "cell_type": "markdown",
   "id": "31dc50c7-6b02-4a4b-8367-c3f564cfea82",
   "metadata": {},
   "source": [
    "## Generate Parentheses\n",
    "You are given an integer n. Return all well-formed parentheses strings that you can generate with n pairs of parentheses.\n",
    "\n",
    "Example 1:\n",
    "\n",
    "Input: n = 1\n",
    "\n",
    "Output: [\"()\"]\n",
    "\n",
    "Example 2:\n",
    "\n",
    "Input: n = 3\n",
    "\n",
    "Output: [\"((()))\",\"(()())\",\"(())()\",\"()(())\",\"()()()\"]\n",
    "\n",
    "Constraints:\n",
    "\n",
    "1 <= n <= 7\n"
   ]
  },
  {
   "cell_type": "code",
   "execution_count": 14,
   "id": "63700885-5d99-4868-ba6d-e482e97487e6",
   "metadata": {},
   "outputs": [
    {
     "name": "stdout",
     "output_type": "stream",
     "text": [
      "['((()))', '(()())', '(())()', '()(())', '()()()']\n"
     ]
    }
   ],
   "source": [
    "def generateParenthesis(n: int) -> list[str]:\n",
    "    result = []\n",
    "    \n",
    "    def backtrack(current_string, open_count, close_count):\n",
    "        if len(current_string) == 2 * n:\n",
    "            return result.append(current_string)\n",
    "            \n",
    "        if open_count < n:\n",
    "            backtrack(current_string + \"(\", open_count + 1, close_count)\n",
    "        \n",
    "        if close_count < open_count:\n",
    "            backtrack(current_string + \")\", open_count, close_count + 1)\n",
    "\n",
    "    backtrack(current_string=\"\", open_count=0, close_count=0)\n",
    "    return result\n",
    "\n",
    "n = 3\n",
    "print(generateParenthesis(n))  # Output: [\"((()))\",\"(()())\",\"(())()\",\"()(())\",\"()()()\"]"
   ]
  },
  {
   "cell_type": "code",
   "execution_count": 28,
   "id": "d89b68ca-ffe5-4237-a86b-68e65a11e220",
   "metadata": {},
   "outputs": [
    {
     "name": "stdout",
     "output_type": "stream",
     "text": [
      "['((()))', '(()())', '(())()', '()(())', '()()()']\n"
     ]
    }
   ],
   "source": [
    "def generateParenthesis(n: int) -> list[str]:\n",
    "\n",
    "    def backtrack(current_stack, open_count, close_count):\n",
    "        if len(current_stack)==n*2:\n",
    "            return result.append(\"\".join(current_stack))\n",
    "        if open_count < n:\n",
    "            current_stack.append('(')\n",
    "            backtrack(current_stack, open_count + 1, close_count)\n",
    "            current_stack.pop()\n",
    "        if close_count < open_count:\n",
    "            current_stack.append(')')\n",
    "            backtrack(current_stack, open_count, close_count + 1)\n",
    "            current_stack.pop()\n",
    "    \n",
    "    result = []\n",
    "    backtrack(current_stack=[], open_count=0, close_count=0)\n",
    "    return result\n",
    "\n",
    "n = 3\n",
    "print(generateParenthesis(n))  # Output: [\"((()))\",\"(()())\",\"(())()\",\"()(())\",\"()()()\"]"
   ]
  },
  {
   "cell_type": "code",
   "execution_count": null,
   "id": "ffed5c80-e4b0-4774-8f31-7d753a1288c6",
   "metadata": {},
   "outputs": [],
   "source": []
  }
 ],
 "metadata": {
  "kernelspec": {
   "display_name": "Python 3 (ipykernel)",
   "language": "python",
   "name": "python3"
  },
  "language_info": {
   "codemirror_mode": {
    "name": "ipython",
    "version": 3
   },
   "file_extension": ".py",
   "mimetype": "text/x-python",
   "name": "python",
   "nbconvert_exporter": "python",
   "pygments_lexer": "ipython3",
   "version": "3.12.2"
  }
 },
 "nbformat": 4,
 "nbformat_minor": 5
}
