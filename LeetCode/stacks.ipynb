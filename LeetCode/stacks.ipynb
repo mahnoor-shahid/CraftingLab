{
 "cells": [
  {
   "cell_type": "markdown",
   "id": "92781e69fcedb9be",
   "metadata": {},
   "source": [
    "## Valid Parentheses\n",
    "\n",
    "Given a string s containing just the characters '(', ')', '{', '}', '[' and ']', determine if the input string is valid.\n",
    "\n",
    "An input string is valid if:\n",
    "\n",
    "Open brackets must be closed by the same type of brackets.\n",
    "Open brackets must be closed in the correct order.\n",
    "Every close bracket has a corresponding open bracket of the same type.\n",
    " \n",
    "\n",
    "Example 1:\n",
    "\n",
    "Input: s = \"()\"\n",
    "Output: true\n",
    "\n",
    "\n",
    "Example 2:\n",
    "\n",
    "Input: s = \"()[]{}\"\n",
    "Output: true\n",
    "\n",
    "\n",
    "Example 3:\n",
    "\n",
    "Input: s = \"(]\"\n",
    "Output: false\n",
    " \n",
    "\n",
    "Constraints:\n",
    "\n",
    "1 <= s.length <= 104\n",
    "s consists of parentheses only '()[]{}'."
   ]
  },
  {
   "cell_type": "code",
   "execution_count": 8,
   "id": "9676fc50239fbe0a",
   "metadata": {
    "ExecuteTime": {
     "end_time": "2024-05-18T00:13:52.475606Z",
     "start_time": "2024-05-18T00:13:52.469879Z"
    }
   },
   "outputs": [
    {
     "name": "stdout",
     "output_type": "stream",
     "text": [
      "CPU times: user 3 µs, sys: 1 µs, total: 4 µs\n",
      "Wall time: 7.15 µs\n",
      "True\n"
     ]
    }
   ],
   "source": [
    "def valid_parentheses(s: str) -> bool:\n",
    "    hashmap = {')':'(', ']':'[', '}':'{'}\n",
    "    stack = []\n",
    "    \n",
    "    for c in s:\n",
    "        if c in hashmap:\n",
    "            if stack and stack[-1]==hashmap[c]:\n",
    "                stack.pop()\n",
    "            else:\n",
    "                return False\n",
    "        else:\n",
    "            stack.append(c)\n",
    "    return True if len(stack)==0 else False\n",
    "\n",
    "%time\n",
    "print(valid_parentheses('{()}([])'))\n",
    "    "
   ]
  },
  {
   "cell_type": "markdown",
   "id": "12f4c81078066d04",
   "metadata": {},
   "source": [
    "## Min Stack\n",
    "\n",
    "Design a stack that supports push, pop, top, and retrieving the minimum element in constant time.\n",
    "\n",
    "Implement the MinStack class:\n",
    "\n",
    "- MinStack() initializes the stack object.\n",
    "- void push(int val) pushes the element val onto the stack.\n",
    "- void pop() removes the element on the top of the stack.\n",
    "- int top() gets the top element of the stack.\n",
    "- int getMin() retrieves the minimum element in the stack.\n",
    "\n",
    "You must implement a solution with O(1) time complexity for each function.\n",
    "\n",
    " \n",
    "\n",
    "Example 1:\n",
    "\n",
    "Input\n",
    "[\"MinStack\",\"push\",\"push\",\"push\",\"getMin\",\"pop\",\"top\",\"getMin\"]\n",
    "[[],[-2],[0],[-3],[],[],[],[]]\n",
    "\n",
    "Output\n",
    "[null,null,null,null,-3,null,0,-2]\n",
    "\n",
    "Explanation\n",
    "MinStack minStack = new MinStack();\n",
    "minStack.push(-2);\n",
    "minStack.push(0);\n",
    "minStack.push(-3);\n",
    "minStack.getMin(); // return -3\n",
    "minStack.pop();\n",
    "minStack.top();    // return 0\n",
    "minStack.getMin(); // return -2\n",
    " \n",
    "\n",
    "Constraints:\n",
    "\n",
    "-231 <= val <= 231 - 1\n",
    "Methods pop, top and getMin operations will always be called on non-empty stacks.\n",
    "At most 3 * 104 calls will be made to push, pop, top, and getMin."
   ]
  },
  {
   "cell_type": "code",
   "execution_count": 1,
   "id": "6294da61e1bff579",
   "metadata": {
    "ExecuteTime": {
     "end_time": "2024-05-18T07:01:52.978891Z",
     "start_time": "2024-05-18T07:01:52.974360Z"
    }
   },
   "outputs": [],
   "source": [
    "class MinStack:\n",
    "    def __init__(self):\n",
    "        self.stack = []\n",
    "        self.minStack = []\n",
    "\n",
    "    def push(self, val: int) -> None:\n",
    "        self.stack.append(val)\n",
    "        self.minStack.append(min(val, self.minStack[-1] if self.minStack else val))\n",
    "        \n",
    "    def pop(self) -> None:\n",
    "        self.stack.pop()\n",
    "        self.minStack.pop()\n",
    "        \n",
    "    def top(self) -> None:\n",
    "        return self.stack[-1]\n",
    "    \n",
    "    def getMin(self):\n",
    "        return self.minStack[-1]"
   ]
  },
  {
   "cell_type": "markdown",
   "id": "198e177b-66c5-4154-9a1a-9eab2057878a",
   "metadata": {},
   "source": [
    "## Evaluate Reverse Polish Notation\n",
    "\n",
    "You are given an array of strings tokens that represents a valid arithmetic expression in Reverse Polish Notation.\n",
    "\n",
    "Return the integer that represents the evaluation of the expression.\n",
    "\n",
    "The operands may be integers or the results of other operations.\n",
    "The operators include '+', '-', '*', and '/'.\n",
    "Assume that division between integers always truncates toward zero.\n",
    "\n",
    "Example 1:\n",
    "\n",
    "Input: tokens = [\"1\",\"2\",\"+\",\"3\",\"*\",\"4\",\"-\"]\n",
    "\n",
    "Output: 5\n",
    "\n",
    "Explanation: ((1 + 2) * 3) - 4 = 5\n",
    "\n",
    "Constraints:\n",
    "\n",
    "1 <= tokens.length <= 1000.\n",
    "tokens[i] is \"+\", \"-\", \"*\", or \"/\", or a string representing an integer in the range [-100, 100]."
   ]
  },
  {
   "cell_type": "code",
   "execution_count": 29,
   "id": "6b36b832-972c-4efb-b2ce-882e5149477c",
   "metadata": {},
   "outputs": [
    {
     "name": "stdout",
     "output_type": "stream",
     "text": [
      "CPU times: total: 0 ns\n",
      "Wall time: 0 ns\n",
      "5\n"
     ]
    }
   ],
   "source": [
    "def evalRPN(tokens:list[str]) -> int:\n",
    "    stack = []\n",
    "    for token in tokens:\n",
    "        if token not in \"+-*/\":\n",
    "            stack.append(int(token))\n",
    "        else:\n",
    "            b = stack.pop()\n",
    "            a = stack.pop()\n",
    "            if token == '+':\n",
    "                stack.append(a + b)\n",
    "            elif token == '-':\n",
    "                stack.append(a - b)\n",
    "            elif token == '*':\n",
    "                stack.append(a * b)\n",
    "            elif token == '/':\n",
    "                stack.append(int(a / b))\n",
    "    return stack[-1]\n",
    "\n",
    "%time\n",
    "print(evalRPN(tokens=[\"1\",\"2\",\"+\",\"3\",\"*\",\"4\",\"-\"]))"
   ]
  },
  {
   "cell_type": "markdown",
   "id": "31dc50c7-6b02-4a4b-8367-c3f564cfea82",
   "metadata": {},
   "source": [
    "## Generate Parentheses\n",
    "You are given an integer n. Return all well-formed parentheses strings that you can generate with n pairs of parentheses.\n",
    "\n",
    "Example 1:\n",
    "\n",
    "Input: n = 1\n",
    "\n",
    "Output: [\"()\"]\n",
    "\n",
    "Example 2:\n",
    "\n",
    "Input: n = 3\n",
    "\n",
    "Output: [\"((()))\",\"(()())\",\"(())()\",\"()(())\",\"()()()\"]\n",
    "\n",
    "Constraints:\n",
    "\n",
    "1 <= n <= 7\n"
   ]
  },
  {
   "cell_type": "code",
   "execution_count": 14,
   "id": "63700885-5d99-4868-ba6d-e482e97487e6",
   "metadata": {},
   "outputs": [
    {
     "name": "stdout",
     "output_type": "stream",
     "text": [
      "['((()))', '(()())', '(())()', '()(())', '()()()']\n"
     ]
    }
   ],
   "source": [
    "def generateParenthesis(n: int) -> list[str]:\n",
    "    result = []\n",
    "    \n",
    "    def backtrack(current_string, open_count, close_count):\n",
    "        if len(current_string) == 2 * n:\n",
    "            return result.append(current_string)\n",
    "            \n",
    "        if open_count < n:\n",
    "            backtrack(current_string + \"(\", open_count + 1, close_count)\n",
    "        \n",
    "        if close_count < open_count:\n",
    "            backtrack(current_string + \")\", open_count, close_count + 1)\n",
    "\n",
    "    backtrack(current_string=\"\", open_count=0, close_count=0)\n",
    "    return result\n",
    "\n",
    "n = 3\n",
    "print(generateParenthesis(n))  # Output: [\"((()))\",\"(()())\",\"(())()\",\"()(())\",\"()()()\"]"
   ]
  },
  {
   "cell_type": "code",
   "execution_count": 31,
   "id": "d89b68ca-ffe5-4237-a86b-68e65a11e220",
   "metadata": {},
   "outputs": [
    {
     "name": "stdout",
     "output_type": "stream",
     "text": [
      "CPU times: total: 0 ns\n",
      "Wall time: 0 ns\n",
      "['((()))', '(()())', '(())()', '()(())', '()()()']\n"
     ]
    }
   ],
   "source": [
    "def generateParenthesis(n: int) -> list[str]:\n",
    "\n",
    "    def backtrack(current_stack, open_count, close_count):\n",
    "        if len(current_stack)==n*2:\n",
    "            return result.append(\"\".join(current_stack))\n",
    "        if open_count < n:\n",
    "            current_stack.append('(')\n",
    "            backtrack(current_stack, open_count + 1, close_count)\n",
    "            current_stack.pop()\n",
    "        if close_count < open_count:\n",
    "            current_stack.append(')')\n",
    "            backtrack(current_stack, open_count, close_count + 1)\n",
    "            current_stack.pop()\n",
    "    \n",
    "    result = []\n",
    "    backtrack(current_stack=[], open_count=0, close_count=0)\n",
    "    return result\n",
    "\n",
    "%time\n",
    "n = 3\n",
    "print(generateParenthesis(n))  # Output: [\"((()))\",\"(()())\",\"(())()\",\"()(())\",\"()()()\"]"
   ]
  },
  {
   "cell_type": "markdown",
   "id": "2af88c92-15fb-4ec9-899f-4d0cbc208d36",
   "metadata": {},
   "source": [
    "## Daily Temperatures\n",
    "You are given an array of integers temperatures where temperatures[i] represents the daily temperatures on the ith day.\n",
    "\n",
    "Return an array result where result[i] is the number of days after the ith day before a warmer temperature appears on a future day. If there is no day in the future where a warmer temperature will appear for the ith day, set result[i] to 0 instead.\n",
    "\n",
    "Example 1:\n",
    "\n",
    "Input: temperatures = [30,38,30,36,35,40,28]\n",
    "\n",
    "Output: [1,4,1,2,1,0,0]\n",
    "\n",
    "Example 2:\n",
    "\n",
    "Input: temperatures = [22,21,20]\n",
    "\n",
    "Output: [0,0,0]\n",
    "\n",
    "Constraints:\n",
    "\n",
    "1 <= temperatures.length <= 1000.\n",
    "1 <= temperatures[i] <= 100"
   ]
  },
  {
   "cell_type": "code",
   "execution_count": 38,
   "id": "7f719c47-1852-4f15-abe8-eb6c728c8ae6",
   "metadata": {},
   "outputs": [
    {
     "name": "stdout",
     "output_type": "stream",
     "text": [
      "CPU times: total: 0 ns\n",
      "Wall time: 0 ns\n",
      "[1, 4, 1, 2, 1, 0, 0]\n"
     ]
    }
   ],
   "source": [
    "def daily_temp(temperatures:list[int])->list[int]:\n",
    "    output, stack = [0]*len(temperatures), []\n",
    "    for i in range(0, len(temperatures)):\n",
    "        while stack and temperatures[i]>stack[-1][1]:\n",
    "            indx, temp = stack.pop()\n",
    "            output[indx] = i-indx\n",
    "        stack.append([i, temperatures[i]])\n",
    "    return output\n",
    "\n",
    "%time\n",
    "print(daily_temp( temperatures = [30,38,30,36,35,40,28])) "
   ]
  },
  {
   "cell_type": "markdown",
   "id": "3b2be314-e60e-4839-976d-cb52b8daef81",
   "metadata": {},
   "source": [
    "## Car Fleet\n",
    "There are n cars traveling to the same destination on a one-lane highway.\n",
    "\n",
    "You are given two arrays of integers position and speed, both of length n.\n",
    "\n",
    "position[i] is the position of the ith car (in miles)\n",
    "speed[i] is the speed of the ith car (in miles per hour)\n",
    "The destination is at position target miles.\n",
    "\n",
    "A car can not pass another car ahead of it. It can only catch up to another car and then drive at the same speed as the car ahead of it.\n",
    "\n",
    "A car fleet is a non-empty set of cars driving at the same position and same speed. A single car is also considered a car fleet.\n",
    "\n",
    "If a car catches up to a car fleet the moment the fleet reaches the destination, then the car is considered to be part of the fleet.\n",
    "\n",
    "Return the number of different car fleets that will arrive at the destination.\n",
    "\n",
    "Example 1:\n",
    "\n",
    "Input: target = 10, position = [1,4], speed = [3,2]\n",
    "\n",
    "Output: 1\n",
    "\n",
    "Explanation: The cars starting at 1 (speed 3) and 4 (speed 2) become a fleet, meeting each other at 10, the destination.\n",
    "\n",
    "Example 2:\n",
    "\n",
    "Input: target = 10, position = [4,1,0,7], speed = [2,2,1,1]\n",
    "\n",
    "Output: 3\n",
    "\n",
    "Explanation: The cars starting at 4 and 7 become a fleet at position 10. The cars starting at 1 and 0 never catch up to the car ahead of them. Thus, there are 3 car fleets that will arrive at the destination.\n",
    "\n",
    "Constraints:\n",
    "\n",
    "n == position.length == speed.length.\n",
    "1 <= n <= 1000\n",
    "0 < target <= 1000\n",
    "0 < speed[i] <= 100\n",
    "0 <= position[i] < target\n",
    "All the values of position are unique."
   ]
  },
  {
   "cell_type": "code",
   "execution_count": 57,
   "id": "7b6c0cef-c32e-46af-8091-44642252f31e",
   "metadata": {},
   "outputs": [
    {
     "name": "stdout",
     "output_type": "stream",
     "text": [
      "CPU times: total: 0 ns\n",
      "Wall time: 0 ns\n",
      "1\n"
     ]
    }
   ],
   "source": [
    "def num_car_fleets(position:list[int], speed:list[int], target:int) -> int:\n",
    "    pairs = [[p, s] for p, s in zip(position, speed) ]\n",
    "    stack = []\n",
    "    for p , s in sorted(pairs)[::-1]:\n",
    "        stack.append((target - p)/s)\n",
    "        if len(stack)>1 and stack[-1]<=stack[-2]:\n",
    "            stack.pop()\n",
    "    return len(stack)\n",
    "\n",
    "%time\n",
    "print(num_car_fleets(target = 10, position = [1,4], speed = [3,2]))"
   ]
  },
  {
   "cell_type": "markdown",
   "id": "1039a43a-651f-4630-8e1b-53ed7f090305",
   "metadata": {},
   "source": [
    "## Largest Rectangle In Histogram\n",
    "You are given an array of integers heights where heights[i] represents the height of a bar. The width of each bar is 1.\n",
    "\n",
    "Return the area of the largest rectangle that can be formed among the bars.\n",
    "\n",
    "Note: This chart is known as a histogram.\n",
    "\n",
    "Example 1:\n",
    "\n",
    "Input: heights = [7,1,7,2,2,4]\n",
    "\n",
    "Output: 8\n",
    "\n",
    "Example 2:\n",
    "\n",
    "Input: heights = [1,3,7]\n",
    "\n",
    "Output: 7\n",
    "\n",
    "Constraints:\n",
    "\n",
    "1 <= heights.length <= 1000.\n",
    "0 <= heights[i] <= 1000"
   ]
  },
  {
   "cell_type": "code",
   "execution_count": 60,
   "id": "4020972e-884f-42c0-ad5a-cb55136427ca",
   "metadata": {},
   "outputs": [
    {
     "name": "stdout",
     "output_type": "stream",
     "text": [
      "CPU times: total: 0 ns\n",
      "Wall time: 0 ns\n",
      "21\n",
      "3\n"
     ]
    }
   ],
   "source": [
    "def largestRectangleArea(heights):\n",
    "    stack = []\n",
    "    max_area = 0\n",
    "    index = 0\n",
    "    \n",
    "    for index in range(0, len(heights)):\n",
    "        # If the stack is empty or the current bar is taller than the bar at the top of the stack\n",
    "        if not stack or heights[index] >= heights[stack[-1]]:\n",
    "            stack.append(index)\n",
    "        else:\n",
    "            # Pop the top\n",
    "            top_of_stack = stack.pop()\n",
    "            # Calculate the area with heights[top_of_stack] as the smallest (or minimum height) bar 'h'\n",
    "            area = (heights[top_of_stack] *\n",
    "                   ((index - stack[-1] - 1) if stack else index))\n",
    "            # Update max_area, if needed\n",
    "            max_area = max(max_area, area)\n",
    "    \n",
    "    # Now, pop the remaining bars from stack and calculate area\n",
    "    while stack:\n",
    "        top_of_stack = stack.pop()\n",
    "        area = (heights[top_of_stack] *\n",
    "               ((index - stack[-1] - 1) if stack else index))\n",
    "        max_area = max(max_area, area)\n",
    "    \n",
    "    return max_area\n",
    "\n",
    "%time\n",
    "print(largestRectangleArea([7,1,7,2,2,4])) # Output: 8\n",
    "print(largestRectangleArea([1,3,7]))       # Output: 7\n"
   ]
  },
  {
   "cell_type": "code",
   "execution_count": null,
   "id": "cd2d0b59-4191-4d44-a913-9740f638726d",
   "metadata": {},
   "outputs": [],
   "source": []
  }
 ],
 "metadata": {
  "kernelspec": {
   "display_name": "Python 3 (ipykernel)",
   "language": "python",
   "name": "python3"
  },
  "language_info": {
   "codemirror_mode": {
    "name": "ipython",
    "version": 3
   },
   "file_extension": ".py",
   "mimetype": "text/x-python",
   "name": "python",
   "nbconvert_exporter": "python",
   "pygments_lexer": "ipython3",
   "version": "3.12.2"
  }
 },
 "nbformat": 4,
 "nbformat_minor": 5
}
