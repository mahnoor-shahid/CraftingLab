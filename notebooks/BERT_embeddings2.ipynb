{
 "cells": [
  {
   "cell_type": "code",
   "execution_count": 2,
   "id": "5177fb0e-88a8-4a37-8f93-059098ee7b71",
   "metadata": {},
   "outputs": [],
   "source": [
    "from transformers import BertModel, BertTokenizer\n",
    "import torch"
   ]
  },
  {
   "cell_type": "code",
   "execution_count": 3,
   "id": "b30eb88b-be67-4333-aa20-014b01dfdd72",
   "metadata": {},
   "outputs": [],
   "source": [
    "tokenizer = BertTokenizer.from_pretrained(\"bert-base-uncased\")\n",
    "model = BertModel.from_pretrained(\"bert-base-uncased\")"
   ]
  },
  {
   "cell_type": "code",
   "execution_count": 4,
   "id": "8d56d8ea-97f6-496c-9386-588dd885b9b7",
   "metadata": {},
   "outputs": [],
   "source": [
    "example_sentences = [\"She is a MachineLearning Engineer and works in California\", \"I am a monster! Hahahaha\"]"
   ]
  },
  {
   "cell_type": "code",
   "execution_count": 32,
   "id": "a264ea1a-aae5-4852-9eb4-5fafdc382a4e",
   "metadata": {},
   "outputs": [
    {
     "name": "stdout",
     "output_type": "stream",
     "text": [
      "9 20\n",
      "['[CLS]', 'she', 'is', 'a', 'machine', '##lea', '##rn', '##ing', 'engineer', 'and', 'works', 'in', 'california', '[SEP]', '[PAD]', '[PAD]', '[PAD]', '[PAD]', '[PAD]', '[PAD]']\n",
      "5 20\n",
      "['[CLS]', 'i', 'am', 'a', 'monster', '!', 'ha', '##ha', '##ha', '##ha', '[SEP]', '[PAD]', '[PAD]', '[PAD]', '[PAD]', '[PAD]', '[PAD]', '[PAD]', '[PAD]', '[PAD]']\n"
     ]
    }
   ],
   "source": [
    "all_tokens = []\n",
    "for sentence in example_sentences:\n",
    "    tokens = tokenizer.tokenize(sentence)\n",
    "    tokens = ['[CLS]'] + tokens + ['[SEP]']\n",
    "    var_len = abs(len(tokens) - 20)\n",
    "    tokens = tokens + ['[PAD]']*var_len\n",
    "    print(len(sentence.split()), len(tokens))\n",
    "    print(tokens)\n",
    "    all_tokens.append(tokens)"
   ]
  },
  {
   "cell_type": "code",
   "execution_count": 33,
   "id": "3f27772e-38ad-406e-a3de-5514771ad8b9",
   "metadata": {},
   "outputs": [],
   "source": [
    "ids = []\n",
    "for tokens in all_tokens:\n",
    "    token_ids = tokenizer.convert_tokens_to_ids(tokens)\n",
    "    ids.append(token_ids)"
   ]
  },
  {
   "cell_type": "code",
   "execution_count": 34,
   "id": "c7b267b7-756a-4ed5-9168-d2a730d2b6da",
   "metadata": {},
   "outputs": [],
   "source": [
    "mask = []\n",
    "for token_ids in ids:\n",
    "    attention_mask = [1 if i!= 0 else 0 for i in token_ids] \n",
    "    mask.append(attention_mask)"
   ]
  },
  {
   "cell_type": "code",
   "execution_count": 35,
   "id": "3c988e5e-aaf5-4eab-853e-a968bcfc2295",
   "metadata": {},
   "outputs": [
    {
     "data": {
      "text/plain": [
       "([[101,\n",
       "   2016,\n",
       "   2003,\n",
       "   1037,\n",
       "   3698,\n",
       "   19738,\n",
       "   6826,\n",
       "   2075,\n",
       "   3992,\n",
       "   1998,\n",
       "   2573,\n",
       "   1999,\n",
       "   2662,\n",
       "   102,\n",
       "   0,\n",
       "   0,\n",
       "   0,\n",
       "   0,\n",
       "   0,\n",
       "   0],\n",
       "  [101,\n",
       "   1045,\n",
       "   2572,\n",
       "   1037,\n",
       "   6071,\n",
       "   999,\n",
       "   5292,\n",
       "   3270,\n",
       "   3270,\n",
       "   3270,\n",
       "   102,\n",
       "   0,\n",
       "   0,\n",
       "   0,\n",
       "   0,\n",
       "   0,\n",
       "   0,\n",
       "   0,\n",
       "   0,\n",
       "   0]],\n",
       " [[1, 1, 1, 1, 1, 1, 1, 1, 1, 1, 1, 1, 1, 1, 0, 0, 0, 0, 0, 0],\n",
       "  [1, 1, 1, 1, 1, 1, 1, 1, 1, 1, 1, 0, 0, 0, 0, 0, 0, 0, 0, 0]])"
      ]
     },
     "execution_count": 35,
     "metadata": {},
     "output_type": "execute_result"
    }
   ],
   "source": [
    "ids, mask"
   ]
  },
  {
   "cell_type": "code",
   "execution_count": 38,
   "id": "ca23a49a-98c7-4d27-b1a7-9677522ec1ca",
   "metadata": {},
   "outputs": [
    {
     "data": {
      "text/plain": [
       "(torch.Size([2, 20]),\n",
       " tensor([[1, 1, 1, 1, 1, 1, 1, 1, 1, 1, 1, 1, 1, 1, 0, 0, 0, 0, 0, 0],\n",
       "         [1, 1, 1, 1, 1, 1, 1, 1, 1, 1, 1, 0, 0, 0, 0, 0, 0, 0, 0, 0]]))"
      ]
     },
     "execution_count": 38,
     "metadata": {},
     "output_type": "execute_result"
    }
   ],
   "source": [
    "mask = torch.tensor(mask)\n",
    "mask.shape, mask"
   ]
  },
  {
   "cell_type": "code",
   "execution_count": 39,
   "id": "13dc6fb3-2aeb-4bad-9528-fe59078a7159",
   "metadata": {},
   "outputs": [
    {
     "data": {
      "text/plain": [
       "(torch.Size([2, 20]),\n",
       " tensor([[  101,  2016,  2003,  1037,  3698, 19738,  6826,  2075,  3992,  1998,\n",
       "           2573,  1999,  2662,   102,     0,     0,     0,     0,     0,     0],\n",
       "         [  101,  1045,  2572,  1037,  6071,   999,  5292,  3270,  3270,  3270,\n",
       "            102,     0,     0,     0,     0,     0,     0,     0,     0,     0]]))"
      ]
     },
     "execution_count": 39,
     "metadata": {},
     "output_type": "execute_result"
    }
   ],
   "source": [
    "ids = torch.tensor(ids)\n",
    "ids.shape, ids"
   ]
  },
  {
   "cell_type": "code",
   "execution_count": 40,
   "id": "6a4ceed0-8d74-4711-91c5-a535feabaebf",
   "metadata": {},
   "outputs": [],
   "source": [
    "output = model(ids, mask)"
   ]
  },
  {
   "cell_type": "code",
   "execution_count": 41,
   "id": "4d0bf369-c6fb-4849-ae20-7d858c70957e",
   "metadata": {},
   "outputs": [
    {
     "data": {
      "text/plain": [
       "(torch.Size([2, 20, 768]),\n",
       " tensor([[[-0.1925,  0.1684, -0.4252,  ..., -0.2599,  0.3736,  0.0529],\n",
       "          [ 0.2417, -0.2748, -0.4909,  ...,  0.1372,  0.3408, -0.4655],\n",
       "          [-0.0871,  0.0837,  0.2605,  ..., -0.4635, -0.0462,  0.2621],\n",
       "          ...,\n",
       "          [-0.2704, -0.0269, -0.3106,  ...,  0.4387,  0.5628, -0.4095],\n",
       "          [-0.0849, -0.2977,  0.1915,  ..., -0.0258, -0.1268,  0.2498],\n",
       "          [-0.1086, -0.2620,  0.0094,  ..., -0.0239, -0.1561,  0.4143]],\n",
       " \n",
       "         [[ 0.0552,  0.3124,  0.0049,  ..., -0.3497,  0.1501,  0.4177],\n",
       "          [ 0.3221,  0.5422, -0.1247,  ..., -0.0987,  0.7055,  0.2329],\n",
       "          [ 0.3661,  0.6840,  0.1676,  ..., -0.3840,  0.7070,  0.0479],\n",
       "          ...,\n",
       "          [ 0.2076,  0.2493,  0.7378,  ...,  0.1297, -0.0354,  0.0881],\n",
       "          [ 0.3487,  0.3229,  0.7750,  ...,  0.1336, -0.0592, -0.0942],\n",
       "          [ 0.1594,  0.3179,  0.7994,  ...,  0.1152, -0.0669,  0.1130]]],\n",
       "        grad_fn=<NativeLayerNormBackward0>))"
      ]
     },
     "execution_count": 41,
     "metadata": {},
     "output_type": "execute_result"
    }
   ],
   "source": [
    "output[0].shape, output[0]"
   ]
  },
  {
   "cell_type": "code",
   "execution_count": 42,
   "id": "107d5d71-8a9e-4a87-98f0-08d300f4766b",
   "metadata": {},
   "outputs": [
    {
     "data": {
      "text/plain": [
       "(torch.Size([2, 768]),\n",
       " tensor([[-0.9531, -0.4914, -0.8872,  ..., -0.4155, -0.6854,  0.9550],\n",
       "         [-0.9058, -0.4621, -0.8835,  ..., -0.6585, -0.7275,  0.9255]],\n",
       "        grad_fn=<TanhBackward0>))"
      ]
     },
     "execution_count": 42,
     "metadata": {},
     "output_type": "execute_result"
    }
   ],
   "source": [
    "output[1].shape, output[1]"
   ]
  },
  {
   "cell_type": "code",
   "execution_count": null,
   "id": "ccb1b414-c2ee-402e-9633-8c956ab02c29",
   "metadata": {},
   "outputs": [],
   "source": []
  }
 ],
 "metadata": {
  "kernelspec": {
   "display_name": "Python 3 (ipykernel)",
   "language": "python",
   "name": "python3"
  },
  "language_info": {
   "codemirror_mode": {
    "name": "ipython",
    "version": 3
   },
   "file_extension": ".py",
   "mimetype": "text/x-python",
   "name": "python",
   "nbconvert_exporter": "python",
   "pygments_lexer": "ipython3",
   "version": "3.10.12"
  }
 },
 "nbformat": 4,
 "nbformat_minor": 5
}
