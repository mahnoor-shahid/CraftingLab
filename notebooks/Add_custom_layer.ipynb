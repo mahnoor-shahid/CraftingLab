{
 "cells": [
  {
   "cell_type": "code",
   "execution_count": 190,
   "id": "b0604927-cb57-4860-b1a2-e90984ced2f5",
   "metadata": {},
   "outputs": [],
   "source": [
    "import pandas as pd\n",
    "import json\n",
    "import os\n",
    "\n",
    "import torch\n",
    "import torch.nn as nn\n",
    "\n",
    "from datasets import load_dataset, Dataset, DatasetDict\n",
    "from transformers import AutoTokenizer, DataCollatorWithPadding"
   ]
  },
  {
   "cell_type": "code",
   "execution_count": 49,
   "id": "093fee09-2482-4dbd-ab2d-31845d9f5495",
   "metadata": {},
   "outputs": [],
   "source": [
    "data_path = \"../data/archive/\"\n",
    "data = \"Sarcasm_Headlines_Dataset_v2.json\"\n",
    "# with open(data_path, 'r', encoding='utf-8') as file:\n",
    "#     data = [json.loads(json_object) for json_object in file]\n",
    "# df = pd.json_normalize(data)\n",
    "\n",
    "df = pd.read_json(os.path.join(data_path, data), lines=True)"
   ]
  },
  {
   "cell_type": "code",
   "execution_count": 50,
   "id": "dc795802-b088-42d9-9ac7-a2b1300bcf68",
   "metadata": {},
   "outputs": [
    {
     "data": {
      "text/html": [
       "<div>\n",
       "<style scoped>\n",
       "    .dataframe tbody tr th:only-of-type {\n",
       "        vertical-align: middle;\n",
       "    }\n",
       "\n",
       "    .dataframe tbody tr th {\n",
       "        vertical-align: top;\n",
       "    }\n",
       "\n",
       "    .dataframe thead th {\n",
       "        text-align: right;\n",
       "    }\n",
       "</style>\n",
       "<table border=\"1\" class=\"dataframe\">\n",
       "  <thead>\n",
       "    <tr style=\"text-align: right;\">\n",
       "      <th></th>\n",
       "      <th>is_sarcastic</th>\n",
       "      <th>headline</th>\n",
       "      <th>article_link</th>\n",
       "    </tr>\n",
       "  </thead>\n",
       "  <tbody>\n",
       "    <tr>\n",
       "      <th>0</th>\n",
       "      <td>1</td>\n",
       "      <td>thirtysomething scientists unveil doomsday clo...</td>\n",
       "      <td>https://www.theonion.com/thirtysomething-scien...</td>\n",
       "    </tr>\n",
       "    <tr>\n",
       "      <th>1</th>\n",
       "      <td>0</td>\n",
       "      <td>dem rep. totally nails why congress is falling...</td>\n",
       "      <td>https://www.huffingtonpost.com/entry/donna-edw...</td>\n",
       "    </tr>\n",
       "    <tr>\n",
       "      <th>2</th>\n",
       "      <td>0</td>\n",
       "      <td>eat your veggies: 9 deliciously different recipes</td>\n",
       "      <td>https://www.huffingtonpost.com/entry/eat-your-...</td>\n",
       "    </tr>\n",
       "    <tr>\n",
       "      <th>3</th>\n",
       "      <td>1</td>\n",
       "      <td>inclement weather prevents liar from getting t...</td>\n",
       "      <td>https://local.theonion.com/inclement-weather-p...</td>\n",
       "    </tr>\n",
       "    <tr>\n",
       "      <th>4</th>\n",
       "      <td>1</td>\n",
       "      <td>mother comes pretty close to using word 'strea...</td>\n",
       "      <td>https://www.theonion.com/mother-comes-pretty-c...</td>\n",
       "    </tr>\n",
       "    <tr>\n",
       "      <th>...</th>\n",
       "      <td>...</td>\n",
       "      <td>...</td>\n",
       "      <td>...</td>\n",
       "    </tr>\n",
       "    <tr>\n",
       "      <th>28614</th>\n",
       "      <td>1</td>\n",
       "      <td>jews to celebrate rosh hashasha or something</td>\n",
       "      <td>https://www.theonion.com/jews-to-celebrate-ros...</td>\n",
       "    </tr>\n",
       "    <tr>\n",
       "      <th>28615</th>\n",
       "      <td>1</td>\n",
       "      <td>internal affairs investigator disappointed con...</td>\n",
       "      <td>https://local.theonion.com/internal-affairs-in...</td>\n",
       "    </tr>\n",
       "    <tr>\n",
       "      <th>28616</th>\n",
       "      <td>0</td>\n",
       "      <td>the most beautiful acceptance speech this week...</td>\n",
       "      <td>https://www.huffingtonpost.com/entry/andrew-ah...</td>\n",
       "    </tr>\n",
       "    <tr>\n",
       "      <th>28617</th>\n",
       "      <td>1</td>\n",
       "      <td>mars probe destroyed by orbiting spielberg-gat...</td>\n",
       "      <td>https://www.theonion.com/mars-probe-destroyed-...</td>\n",
       "    </tr>\n",
       "    <tr>\n",
       "      <th>28618</th>\n",
       "      <td>1</td>\n",
       "      <td>dad clarifies this not a food stop</td>\n",
       "      <td>https://www.theonion.com/dad-clarifies-this-no...</td>\n",
       "    </tr>\n",
       "  </tbody>\n",
       "</table>\n",
       "<p>28619 rows × 3 columns</p>\n",
       "</div>"
      ],
      "text/plain": [
       "       is_sarcastic                                           headline  \\\n",
       "0                 1  thirtysomething scientists unveil doomsday clo...   \n",
       "1                 0  dem rep. totally nails why congress is falling...   \n",
       "2                 0  eat your veggies: 9 deliciously different recipes   \n",
       "3                 1  inclement weather prevents liar from getting t...   \n",
       "4                 1  mother comes pretty close to using word 'strea...   \n",
       "...             ...                                                ...   \n",
       "28614             1       jews to celebrate rosh hashasha or something   \n",
       "28615             1  internal affairs investigator disappointed con...   \n",
       "28616             0  the most beautiful acceptance speech this week...   \n",
       "28617             1  mars probe destroyed by orbiting spielberg-gat...   \n",
       "28618             1                 dad clarifies this not a food stop   \n",
       "\n",
       "                                            article_link  \n",
       "0      https://www.theonion.com/thirtysomething-scien...  \n",
       "1      https://www.huffingtonpost.com/entry/donna-edw...  \n",
       "2      https://www.huffingtonpost.com/entry/eat-your-...  \n",
       "3      https://local.theonion.com/inclement-weather-p...  \n",
       "4      https://www.theonion.com/mother-comes-pretty-c...  \n",
       "...                                                  ...  \n",
       "28614  https://www.theonion.com/jews-to-celebrate-ros...  \n",
       "28615  https://local.theonion.com/internal-affairs-in...  \n",
       "28616  https://www.huffingtonpost.com/entry/andrew-ah...  \n",
       "28617  https://www.theonion.com/mars-probe-destroyed-...  \n",
       "28618  https://www.theonion.com/dad-clarifies-this-no...  \n",
       "\n",
       "[28619 rows x 3 columns]"
      ]
     },
     "execution_count": 50,
     "metadata": {},
     "output_type": "execute_result"
    }
   ],
   "source": [
    "df"
   ]
  },
  {
   "cell_type": "code",
   "execution_count": 95,
   "id": "ed5e55c4-bb2f-46b6-8e75-0e46e3dd8ff2",
   "metadata": {},
   "outputs": [],
   "source": [
    "SEED = 25"
   ]
  },
  {
   "cell_type": "code",
   "execution_count": 192,
   "id": "c9454a13-f386-44ff-a3c6-6391b1954ec5",
   "metadata": {},
   "outputs": [],
   "source": [
    "dataset_HF = load_dataset(path=data_path, data_files=data)\n",
    "\n",
    "dataset_HF = dataset_HF.remove_columns(['article_link'])\n",
    "\n",
    "\n",
    "dataset_HF.set_format('pandas')\n",
    "dataset_HF = dataset_HF['train'][:]\n",
    "\n",
    "dataset_HF.drop_duplicates(subset=['headline'],inplace=True)\n",
    "dataset_HF.reset_index(drop=True, inplace=True)\n",
    "\n",
    "dataset_HF = Dataset.from_pandas(dataset_HF)"
   ]
  },
  {
   "cell_type": "code",
   "execution_count": 193,
   "id": "10b54ae4-f819-4f77-8d2e-307fbd4fb08b",
   "metadata": {},
   "outputs": [
    {
     "data": {
      "text/plain": [
       "Dataset({\n",
       "    features: ['is_sarcastic', 'headline'],\n",
       "    num_rows: 28503\n",
       "})"
      ]
     },
     "execution_count": 193,
     "metadata": {},
     "output_type": "execute_result"
    }
   ],
   "source": [
    "dataset_HF"
   ]
  },
  {
   "cell_type": "code",
   "execution_count": 194,
   "id": "60fe6983-47f2-44fb-8d3d-7a7fee061fd4",
   "metadata": {},
   "outputs": [],
   "source": [
    "train_test_split = dataset_HF.train_test_split(test_size=0.2, seed=SEED)"
   ]
  },
  {
   "cell_type": "code",
   "execution_count": 195,
   "id": "69512110-e7d1-4b74-86f1-b9b86359700a",
   "metadata": {},
   "outputs": [
    {
     "data": {
      "text/plain": [
       "DatasetDict({\n",
       "    train: Dataset({\n",
       "        features: ['is_sarcastic', 'headline'],\n",
       "        num_rows: 22802\n",
       "    })\n",
       "    test: Dataset({\n",
       "        features: ['is_sarcastic', 'headline'],\n",
       "        num_rows: 5701\n",
       "    })\n",
       "})"
      ]
     },
     "execution_count": 195,
     "metadata": {},
     "output_type": "execute_result"
    }
   ],
   "source": [
    "train_test_split"
   ]
  },
  {
   "cell_type": "code",
   "execution_count": 196,
   "id": "8de26f65-018e-4ec3-a5b7-1656edbd687f",
   "metadata": {},
   "outputs": [],
   "source": [
    "valid_test_split = train_test_split['test'].train_test_split(test_size=0.5, seed=SEED)"
   ]
  },
  {
   "cell_type": "code",
   "execution_count": 197,
   "id": "767a19d8-6e0d-4785-bc95-93b587d14194",
   "metadata": {},
   "outputs": [
    {
     "data": {
      "text/plain": [
       "DatasetDict({\n",
       "    train: Dataset({\n",
       "        features: ['is_sarcastic', 'headline'],\n",
       "        num_rows: 2850\n",
       "    })\n",
       "    test: Dataset({\n",
       "        features: ['is_sarcastic', 'headline'],\n",
       "        num_rows: 2851\n",
       "    })\n",
       "})"
      ]
     },
     "execution_count": 197,
     "metadata": {},
     "output_type": "execute_result"
    }
   ],
   "source": [
    "valid_test_split"
   ]
  },
  {
   "cell_type": "code",
   "execution_count": 198,
   "id": "1180a483-d9d7-4125-9633-3012f8a27705",
   "metadata": {},
   "outputs": [],
   "source": [
    "dataset_HF = DatasetDict({\n",
    "    'train': train_test_split['train'],\n",
    "    'validation': valid_test_split['train'],\n",
    "    'test': valid_test_split['test']\n",
    "})"
   ]
  },
  {
   "cell_type": "code",
   "execution_count": 199,
   "id": "4a07e93a-b2f5-4523-9dbd-2ae3016acf20",
   "metadata": {},
   "outputs": [
    {
     "data": {
      "text/plain": [
       "DatasetDict({\n",
       "    train: Dataset({\n",
       "        features: ['is_sarcastic', 'headline'],\n",
       "        num_rows: 22802\n",
       "    })\n",
       "    validation: Dataset({\n",
       "        features: ['is_sarcastic', 'headline'],\n",
       "        num_rows: 2850\n",
       "    })\n",
       "    test: Dataset({\n",
       "        features: ['is_sarcastic', 'headline'],\n",
       "        num_rows: 2851\n",
       "    })\n",
       "})"
      ]
     },
     "execution_count": 199,
     "metadata": {},
     "output_type": "execute_result"
    }
   ],
   "source": [
    "dataset_HF"
   ]
  },
  {
   "cell_type": "code",
   "execution_count": 200,
   "id": "f10cf031-8bb4-4134-ae73-c778f13bdcbb",
   "metadata": {},
   "outputs": [],
   "source": [
    "CHECKPOINT=\"distilbert-base-uncased\"\n",
    "MAX_SEQUENCE_LENGTH=512\n",
    "EMBED_VECTOR_SIZE=768\n",
    "\n",
    "tokenizer = AutoTokenizer.from_pretrained(CHECKPOINT)\n",
    "tokenizer.model_max_length = MAX_SEQUENCE_LENGTH"
   ]
  },
  {
   "cell_type": "code",
   "execution_count": 206,
   "id": "f3279059-5e8a-4560-b6da-ec089e8a4be9",
   "metadata": {},
   "outputs": [
    {
     "data": {
      "application/vnd.jupyter.widget-view+json": {
       "model_id": "67bf91adafe74d7a88a6541cd421ffdd",
       "version_major": 2,
       "version_minor": 0
      },
      "text/plain": [
       "Map:   0%|          | 0/22802 [00:00<?, ? examples/s]"
      ]
     },
     "metadata": {},
     "output_type": "display_data"
    },
    {
     "data": {
      "application/vnd.jupyter.widget-view+json": {
       "model_id": "bbe1d07c13f045d3892995afb22c73aa",
       "version_major": 2,
       "version_minor": 0
      },
      "text/plain": [
       "Map:   0%|          | 0/2850 [00:00<?, ? examples/s]"
      ]
     },
     "metadata": {},
     "output_type": "display_data"
    },
    {
     "data": {
      "application/vnd.jupyter.widget-view+json": {
       "model_id": "1c48eaa7ad91414ea29ad4e6c3d5546f",
       "version_major": 2,
       "version_minor": 0
      },
      "text/plain": [
       "Map:   0%|          | 0/2851 [00:00<?, ? examples/s]"
      ]
     },
     "metadata": {},
     "output_type": "display_data"
    }
   ],
   "source": [
    "def tokenize(batch):\n",
    "    return tokenizer(batch['headline'], truncation=True, max_length=MAX_SEQUENCE_LENGTH)\n",
    "\n",
    "tokenized_dataset = dataset_HF.map(tokenize, batched=True)"
   ]
  },
  {
   "cell_type": "code",
   "execution_count": 185,
   "id": "6d853aa0-f0c9-4687-b472-9825c38a057f",
   "metadata": {},
   "outputs": [
    {
     "data": {
      "text/plain": [
       "DatasetDict({\n",
       "    train: Dataset({\n",
       "        features: ['is_sarcastic', 'headline', 'input_ids', 'attention_mask'],\n",
       "        num_rows: 22802\n",
       "    })\n",
       "    validation: Dataset({\n",
       "        features: ['is_sarcastic', 'headline', 'input_ids', 'attention_mask'],\n",
       "        num_rows: 2850\n",
       "    })\n",
       "    test: Dataset({\n",
       "        features: ['is_sarcastic', 'headline', 'input_ids', 'attention_mask'],\n",
       "        num_rows: 2851\n",
       "    })\n",
       "})"
      ]
     },
     "execution_count": 185,
     "metadata": {},
     "output_type": "execute_result"
    }
   ],
   "source": [
    "tokenized_dataset"
   ]
  },
  {
   "cell_type": "code",
   "execution_count": 186,
   "id": "ef95bc86-1f51-4fc1-98d8-b06a02dbf44c",
   "metadata": {},
   "outputs": [],
   "source": [
    "tokenized_dataset = tokenized_dataset.set_format('torch', columns=['input_ids', 'attention_mask', 'is_sarcastic'])"
   ]
  },
  {
   "cell_type": "code",
   "execution_count": 191,
   "id": "30b7e0bf-4b45-4276-a2c1-b359d805eb72",
   "metadata": {},
   "outputs": [],
   "source": [
    "dataCollator = DataCollatorWithPadding(tokenizer=tokenizer)"
   ]
  },
  {
   "cell_type": "code",
   "execution_count": null,
   "id": "275efe6f-6ea6-405b-b38c-ffaa527c30f2",
   "metadata": {},
   "outputs": [],
   "source": []
  }
 ],
 "metadata": {
  "kernelspec": {
   "display_name": "Python 3 (ipykernel)",
   "language": "python",
   "name": "python3"
  },
  "language_info": {
   "codemirror_mode": {
    "name": "ipython",
    "version": 3
   },
   "file_extension": ".py",
   "mimetype": "text/x-python",
   "name": "python",
   "nbconvert_exporter": "python",
   "pygments_lexer": "ipython3",
   "version": "3.10.12"
  }
 },
 "nbformat": 4,
 "nbformat_minor": 5
}
