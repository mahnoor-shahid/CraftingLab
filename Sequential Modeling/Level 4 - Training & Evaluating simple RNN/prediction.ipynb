{
 "cells": [
  {
   "cell_type": "code",
   "execution_count": 2,
   "metadata": {},
   "outputs": [],
   "source": [
    "# Step 1: Import Libraries and Load the Model\n",
    "import numpy as np\n",
    "import tensorflow as tf\n",
    "from tensorflow.keras.datasets import imdb\n",
    "from tensorflow.keras.preprocessing import sequence\n",
    "from tensorflow.keras.models import load_model"
   ]
  },
  {
   "cell_type": "code",
   "execution_count": 3,
   "metadata": {},
   "outputs": [],
   "source": [
    "\n",
    "# Load the IMDB dataset word index\n",
    "word_index = imdb.get_word_index()\n",
    "reverse_word_index = {value: key for key, value in word_index.items()}"
   ]
  },
  {
   "cell_type": "code",
   "execution_count": 6,
   "metadata": {},
   "outputs": [
    {
     "name": "stderr",
     "output_type": "stream",
     "text": [
      "WARNING:absl:Compiled the loaded model, but the compiled metrics have yet to be built. `model.compile_metrics` will be empty until you train or evaluate the model.\n"
     ]
    },
    {
     "data": {
      "text/html": [
       "<pre style=\"white-space:pre;overflow-x:auto;line-height:normal;font-family:Menlo,'DejaVu Sans Mono',consolas,'Courier New',monospace\"><span style=\"font-weight: bold\">Model: \"sequential\"</span>\n",
       "</pre>\n"
      ],
      "text/plain": [
       "\u001b[1mModel: \"sequential\"\u001b[0m\n"
      ]
     },
     "metadata": {},
     "output_type": "display_data"
    },
    {
     "data": {
      "text/html": [
       "<pre style=\"white-space:pre;overflow-x:auto;line-height:normal;font-family:Menlo,'DejaVu Sans Mono',consolas,'Courier New',monospace\">┏━━━━━━━━━━━━━━━━━━━━━━━━━━━━━━━━━┳━━━━━━━━━━━━━━━━━━━━━━━━┳━━━━━━━━━━━━━━━┓\n",
       "┃<span style=\"font-weight: bold\"> Layer (type)                    </span>┃<span style=\"font-weight: bold\"> Output Shape           </span>┃<span style=\"font-weight: bold\">       Param # </span>┃\n",
       "┡━━━━━━━━━━━━━━━━━━━━━━━━━━━━━━━━━╇━━━━━━━━━━━━━━━━━━━━━━━━╇━━━━━━━━━━━━━━━┩\n",
       "│ embedding (<span style=\"color: #0087ff; text-decoration-color: #0087ff\">Embedding</span>)           │ (<span style=\"color: #00af00; text-decoration-color: #00af00\">32</span>, <span style=\"color: #00af00; text-decoration-color: #00af00\">500</span>, <span style=\"color: #00af00; text-decoration-color: #00af00\">128</span>)         │     <span style=\"color: #00af00; text-decoration-color: #00af00\">1,280,000</span> │\n",
       "├─────────────────────────────────┼────────────────────────┼───────────────┤\n",
       "│ simple_rnn (<span style=\"color: #0087ff; text-decoration-color: #0087ff\">SimpleRNN</span>)          │ (<span style=\"color: #00af00; text-decoration-color: #00af00\">32</span>, <span style=\"color: #00af00; text-decoration-color: #00af00\">128</span>)              │        <span style=\"color: #00af00; text-decoration-color: #00af00\">32,896</span> │\n",
       "├─────────────────────────────────┼────────────────────────┼───────────────┤\n",
       "│ dense (<span style=\"color: #0087ff; text-decoration-color: #0087ff\">Dense</span>)                   │ (<span style=\"color: #00af00; text-decoration-color: #00af00\">32</span>, <span style=\"color: #00af00; text-decoration-color: #00af00\">1</span>)                │           <span style=\"color: #00af00; text-decoration-color: #00af00\">129</span> │\n",
       "└─────────────────────────────────┴────────────────────────┴───────────────┘\n",
       "</pre>\n"
      ],
      "text/plain": [
       "┏━━━━━━━━━━━━━━━━━━━━━━━━━━━━━━━━━┳━━━━━━━━━━━━━━━━━━━━━━━━┳━━━━━━━━━━━━━━━┓\n",
       "┃\u001b[1m \u001b[0m\u001b[1mLayer (type)                   \u001b[0m\u001b[1m \u001b[0m┃\u001b[1m \u001b[0m\u001b[1mOutput Shape          \u001b[0m\u001b[1m \u001b[0m┃\u001b[1m \u001b[0m\u001b[1m      Param #\u001b[0m\u001b[1m \u001b[0m┃\n",
       "┡━━━━━━━━━━━━━━━━━━━━━━━━━━━━━━━━━╇━━━━━━━━━━━━━━━━━━━━━━━━╇━━━━━━━━━━━━━━━┩\n",
       "│ embedding (\u001b[38;5;33mEmbedding\u001b[0m)           │ (\u001b[38;5;34m32\u001b[0m, \u001b[38;5;34m500\u001b[0m, \u001b[38;5;34m128\u001b[0m)         │     \u001b[38;5;34m1,280,000\u001b[0m │\n",
       "├─────────────────────────────────┼────────────────────────┼───────────────┤\n",
       "│ simple_rnn (\u001b[38;5;33mSimpleRNN\u001b[0m)          │ (\u001b[38;5;34m32\u001b[0m, \u001b[38;5;34m128\u001b[0m)              │        \u001b[38;5;34m32,896\u001b[0m │\n",
       "├─────────────────────────────────┼────────────────────────┼───────────────┤\n",
       "│ dense (\u001b[38;5;33mDense\u001b[0m)                   │ (\u001b[38;5;34m32\u001b[0m, \u001b[38;5;34m1\u001b[0m)                │           \u001b[38;5;34m129\u001b[0m │\n",
       "└─────────────────────────────────┴────────────────────────┴───────────────┘\n"
      ]
     },
     "metadata": {},
     "output_type": "display_data"
    },
    {
     "data": {
      "text/html": [
       "<pre style=\"white-space:pre;overflow-x:auto;line-height:normal;font-family:Menlo,'DejaVu Sans Mono',consolas,'Courier New',monospace\"><span style=\"font-weight: bold\"> Total params: </span><span style=\"color: #00af00; text-decoration-color: #00af00\">1,313,027</span> (5.01 MB)\n",
       "</pre>\n"
      ],
      "text/plain": [
       "\u001b[1m Total params: \u001b[0m\u001b[38;5;34m1,313,027\u001b[0m (5.01 MB)\n"
      ]
     },
     "metadata": {},
     "output_type": "display_data"
    },
    {
     "data": {
      "text/html": [
       "<pre style=\"white-space:pre;overflow-x:auto;line-height:normal;font-family:Menlo,'DejaVu Sans Mono',consolas,'Courier New',monospace\"><span style=\"font-weight: bold\"> Trainable params: </span><span style=\"color: #00af00; text-decoration-color: #00af00\">1,313,025</span> (5.01 MB)\n",
       "</pre>\n"
      ],
      "text/plain": [
       "\u001b[1m Trainable params: \u001b[0m\u001b[38;5;34m1,313,025\u001b[0m (5.01 MB)\n"
      ]
     },
     "metadata": {},
     "output_type": "display_data"
    },
    {
     "data": {
      "text/html": [
       "<pre style=\"white-space:pre;overflow-x:auto;line-height:normal;font-family:Menlo,'DejaVu Sans Mono',consolas,'Courier New',monospace\"><span style=\"font-weight: bold\"> Non-trainable params: </span><span style=\"color: #00af00; text-decoration-color: #00af00\">0</span> (0.00 B)\n",
       "</pre>\n"
      ],
      "text/plain": [
       "\u001b[1m Non-trainable params: \u001b[0m\u001b[38;5;34m0\u001b[0m (0.00 B)\n"
      ]
     },
     "metadata": {},
     "output_type": "display_data"
    },
    {
     "data": {
      "text/html": [
       "<pre style=\"white-space:pre;overflow-x:auto;line-height:normal;font-family:Menlo,'DejaVu Sans Mono',consolas,'Courier New',monospace\"><span style=\"font-weight: bold\"> Optimizer params: </span><span style=\"color: #00af00; text-decoration-color: #00af00\">2</span> (12.00 B)\n",
       "</pre>\n"
      ],
      "text/plain": [
       "\u001b[1m Optimizer params: \u001b[0m\u001b[38;5;34m2\u001b[0m (12.00 B)\n"
      ]
     },
     "metadata": {},
     "output_type": "display_data"
    }
   ],
   "source": [
    "# Load the pre-trained model with ReLU activation\n",
    "model = load_model('simple_rnn.h5')\n",
    "model.summary()"
   ]
  },
  {
   "cell_type": "code",
   "execution_count": 7,
   "metadata": {},
   "outputs": [
    {
     "data": {
      "text/plain": [
       "[array([[ 3.95536907e-02, -4.77492601e-01,  5.23274764e-02, ...,\n",
       "          2.74003912e-02, -6.14079833e-01,  3.71081561e-01],\n",
       "        [-2.32503042e-02, -2.63389070e-02, -9.66220570e-04, ...,\n",
       "          6.61285371e-02, -1.15151769e-02,  1.41917756e-02],\n",
       "        [ 1.17764369e-01,  1.10042796e-01,  1.55890897e-01, ...,\n",
       "         -1.51978642e-01,  4.29412983e-02, -1.08204864e-01],\n",
       "        ...,\n",
       "        [ 3.13463025e-02, -8.76283273e-02, -1.38451848e-02, ...,\n",
       "         -7.79925883e-02,  3.77766639e-02, -6.47169128e-02],\n",
       "        [-2.45759487e-02, -3.56022618e-04, -7.60335475e-02, ...,\n",
       "          7.13040605e-02, -1.02285650e-02,  5.54675274e-02],\n",
       "        [ 1.60190806e-01, -1.83303818e-01,  9.86029059e-02, ...,\n",
       "         -2.21490949e-01, -1.45487357e-02, -1.52862504e-01]], dtype=float32),\n",
       " array([[-0.02409056,  0.09520079, -0.11458249, ...,  0.1622495 ,\n",
       "         -0.06050183,  0.01913525],\n",
       "        [-0.16095027, -0.04260754, -0.0420617 , ..., -0.14570004,\n",
       "          0.03211688,  0.0158162 ],\n",
       "        [ 0.13419996, -0.18057466, -0.06499851, ...,  0.04159484,\n",
       "          0.12377342,  0.08582185],\n",
       "        ...,\n",
       "        [ 0.06220833,  0.04670302,  0.11560308, ..., -0.13199897,\n",
       "         -0.10054238, -0.14023802],\n",
       "        [ 0.09051554,  0.01329197,  0.129029  , ..., -0.0447379 ,\n",
       "         -0.00827153,  0.04766475],\n",
       "        [-0.12283871,  0.02061534,  0.07383097, ..., -0.03665942,\n",
       "         -0.10828783,  0.16418107]], dtype=float32),\n",
       " array([[ 0.02643717, -0.02869288,  0.01614608, ..., -0.03115406,\n",
       "         -0.07645717, -0.06347235],\n",
       "        [ 0.10658526,  0.03352987, -0.15111293, ..., -0.01942838,\n",
       "          0.03244953, -0.00848007],\n",
       "        [-0.02748798, -0.12670775, -0.01625425, ..., -0.04118245,\n",
       "          0.07023583,  0.02949625],\n",
       "        ...,\n",
       "        [-0.01053978,  0.25718343,  0.02584441, ...,  0.04286301,\n",
       "         -0.11886323, -0.09928222],\n",
       "        [-0.13345289,  0.05732492, -0.12708965, ..., -0.07853086,\n",
       "         -0.06120142, -0.14924128],\n",
       "        [-0.0550286 , -0.01949981,  0.07232144, ...,  0.03518681,\n",
       "          0.16664152,  0.10294654]], dtype=float32),\n",
       " array([ 0.0318416 , -0.07994875, -0.03290394,  0.01553349,  0.07698845,\n",
       "        -0.02091828, -0.04557442, -0.06049261, -0.04326441,  0.00609164,\n",
       "         0.01159164,  0.07579075,  0.05813524, -0.02082305, -0.0049021 ,\n",
       "        -0.00358575, -0.00571178,  0.07969464,  0.00407337, -0.04950524,\n",
       "        -0.04925946, -0.01515859, -0.01292059, -0.04495625, -0.01352998,\n",
       "         0.01167805,  0.07671658, -0.04956689, -0.01036302, -0.04917546,\n",
       "         0.00280178, -0.01609224, -0.04207256,  0.00993359,  0.00203851,\n",
       "        -0.05992833, -0.04090267, -0.06709357,  0.06967268, -0.00360474,\n",
       "        -0.00690535, -0.0084473 , -0.0394799 , -0.02580027,  0.06777513,\n",
       "        -0.02272859,  0.05352721, -0.04516748,  0.01868343, -0.03081075,\n",
       "         0.04193607, -0.03551557, -0.00650099, -0.04505274, -0.05944471,\n",
       "         0.04662023, -0.03264629,  0.0037276 ,  0.02613884,  0.01876414,\n",
       "         0.04826263,  0.00397842,  0.07378413, -0.04668919,  0.00555038,\n",
       "        -0.05516228,  0.04625186, -0.07736381,  0.00231222, -0.04187036,\n",
       "        -0.05797426,  0.02314991, -0.02990325,  0.00869097,  0.00943847,\n",
       "         0.06190439,  0.00727177,  0.02812898, -0.04423397, -0.05413977,\n",
       "        -0.06895289, -0.02718997,  0.00980814,  0.00310977, -0.0297572 ,\n",
       "        -0.07442689, -0.06151733, -0.05920819, -0.0110165 ,  0.05859841,\n",
       "        -0.03751833, -0.01631589,  0.02027049,  0.03863041, -0.03598045,\n",
       "         0.00765008,  0.00468802, -0.03413706,  0.07831409, -0.02092012,\n",
       "        -0.04902483,  0.00257009,  0.03776875, -0.05158121, -0.08256444,\n",
       "        -0.03539985, -0.01343154, -0.06152105,  0.04951975,  0.07993872,\n",
       "        -0.03404582, -0.02195849,  0.01852093, -0.04763225,  0.00344105,\n",
       "        -0.02753601, -0.01832387, -0.07519116,  0.01972044,  0.05744794,\n",
       "         0.00773347, -0.04556792,  0.01117503, -0.04612744, -0.01835105,\n",
       "         0.07224516, -0.04613188, -0.0799281 ], dtype=float32),\n",
       " array([[ 0.16042177],\n",
       "        [ 0.04353452],\n",
       "        [-0.07191067],\n",
       "        [-0.15998676],\n",
       "        [ 0.101932  ],\n",
       "        [ 0.15752222],\n",
       "        [-0.19642518],\n",
       "        [-0.30135426],\n",
       "        [-0.17158018],\n",
       "        [-0.05561322],\n",
       "        [-0.26727617],\n",
       "        [-0.30864725],\n",
       "        [ 0.031626  ],\n",
       "        [-0.20372914],\n",
       "        [ 0.02288538],\n",
       "        [-0.19526382],\n",
       "        [-1.0629703 ],\n",
       "        [-0.14696221],\n",
       "        [ 0.19733714],\n",
       "        [-0.0606564 ],\n",
       "        [ 0.10861764],\n",
       "        [-0.09144787],\n",
       "        [-0.21755418],\n",
       "        [ 0.11819629],\n",
       "        [ 0.01099201],\n",
       "        [-0.02687569],\n",
       "        [-0.03091057],\n",
       "        [ 0.08173273],\n",
       "        [ 0.3787109 ],\n",
       "        [-0.0189439 ],\n",
       "        [-0.16733639],\n",
       "        [ 0.01700867],\n",
       "        [-0.09135448],\n",
       "        [ 0.13379234],\n",
       "        [-0.33301166],\n",
       "        [-0.23922814],\n",
       "        [ 0.08665723],\n",
       "        [-0.23560725],\n",
       "        [ 0.08092465],\n",
       "        [-0.04945767],\n",
       "        [-0.07887653],\n",
       "        [-0.13640821],\n",
       "        [ 0.4220519 ],\n",
       "        [-0.08073979],\n",
       "        [ 0.05062313],\n",
       "        [-0.06982448],\n",
       "        [-0.14633887],\n",
       "        [-0.13423203],\n",
       "        [-0.18969741],\n",
       "        [ 0.2188933 ],\n",
       "        [-0.1269554 ],\n",
       "        [-0.11954759],\n",
       "        [-0.13835101],\n",
       "        [-0.14484575],\n",
       "        [-0.05173333],\n",
       "        [ 0.41032705],\n",
       "        [ 0.01330126],\n",
       "        [ 0.0966227 ],\n",
       "        [ 0.20532951],\n",
       "        [ 0.08527736],\n",
       "        [-0.12497194],\n",
       "        [ 0.09365658],\n",
       "        [ 0.09793311],\n",
       "        [-0.04479066],\n",
       "        [-0.15148836],\n",
       "        [ 0.34988987],\n",
       "        [-0.16053016],\n",
       "        [-0.12638125],\n",
       "        [-0.1180955 ],\n",
       "        [-0.09564415],\n",
       "        [ 0.10117292],\n",
       "        [-0.06593421],\n",
       "        [-0.12726234],\n",
       "        [-0.06413852],\n",
       "        [ 0.06475879],\n",
       "        [-0.02412846],\n",
       "        [-0.17459086],\n",
       "        [-0.05418503],\n",
       "        [-0.61369616],\n",
       "        [-0.91734904],\n",
       "        [ 0.08117569],\n",
       "        [ 0.21779463],\n",
       "        [-0.12038282],\n",
       "        [-0.11063955],\n",
       "        [ 0.21716064],\n",
       "        [-0.16823955],\n",
       "        [ 0.01431805],\n",
       "        [-0.06920925],\n",
       "        [ 0.03015375],\n",
       "        [-0.08206914],\n",
       "        [-0.12798768],\n",
       "        [ 0.01041035],\n",
       "        [ 0.06300024],\n",
       "        [ 0.61008424],\n",
       "        [-0.00885103],\n",
       "        [ 0.35147476],\n",
       "        [-0.14555538],\n",
       "        [ 0.18426324],\n",
       "        [-0.06254933],\n",
       "        [-0.08031837],\n",
       "        [-0.0479569 ],\n",
       "        [-0.04308554],\n",
       "        [-0.0530026 ],\n",
       "        [ 0.3303874 ],\n",
       "        [-0.58835006],\n",
       "        [-0.07255147],\n",
       "        [ 0.11743025],\n",
       "        [-0.2008815 ],\n",
       "        [ 0.05451046],\n",
       "        [ 0.03238241],\n",
       "        [ 0.18323405],\n",
       "        [-0.1506084 ],\n",
       "        [ 0.18296182],\n",
       "        [-0.08431958],\n",
       "        [ 0.1816557 ],\n",
       "        [-0.06588764],\n",
       "        [ 0.11752301],\n",
       "        [-0.20682357],\n",
       "        [-0.25394964],\n",
       "        [ 0.10219548],\n",
       "        [ 0.10372347],\n",
       "        [ 0.11408757],\n",
       "        [ 0.05047833],\n",
       "        [ 0.14386979],\n",
       "        [-0.19859093],\n",
       "        [ 0.02941817],\n",
       "        [ 0.00947436],\n",
       "        [-0.25346258]], dtype=float32),\n",
       " array([-0.7586924], dtype=float32)]"
      ]
     },
     "execution_count": 7,
     "metadata": {},
     "output_type": "execute_result"
    }
   ],
   "source": [
    "model.get_weights()"
   ]
  },
  {
   "cell_type": "code",
   "execution_count": 8,
   "metadata": {},
   "outputs": [],
   "source": [
    "# Step 2: Helper Functions\n",
    "# Function to decode reviews\n",
    "def decode_review(encoded_review):\n",
    "    return ' '.join([reverse_word_index.get(i - 3, '?') for i in encoded_review])\n",
    "\n",
    "# Function to preprocess user input\n",
    "def preprocess_text(text):\n",
    "    words = text.lower().split()\n",
    "    encoded_review = [word_index.get(word, 2) + 3 for word in words]\n",
    "    padded_review = sequence.pad_sequences([encoded_review], maxlen=500)\n",
    "    return padded_review"
   ]
  },
  {
   "cell_type": "code",
   "execution_count": 9,
   "metadata": {},
   "outputs": [],
   "source": [
    "### Prediction  function\n",
    "\n",
    "def predict_sentiment(review):\n",
    "    preprocessed_input=preprocess_text(review)\n",
    "\n",
    "    prediction=model.predict(preprocessed_input)\n",
    "\n",
    "    sentiment = 'Positive' if prediction[0][0] > 0.5 else 'Negative'\n",
    "    \n",
    "    return sentiment, prediction[0][0]\n",
    "\n"
   ]
  },
  {
   "cell_type": "code",
   "execution_count": 10,
   "metadata": {},
   "outputs": [
    {
     "name": "stdout",
     "output_type": "stream",
     "text": [
      "\u001b[1m1/1\u001b[0m \u001b[32m━━━━━━━━━━━━━━━━━━━━\u001b[0m\u001b[37m\u001b[0m \u001b[1m0s\u001b[0m 280ms/step\n",
      "Review: This movie was fantastic! The acting was great and the plot was thrilling.\n",
      "Sentiment: Positive\n",
      "Prediction Score: 0.869862973690033\n"
     ]
    }
   ],
   "source": [
    "# Step 4: User Input and Prediction\n",
    "# Example review for prediction\n",
    "example_review = \"This movie was fantastic! The acting was great and the plot was thrilling.\"\n",
    "\n",
    "sentiment,score=predict_sentiment(example_review)\n",
    "\n",
    "print(f'Review: {example_review}')\n",
    "print(f'Sentiment: {sentiment}')\n",
    "print(f'Prediction Score: {score}')"
   ]
  },
  {
   "cell_type": "code",
   "execution_count": null,
   "metadata": {},
   "outputs": [],
   "source": []
  },
  {
   "cell_type": "code",
   "execution_count": null,
   "metadata": {},
   "outputs": [],
   "source": []
  },
  {
   "cell_type": "code",
   "execution_count": null,
   "metadata": {},
   "outputs": [],
   "source": []
  },
  {
   "cell_type": "code",
   "execution_count": null,
   "metadata": {},
   "outputs": [],
   "source": []
  }
 ],
 "metadata": {
  "kernelspec": {
   "display_name": "py_env",
   "language": "python",
   "name": "python3"
  },
  "language_info": {
   "codemirror_mode": {
    "name": "ipython",
    "version": 3
   },
   "file_extension": ".py",
   "mimetype": "text/x-python",
   "name": "python",
   "nbconvert_exporter": "python",
   "pygments_lexer": "ipython3",
   "version": "3.11.11"
  }
 },
 "nbformat": 4,
 "nbformat_minor": 2
}
