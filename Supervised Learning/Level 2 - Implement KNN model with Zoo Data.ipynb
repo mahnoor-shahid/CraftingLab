{
 "cells": [
  {
   "cell_type": "markdown",
   "id": "6a7c61dd-99eb-490b-a109-53de3e8ca475",
   "metadata": {},
   "source": [
    "## Problem Statement\n",
    "### Implement a KNN model to classify the animals into categories"
   ]
  },
  {
   "cell_type": "code",
   "execution_count": null,
   "id": "496cbf0c-fb56-4581-9b5c-6a6eb033224c",
   "metadata": {},
   "outputs": [],
   "source": []
  }
 ],
 "metadata": {
  "kernelspec": {
   "display_name": "Python 3 (ipykernel)",
   "language": "python",
   "name": "python3"
  },
  "language_info": {
   "codemirror_mode": {
    "name": "ipython",
    "version": 3
   },
   "file_extension": ".py",
   "mimetype": "text/x-python",
   "name": "python",
   "nbconvert_exporter": "python",
   "pygments_lexer": "ipython3",
   "version": "3.12.2"
  }
 },
 "nbformat": 4,
 "nbformat_minor": 5
}
